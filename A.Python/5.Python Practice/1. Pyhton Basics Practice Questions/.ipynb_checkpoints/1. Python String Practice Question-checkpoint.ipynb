{
 "cells": [
  {
   "cell_type": "markdown",
   "id": "96b9696f",
   "metadata": {},
   "source": [
    "# Python String Practice Question"
   ]
  },
  {
   "cell_type": "markdown",
   "id": "fad37b90",
   "metadata": {},
   "source": [
    "### Basic Level:\n",
    "- Concatenate two strings.\n",
    "- Find the length of a string.\n",
    "- Convert a string to lowercase.\n",
    "- Check if a string contains a specific substring.\n",
    "- Replace a substring in a string.\n",
    "- Count the occurrences of a specific character in a string.\n",
    "- Reverse a string.\n",
    "- Check if a string is numeric.\n",
    "- Remove leading and trailing whitespaces from a string.\n",
    "- Extract the first three characters from a string.\n",
    "\n",
    "### Intermediate Level:\n",
    "- Write a program to count the number of vowels in a given string.\n",
    "- Check if a string is a palindrome.\n",
    "- Capitalize the first letter of each word in a sentence.\n",
    "- Implement a function to find the index of the first occurrence of a character in a string.\n",
    "- Remove all vowels from a string.\n",
    "- Write a program to check if two strings are anagrams.\n",
    "- Implement a function to rotate a string (e.g., \"abc\" rotated by 1 becomes \"cab\").\n",
    "- Reverse words in a given sentence.\n",
    "- Convert a string to a list of words.\n",
    "- Implement a function to check if a string is a valid identifier (follows Python variable naming rules).\n",
    "\n",
    "### Advanced Level:\n",
    "- Implement a function to compress a string by counting repeated characters (e.g., \"aaabbb\" becomes \"a3b3\").\n",
    "- Write a program to find the longest common prefix of a list of strings.\n",
    "- Implement a function to perform string multiplication (e.g., \"abc\" * 3 = \"abcabcabc\").\n",
    "- Create a program to extract all email addresses from a given text.\n",
    "- Implement a function to find the second most frequent character in a string.\n",
    "- Write a program to check if a string is a valid IPv4 address.\n",
    "- Create a function to find the shortest palindrome that can be created by adding characters to the beginning of a string.\n",
    "- Implement a function to convert a Roman numeral to an integer.\n",
    "- Write a program to check if a string is a valid JSON.\n",
    "- Find the longest substring without repeating characters in a given string.\n",
    "\n",
    "### Expert Level:\n",
    "- Implement a function to perform basic regular expression matching.\n",
    "- Write a program to perform DNA sequence alignment.\n",
    "- Create a function to find the shortest superstring that contains all strings in a given list.\n",
    "- Implement the Rabin-Karp algorithm for string matching.\n",
    "- Write a program to generate all possible valid IP addresses from a given string.\n",
    "- Implement a function to perform fuzzy string matching.\n",
    "- Create a program to detect and correct spelling mistakes in a text.\n",
    "- Write a function to perform string interpolation (formatting) with named placeholders.\n",
    "- Implement a program to generate all possible valid parentheses combinations for a given number.\n",
    "- Create a function to find the longest repeating substring in a string."
   ]
  },
  {
   "cell_type": "markdown",
   "id": "dc9a5672-2da7-4ac6-901c-a1ba9d795cfa",
   "metadata": {},
   "source": [
    "### Basics"
   ]
  },
  {
   "cell_type": "markdown",
   "id": "a3dcd994-9e85-430a-bf66-679cf54a70a2",
   "metadata": {},
   "source": [
    "Q1.) Concat two string."
   ]
  },
  {
   "cell_type": "code",
   "execution_count": 7,
   "id": "f3445225-f771-4371-8e3e-11160c68808e",
   "metadata": {},
   "outputs": [
    {
     "name": "stdout",
     "output_type": "stream",
     "text": [
      "Hello Everyone! Welcome to Python Practice Session.\n"
     ]
    }
   ],
   "source": [
    "string1 = \"Hello Everyone!\"\n",
    "string2 = \"Welcome to Python Practice Session.\"\n",
    "\n",
    "newString = string1 + \" \" + string2\n",
    "\n",
    "string1+= \" \" + string2\n",
    "\n",
    "print(string1)"
   ]
  },
  {
   "cell_type": "markdown",
   "id": "90a9849a-d9b1-41c1-8ea1-e1929929e129",
   "metadata": {},
   "source": [
    "Q2.) Find the length of a string."
   ]
  },
  {
   "cell_type": "code",
   "execution_count": 1,
   "id": "335b71f1-d430-4951-8d8a-1ef7a8239d5e",
   "metadata": {},
   "outputs": [
    {
     "name": "stdout",
     "output_type": "stream",
     "text": [
      "51\n"
     ]
    }
   ],
   "source": [
    "def findLength(inputString):\n",
    "    count = 0\n",
    "    for char in inputString:\n",
    "        count += 1\n",
    "    return count\n",
    "\n",
    "string = \"Hello Everyone! Welcome to Python Practice Session.\"\n",
    "stringLength = findLength(string)\n",
    "print(stringLength)"
   ]
  }
 ],
 "metadata": {
  "kernelspec": {
   "display_name": "Python 3 (ipykernel)",
   "language": "python",
   "name": "python3"
  },
  "language_info": {
   "codemirror_mode": {
    "name": "ipython",
    "version": 3
   },
   "file_extension": ".py",
   "mimetype": "text/x-python",
   "name": "python",
   "nbconvert_exporter": "python",
   "pygments_lexer": "ipython3",
   "version": "3.10.12"
  }
 },
 "nbformat": 4,
 "nbformat_minor": 5
}
