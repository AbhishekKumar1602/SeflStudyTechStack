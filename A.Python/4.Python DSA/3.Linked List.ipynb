{
 "cells": [
  {
   "cell_type": "markdown",
   "id": "9750614b",
   "metadata": {},
   "source": [
    "# Linked List"
   ]
  },
  {
   "cell_type": "markdown",
   "id": "1d653082",
   "metadata": {},
   "source": [
    "## 1. Introduction"
   ]
  },
  {
   "cell_type": "markdown",
   "id": "3da60b67",
   "metadata": {},
   "source": [
    "### 1.1. Linked List\n",
    "\n",
    "Linked list is a linear data structure that includes a series of connected nodes. Linked list can be defined as the nodes that are randomly stored in the memory. A node in the linked list contains two parts, i.e., first is the data part and second is the address part. The pointer that holds the address of the initial node is known as a head pointer.The last node of the list contains a pointer to the null.In a linked list, every link contains a connection to another link. After array, linked list is the second most used data structure. "
   ]
  },
  {
   "cell_type": "markdown",
   "id": "f12c34e7",
   "metadata": {},
   "source": [
    "### 1.2. Advantages Linked List Data Structure\n",
    "   - **Dynamic Data Structure**: The size of memory can be allocated or de-allocated at run time based on the operation insertion or deletion.\n",
    "   - **Ease of Insertion/Deletion**: The insertion and deletion of elements are simpler than arrays since no elements need to be shifted after insertion and deletion, Just the address needed to be updated.\n",
    "   - **Efficient Memory Utilization**: As we know Linked List is a dynamic data structure the size increases or decreases as per the requirement so this avoids the wastage of memory. \n",
    "   - **Implementation**: Various advanced data structures can be implemented using a linked list like a stack, queue, graph, hash maps, etc."
   ]
  },
  {
   "cell_type": "markdown",
   "id": "1b33299f",
   "metadata": {},
   "source": [
    "### 1.3. Disadvantages Linked List Data Structure\n",
    "\n",
    "   - **Memory Usage**: The use of pointers is more in linked lists hence, complex and requires more memory.\n",
    "   - **Accessing a Node**: Random access is not possible due to dynamic memory allocation.\n",
    "   - **Search Operation Costly**: Searching for an element is costly and requires O(n) time complexity.\n",
    "   - **Traversing in Reverse Order**: Traversing is more time-consuming and reverse traversing is not possible in singly linked lists."
   ]
  },
  {
   "cell_type": "markdown",
   "id": "30e004f3",
   "metadata": {},
   "source": [
    "### 1.4. Applications of Linked Lists\n",
    "\n",
    "   - The list of songs in the music player is linked to the previous and next songs. \n",
    "   - In a web browser, previous and next web page URLs are linked through the previous and next buttons.\n",
    "   - In the image viewer, the previous and next images are linked with the help of the previous and next buttons.\n",
    "   - Switching between two applications is carried out by using “alt+tab” or  “cmd+tab” . It requires the functionality of a circular linked list.\n",
    "   - In mobile phones, we save the contacts of people. The newly entered contact details will be placed at the correct alphabetical order.\n",
    "   - This can be achieved by a linked list to set contact at the correct alphabetical position.\n",
    "   - The modifications that we made in the documents are actually created as nodes in doubly linked list. We can simply use the undo option by pressing Ctrl+Z to modify the contents. It is done by the functionality of a linked list."
   ]
  },
  {
   "cell_type": "markdown",
   "id": "320ecb4d",
   "metadata": {},
   "source": [
    "### 1.5 Types of Linked List\n",
    "\n",
    "There are four key types of Linked Lists:\n",
    "\n",
    "**1. Singly Linked List**\n",
    "\n",
    "**2. Doubly Linked List**\n",
    "\n",
    "**3. Singly Circular Linked List**\n",
    "\n",
    "**4. Doubly Circular Linked List**"
   ]
  },
  {
   "attachments": {
    "ds-types-of-linked-list.png": {
     "image/png": "[encoded data removed]"
    }
   },
   "cell_type": "markdown",
   "id": "7e0b9326",
   "metadata": {},
   "source": [
    "## 2. Singly Linked List\n",
    "\n",
    ">A singly linked list is a type of linked list that is unidirectional, that is, it can be traversed in only one direction from head to the last node (tail).\n",
    "\n",
    "![ds-types-of-linked-list.png](attachment:ds-types-of-linked-list.png)"
   ]
  },
  {
   "cell_type": "markdown",
   "id": "f85a0f20",
   "metadata": {},
   "source": [
    "### 2.1. Singly Linked List Implementation"
   ]
  },
  {
   "cell_type": "code",
   "execution_count": 1,
   "id": "0fad4b27",
   "metadata": {},
   "outputs": [],
   "source": [
    "class Node: # Creating Node\n",
    "    \n",
    "    def __init__(self, data, key = None):\n",
    "        \n",
    "        self.data = data\n",
    "        self.key = None\n",
    "\n",
    "class LinkedList: \n",
    "    \n",
    "    def __init__(self): # Initializing Head\n",
    "        \n",
    "        self.head = None\n",
    "        \n",
    "        \n",
    "        \n",
    "linked_list = LinkedList() \n",
    "n1 = Node(25)\n",
    "head = n1\n",
    "n2 = Node(39)\n",
    "n1.key = n2\n",
    "n3 = Node(63)\n",
    "n2.key = n3"
   ]
  },
  {
   "cell_type": "markdown",
   "id": "e817eae8",
   "metadata": {},
   "source": [
    "**Using Function to Add Nodes**"
   ]
  },
  {
   "cell_type": "code",
   "execution_count": 2,
   "id": "a80c932b",
   "metadata": {},
   "outputs": [],
   "source": [
    "class Node: # Creating Node\n",
    "    \n",
    "    def __init__(self, data, key = None):\n",
    "        \n",
    "        self.data = data\n",
    "        self.key = None\n",
    "\n",
    "class LinkedList: \n",
    "    \n",
    "    def __init__(self): # Initializing Head\n",
    "        \n",
    "        self.head = None\n",
    "\n",
    "    def addNode(self,data): # Adding Node \n",
    "        \n",
    "        newNode = Node(data)\n",
    "        \n",
    "        if self.head is None:\n",
    "            \n",
    "            self.head = newNode\n",
    "            \n",
    "        else:\n",
    "            \n",
    "            currentNode = self.head\n",
    "            \n",
    "            while currentNode.key is not None:\n",
    "                \n",
    "                currentNode = currentNode.key\n",
    "                \n",
    "            currentNode.key = newNode\n",
    "\n",
    "\n",
    "\n",
    "linked_list = LinkedList() \n",
    "\n",
    "\n",
    "linked_list.addNode(25)\n",
    "linked_list.addNode(39)\n",
    "linked_list.addNode(63)"
   ]
  },
  {
   "cell_type": "markdown",
   "id": "fae0d8a6",
   "metadata": {},
   "source": [
    "**Another Way**"
   ]
  },
  {
   "cell_type": "code",
   "execution_count": 3,
   "id": "1176aaa3",
   "metadata": {},
   "outputs": [],
   "source": [
    "class Node:\n",
    "    \n",
    "    def __init__(self,data,key = None):\n",
    "        \n",
    "        self.data = data\n",
    "        self.key = None\n",
    "        \n",
    "\n",
    "temp1 = Node(10)\n",
    "temp2 = Node(20)\n",
    "temp3 = Node(30)\n",
    "\n",
    "temp1.key = temp2\n",
    "temp2.key = temp3\n",
    "head = temp1"
   ]
  },
  {
   "cell_type": "markdown",
   "id": "a081cd0c",
   "metadata": {},
   "source": [
    "**Another Way of Shorter Implementation**"
   ]
  },
  {
   "cell_type": "code",
   "execution_count": 4,
   "id": "13a032ce",
   "metadata": {},
   "outputs": [],
   "source": [
    "class Node:\n",
    "    \n",
    "    def __init__(self,data,key = None):\n",
    "        \n",
    "        self.data = data\n",
    "        self.key = None\n",
    "        \n",
    "\n",
    "head = Node(10)\n",
    "head.key = Node(20)\n",
    "head.key.key = Node(30)"
   ]
  },
  {
   "cell_type": "markdown",
   "id": "874011de",
   "metadata": {},
   "source": [
    "### 2.2. Traversing a Singly Linked List"
   ]
  },
  {
   "cell_type": "code",
   "execution_count": 5,
   "id": "f2a97967",
   "metadata": {},
   "outputs": [],
   "source": [
    "class Node:\n",
    "    \n",
    "    def __init__(self, data, key = None):\n",
    "        \n",
    "        self.data = data\n",
    "        self.key = None\n",
    "\n",
    "class LinkedList: \n",
    "    \n",
    "    def __init__(self): \n",
    "        \n",
    "        self.head = None\n",
    "\n",
    "    def addNode(self,data):\n",
    "        \n",
    "        newNode = Node(data)\n",
    "        \n",
    "        if self.head is None:\n",
    "            \n",
    "            self.head = newNode\n",
    "            \n",
    "        else:\n",
    "            \n",
    "            currentNode = self.head\n",
    "            \n",
    "            while currentNode.key is not None:\n",
    "                \n",
    "                currentNode = currentNode.key\n",
    "                \n",
    "            currentNode.key = newNode\n",
    "\n",
    "            \n",
    "    def printLinkedList(self): \n",
    "        \n",
    "        currentNode = self.head\n",
    "        \n",
    "        while currentNode is not None:\n",
    "            \n",
    "            print(currentNode.data, end = \" \")\n",
    "            \n",
    "            currentNode = currentNode.key\n",
    "\n",
    "\n",
    "\n",
    "linkedlist = LinkedList() \n",
    "\n",
    "linkedlist.addNode(25)\n",
    "linkedlist.addNode(39)\n",
    "linkedlist.addNode(63)"
   ]
  },
  {
   "cell_type": "code",
   "execution_count": 6,
   "id": "f3711b64",
   "metadata": {},
   "outputs": [
    {
     "name": "stdout",
     "output_type": "stream",
     "text": [
      "25 39 63 "
     ]
    }
   ],
   "source": [
    "linkedlist.printLinkedList()"
   ]
  },
  {
   "cell_type": "markdown",
   "id": "143ff2d7",
   "metadata": {},
   "source": [
    "### 2.3. Searching in Singly Linked List"
   ]
  },
  {
   "cell_type": "markdown",
   "id": "4266e41a",
   "metadata": {},
   "source": [
    "#### 2.3.1. Using Itterative Method"
   ]
  },
  {
   "cell_type": "code",
   "execution_count": 7,
   "id": "e036a435",
   "metadata": {},
   "outputs": [],
   "source": [
    "class Node:\n",
    "    \n",
    "    def __init__(self, data, key = None):\n",
    "        \n",
    "        self.data = data\n",
    "        self.key = None\n",
    "        \n",
    "        \n",
    "class LinkedList:\n",
    "    \n",
    "    def __init__(self,head = None):\n",
    "        \n",
    "        self.head  = None\n",
    "        \n",
    "        \n",
    "    def addNode(self,data):\n",
    "        \n",
    "        newNode = Node(data)\n",
    "        \n",
    "        if self.head is None:\n",
    "            \n",
    "            self.head = newNode\n",
    "            \n",
    "        else:\n",
    "            \n",
    "            currentNode = self.head\n",
    "            \n",
    "            while currentNode.key is not None:\n",
    "                \n",
    "                currentNode = currentNode.key\n",
    "            \n",
    "            currentNode.key = newNode\n",
    "            \n",
    "            \n",
    "    def searchData(self, x): \n",
    "        \n",
    "        currentNode = self.head\n",
    " \n",
    "        while currentNode is not None:\n",
    "        \n",
    "            if currentNode.data == x:\n",
    "                \n",
    "                return True\n",
    " \n",
    "            currentNode = currentNode.key\n",
    " \n",
    "        return False\n",
    "            \n",
    "    \n",
    "    def printLinkedList(self):\n",
    "        \n",
    "        currentNode = self.head\n",
    "        \n",
    "        while currentNode is not None:\n",
    "            \n",
    "            print(currentNode.data, end = \" \")\n",
    "            \n",
    "            currentNode = currentNode.key\n",
    "            \n",
    "            \n",
    "linkedlist = LinkedList()\n",
    "\n",
    "linkedlist.addNode(25)\n",
    "linkedlist.addNode(39)\n",
    "linkedlist.addNode(63)        "
   ]
  },
  {
   "cell_type": "code",
   "execution_count": 8,
   "id": "7b4edad8",
   "metadata": {},
   "outputs": [
    {
     "name": "stdout",
     "output_type": "stream",
     "text": [
      "25 39 63 "
     ]
    }
   ],
   "source": [
    "linkedlist.printLinkedList()"
   ]
  },
  {
   "cell_type": "code",
   "execution_count": 9,
   "id": "f1cfa1da",
   "metadata": {},
   "outputs": [
    {
     "data": {
      "text/plain": [
       "False"
      ]
     },
     "execution_count": 9,
     "metadata": {},
     "output_type": "execute_result"
    }
   ],
   "source": [
    "linkedlist.searchData(12)"
   ]
  },
  {
   "cell_type": "code",
   "execution_count": 10,
   "id": "f406f568",
   "metadata": {},
   "outputs": [
    {
     "data": {
      "text/plain": [
       "True"
      ]
     },
     "execution_count": 10,
     "metadata": {},
     "output_type": "execute_result"
    }
   ],
   "source": [
    "linkedlist.searchData(39)"
   ]
  },
  {
   "cell_type": "markdown",
   "id": "ccbde88b",
   "metadata": {},
   "source": [
    "#### 2.3.2. Using Recursive Method"
   ]
  },
  {
   "cell_type": "code",
   "execution_count": 11,
   "id": "08ec5123",
   "metadata": {},
   "outputs": [],
   "source": [
    "class Node:\n",
    "    \n",
    "    def __init__(self, data, key = None):\n",
    "        \n",
    "        self.data = data\n",
    "        self.key = None\n",
    "        \n",
    "        \n",
    "class LinkedList:\n",
    "    \n",
    "    def __init__(self,head = None):\n",
    "        \n",
    "        self.head  = None\n",
    "        \n",
    "        \n",
    "    def addNode(self,data):\n",
    "        \n",
    "        newNode = Node(data)\n",
    "        \n",
    "        if self.head is None:\n",
    "            \n",
    "            self.head = newNode\n",
    "            \n",
    "        else:\n",
    "            \n",
    "            currentNode = self.head\n",
    "            \n",
    "            while currentNode.key is not None:\n",
    "                \n",
    "                currentNode = currentNode.key\n",
    "            \n",
    "            currentNode.key = newNode\n",
    "            \n",
    "            \n",
    "\n",
    "            \n",
    "    \n",
    "    def printLinkedList(self):\n",
    "        \n",
    "        currentNode = self.head\n",
    "        \n",
    "        while currentNode is not None:\n",
    "            \n",
    "            print(currentNode.data, end = \" \")\n",
    "            \n",
    "            currentNode = currentNode.key\n",
    "            \n",
    "            \n",
    "linkedlist = LinkedList()\n",
    "\n",
    "linkedlist.addNode(25)\n",
    "linkedlist.addNode(39)\n",
    "linkedlist.addNode(63)    "
   ]
  },
  {
   "cell_type": "code",
   "execution_count": 12,
   "id": "6dd9c8f9",
   "metadata": {},
   "outputs": [
    {
     "name": "stdout",
     "output_type": "stream",
     "text": [
      "25 39 63 "
     ]
    }
   ],
   "source": [
    "linkedlist.printLinkedList()"
   ]
  },
  {
   "cell_type": "markdown",
   "id": "04a6b43c",
   "metadata": {},
   "source": [
    "### 2.4. Inserting Node in Singly Linked List"
   ]
  },
  {
   "cell_type": "markdown",
   "id": "f9bd8c29",
   "metadata": {},
   "source": [
    "#### 2.4.1 At Beginning"
   ]
  },
  {
   "cell_type": "code",
   "execution_count": 13,
   "id": "00ddc3d1",
   "metadata": {},
   "outputs": [],
   "source": [
    "class Node:\n",
    "    \n",
    "    def __init__(self, data, key = None):\n",
    "        \n",
    "        self.data = data\n",
    "        self.key = None\n",
    "        \n",
    "\n",
    "class LinkedList: \n",
    "    \n",
    "    def __init__(self): \n",
    "        \n",
    "        self.head = None\n",
    "        \n",
    "\n",
    "    def addNode(self,data):\n",
    "        \n",
    "        newNode = Node(data)\n",
    "        \n",
    "        if self.head is None:\n",
    "            \n",
    "            self.head = newNode\n",
    "            \n",
    "        else:\n",
    "            \n",
    "            currentNode = self.head\n",
    "            \n",
    "            while currentNode.key is not None:\n",
    "                \n",
    "                currentNode = currentNode.key\n",
    "                \n",
    "            currentNode.key = newNode\n",
    "            \n",
    "            \n",
    "    def insertNodeBeginning(self,newData):\n",
    "        \n",
    "        newNode = Node(newData)\n",
    "        \n",
    "        newNode.key = self.head\n",
    "        \n",
    "        self.head = newNode\n",
    "\n",
    "            \n",
    "    def printLinkedList(self): \n",
    "        \n",
    "        currentNode = self.head\n",
    "        \n",
    "        while currentNode is not None:\n",
    "            \n",
    "            print(currentNode.data, end = \" \")\n",
    "            \n",
    "            currentNode = currentNode.key\n",
    "            \n",
    "\n",
    "linkedlist = LinkedList() \n",
    "\n",
    "linkedlist.addNode(25)\n",
    "linkedlist.addNode(39)\n",
    "linkedlist.addNode(63)"
   ]
  },
  {
   "cell_type": "code",
   "execution_count": 14,
   "id": "24bf9b33",
   "metadata": {},
   "outputs": [
    {
     "name": "stdout",
     "output_type": "stream",
     "text": [
      "25 39 63 "
     ]
    }
   ],
   "source": [
    "linkedlist.printLinkedList()"
   ]
  },
  {
   "cell_type": "code",
   "execution_count": 15,
   "id": "ea2753fd",
   "metadata": {},
   "outputs": [],
   "source": [
    "linkedlist.insertNodeBeginning(17)"
   ]
  },
  {
   "cell_type": "code",
   "execution_count": 16,
   "id": "9da3654d",
   "metadata": {},
   "outputs": [
    {
     "name": "stdout",
     "output_type": "stream",
     "text": [
      "17 25 39 63 "
     ]
    }
   ],
   "source": [
    "linkedlist.printLinkedList()"
   ]
  },
  {
   "cell_type": "markdown",
   "id": "325aeae3",
   "metadata": {},
   "source": [
    "#### 2.4.2 After Given Position"
   ]
  },
  {
   "cell_type": "code",
   "execution_count": 17,
   "id": "35c23d71",
   "metadata": {},
   "outputs": [],
   "source": [
    "class Node:\n",
    "    \n",
    "    def __init__(self, data, key = None):\n",
    "        \n",
    "        self.data = data\n",
    "        self.key = None\n",
    "        \n",
    "\n",
    "class LinkedList: \n",
    "    \n",
    "    def __init__(self): \n",
    "        \n",
    "        self.head = None\n",
    "        \n",
    "\n",
    "    def addNode(self,data):\n",
    "        \n",
    "        newNode = Node(data)\n",
    "        \n",
    "        if self.head is None:\n",
    "            \n",
    "            self.head = newNode\n",
    "            \n",
    "        else:\n",
    "            \n",
    "            currentNode = self.head\n",
    "            \n",
    "            while currentNode.key is not None:\n",
    "                \n",
    "                currentNode = currentNode.key\n",
    "                \n",
    "            currentNode.key = newNode\n",
    "            \n",
    "            \n",
    "    def insertNodeAfter(self,nodeData,newData):\n",
    "        \n",
    "        previousNode = None\n",
    "        \n",
    "        currentNode = linkedlist.head\n",
    "        \n",
    "        while currentNode is not None:\n",
    "            \n",
    "            if currentNode.data == nodeData:\n",
    "                \n",
    "                previousNode = currentNode\n",
    "       \n",
    "                break\n",
    "        \n",
    "            currentNode = currentNode.key\n",
    "        \n",
    "        if previousNode is None:\n",
    "            \n",
    "            return f\"The given previous node must be in LinkedList.\"\n",
    "        \n",
    "        newNode = Node(newData)\n",
    "        \n",
    "        newNode.key = previousNode.key\n",
    "        \n",
    "        previousNode.key = newNode\n",
    "\n",
    "            \n",
    "    def printLinkedList(self): \n",
    "        \n",
    "        currentNode = self.head\n",
    "        \n",
    "        while currentNode is not None:\n",
    "            \n",
    "            print(currentNode.data, end = \" \")\n",
    "            \n",
    "            currentNode = currentNode.key\n",
    "            \n",
    "\n",
    "linkedlist = LinkedList() \n",
    "\n",
    "linkedlist.addNode(25)\n",
    "linkedlist.addNode(39)\n",
    "linkedlist.addNode(63)"
   ]
  },
  {
   "cell_type": "code",
   "execution_count": 18,
   "id": "4da1bf0d",
   "metadata": {},
   "outputs": [
    {
     "name": "stdout",
     "output_type": "stream",
     "text": [
      "25 39 63 "
     ]
    }
   ],
   "source": [
    "linkedlist.printLinkedList()"
   ]
  },
  {
   "cell_type": "code",
   "execution_count": 19,
   "id": "2a2b57dd",
   "metadata": {},
   "outputs": [],
   "source": [
    "linkedlist.insertNodeAfter(39,51)"
   ]
  },
  {
   "cell_type": "code",
   "execution_count": 20,
   "id": "eee00cb9",
   "metadata": {},
   "outputs": [
    {
     "name": "stdout",
     "output_type": "stream",
     "text": [
      "25 39 51 63 "
     ]
    }
   ],
   "source": [
    "linkedlist.printLinkedList()"
   ]
  },
  {
   "cell_type": "markdown",
   "id": "765b9eab",
   "metadata": {},
   "source": [
    "#### 2.4.3 At End"
   ]
  },
  {
   "cell_type": "code",
   "execution_count": 21,
   "id": "9d3addb0",
   "metadata": {},
   "outputs": [],
   "source": [
    "class Node:\n",
    "    \n",
    "    def __init__(self, data, key = None):\n",
    "        \n",
    "        self.data = data\n",
    "        self.key = None\n",
    "        \n",
    "\n",
    "class LinkedList: \n",
    "    \n",
    "    def __init__(self): \n",
    "        \n",
    "        self.head = None\n",
    "\n",
    "    def addNode(self,data):\n",
    "        \n",
    "        newNode = Node(data)\n",
    "        \n",
    "        if self.head is None:\n",
    "            \n",
    "            self.head = newNode\n",
    "            \n",
    "        else:\n",
    "            \n",
    "            currentNode = self.head\n",
    "            \n",
    "            while currentNode.key is not None:\n",
    "                \n",
    "                currentNode = currentNode.key\n",
    "                \n",
    "            currentNode.key = newNode\n",
    "            \n",
    "            \n",
    "    def insertNodeEnd(self, newData):\n",
    "\n",
    "        newNode = Node(newData)\n",
    "\n",
    "        if self.head is None:\n",
    "            \n",
    "            self.head = newNode\n",
    "            \n",
    "            return\n",
    "\n",
    "        endNode = self.head\n",
    "        \n",
    "        while endNode.key is not None:\n",
    "            \n",
    "            endNode = endNode.key\n",
    "            \n",
    "        endNode.key = newNode       \n",
    "              \n",
    "            \n",
    "    def printLinkedList(self): \n",
    "        \n",
    "        currentNode = self.head\n",
    "        \n",
    "        while currentNode is not None:\n",
    "            \n",
    "            print(currentNode.data, end = \" \")\n",
    "            \n",
    "            currentNode = currentNode.key\n",
    "            \n",
    "\n",
    "linkedlist = LinkedList() \n",
    "\n",
    "linkedlist.addNode(25)\n",
    "linkedlist.addNode(39)\n",
    "linkedlist.addNode(63)"
   ]
  },
  {
   "cell_type": "code",
   "execution_count": 22,
   "id": "5d036019",
   "metadata": {},
   "outputs": [
    {
     "name": "stdout",
     "output_type": "stream",
     "text": [
      "25 39 63 "
     ]
    }
   ],
   "source": [
    "linkedlist.printLinkedList()"
   ]
  },
  {
   "cell_type": "code",
   "execution_count": 23,
   "id": "aa15ae44",
   "metadata": {},
   "outputs": [],
   "source": [
    "linkedlist.insertNodeEnd(75)"
   ]
  },
  {
   "cell_type": "code",
   "execution_count": 24,
   "id": "3be62738",
   "metadata": {},
   "outputs": [
    {
     "name": "stdout",
     "output_type": "stream",
     "text": [
      "25 39 63 75 "
     ]
    }
   ],
   "source": [
    "linkedlist.printLinkedList()"
   ]
  },
  {
   "cell_type": "markdown",
   "id": "2a45b142",
   "metadata": {},
   "source": [
    "### 2.5. Deleting Node in Singly Linked List"
   ]
  },
  {
   "cell_type": "markdown",
   "id": "ffd33359",
   "metadata": {},
   "source": [
    "#### 2.5.1. First Node"
   ]
  },
  {
   "cell_type": "code",
   "execution_count": 25,
   "id": "7b7c5059",
   "metadata": {},
   "outputs": [],
   "source": [
    "class Node:\n",
    "    \n",
    "    def __init__(self, data, key = None):\n",
    "        \n",
    "        self.data = data\n",
    "        self.key = None\n",
    "        \n",
    "class LinkedList:\n",
    "    \n",
    "    def __init__(self):\n",
    "        self.head = None\n",
    "        \n",
    "    def addNode(self, data):\n",
    "        \n",
    "        newNode = Node(data)\n",
    "        \n",
    "        if self.head is None:\n",
    "            \n",
    "            self.head = newNode\n",
    "            \n",
    "        else:\n",
    "            \n",
    "            currentNode = self.head\n",
    "            \n",
    "            while currentNode.key is not None:\n",
    "                \n",
    "                currentNode = currentNode.key\n",
    "            \n",
    "            currentNode.key = newNode\n",
    "            \n",
    "            \n",
    "    def deleteFirstNode(self):\n",
    "              \n",
    "        if self.head is None:\n",
    "            \n",
    "            return None\n",
    "        \n",
    "        else:\n",
    "            \n",
    "            temp = self.head\n",
    "            \n",
    "            self.head = self.head.key\n",
    "            \n",
    "            del temp\n",
    "    \n",
    "            \n",
    "    def printLinkedList(self):\n",
    "        \n",
    "        currentNode = self.head\n",
    "        \n",
    "        while currentNode is not None:\n",
    "            \n",
    "            print(currentNode.data, end = \" \")\n",
    "            \n",
    "            currentNode = currentNode.key\n",
    "            \n",
    "\n",
    "linkedlist = LinkedList()   \n",
    "\n",
    "linkedlist.addNode(25)\n",
    "linkedlist.addNode(39)\n",
    "linkedlist.addNode(65)"
   ]
  },
  {
   "cell_type": "code",
   "execution_count": 26,
   "id": "4c71ea9c",
   "metadata": {},
   "outputs": [
    {
     "name": "stdout",
     "output_type": "stream",
     "text": [
      "25 39 65 "
     ]
    }
   ],
   "source": [
    "linkedlist.printLinkedList()"
   ]
  },
  {
   "cell_type": "code",
   "execution_count": 27,
   "id": "710dbf5c",
   "metadata": {},
   "outputs": [],
   "source": [
    "linkedlist.deleteFirstNode()"
   ]
  },
  {
   "cell_type": "code",
   "execution_count": 28,
   "id": "e9105927",
   "metadata": {},
   "outputs": [
    {
     "name": "stdout",
     "output_type": "stream",
     "text": [
      "39 65 "
     ]
    }
   ],
   "source": [
    "linkedlist.printLinkedList()"
   ]
  },
  {
   "cell_type": "markdown",
   "id": "e5447bd1",
   "metadata": {},
   "source": [
    "#### 2.5.2 Given Node"
   ]
  },
  {
   "cell_type": "code",
   "execution_count": 29,
   "id": "dcba3be1",
   "metadata": {},
   "outputs": [],
   "source": [
    "class Node:\n",
    "    \n",
    "    def __init__(self, data, key = None):\n",
    "        \n",
    "        self.data = data\n",
    "        self.key = None\n",
    "        \n",
    "class LinkedList:\n",
    "    \n",
    "    def __init__(self):\n",
    "        \n",
    "        self.head = None\n",
    "        \n",
    "            \n",
    "    def addNode(self, data):\n",
    "        \n",
    "        newNode = Node(data)\n",
    "        \n",
    "        if self.head is None:\n",
    "            \n",
    "            self.head = newNode\n",
    "            \n",
    "        else:\n",
    "            \n",
    "            currentNode = self.head\n",
    "            \n",
    "            while currentNode.key is not None:\n",
    "                \n",
    "                currentNode = currentNode.key\n",
    "            \n",
    "            currentNode.key = newNode\n",
    "            \n",
    "            \n",
    "    def printLinkedList(self):\n",
    "        \n",
    "        currentNode = self.head\n",
    "        \n",
    "        while currentNode is not None:\n",
    "            \n",
    "            print(currentNode.data, end = \" \")\n",
    "            \n",
    "            currentNode = currentNode.key\n",
    "                \n",
    "\n",
    "linkedlist = LinkedList()\n",
    "\n",
    "linkedlist.addNode(25)\n",
    "linkedlist.addNode(39)\n",
    "linkedlist.addNode(65)"
   ]
  },
  {
   "cell_type": "code",
   "execution_count": 30,
   "id": "bf74dd0a",
   "metadata": {},
   "outputs": [
    {
     "name": "stdout",
     "output_type": "stream",
     "text": [
      "25 39 65 "
     ]
    }
   ],
   "source": [
    "linkedlist.printLinkedList()"
   ]
  },
  {
   "cell_type": "code",
   "execution_count": null,
   "id": "80e9201b",
   "metadata": {},
   "outputs": [],
   "source": [
    "def delete(self, data):\n",
    "    \n",
    "        previousNode = None\n",
    "        currentNode = self.head\n",
    "        \n",
    "        while currentNode is not None:\n",
    "            \n",
    "            if current.data == data:\n",
    "                if previous:\n",
    "                    previousNode.key = currentNode.key\n",
    "                else:\n",
    "                    self.head = currentNode.key\n",
    "                return\n",
    "            previousNode = currentNode\n",
    "            currentNode = currentNode.next"
   ]
  }
 ],
 "metadata": {
  "kernelspec": {
   "display_name": "Python 3 (ipykernel)",
   "language": "python",
   "name": "python3"
  },
  "language_info": {
   "codemirror_mode": {
    "name": "ipython",
    "version": 3
   },
   "file_extension": ".py",
   "mimetype": "text/x-python",
   "name": "python",
   "nbconvert_exporter": "python",
   "pygments_lexer": "ipython3",
   "version": "3.10.6"
  }
 },
 "nbformat": 4,
 "nbformat_minor": 5
}
