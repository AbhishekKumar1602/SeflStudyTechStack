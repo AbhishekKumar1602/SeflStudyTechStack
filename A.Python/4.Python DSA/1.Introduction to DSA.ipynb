{
 "cells": [
  {
   "cell_type": "markdown",
   "id": "c7011897",
   "metadata": {},
   "source": [
    "# Python Data Structure and Algorithms"
   ]
  },
  {
   "cell_type": "markdown",
   "id": "94805951",
   "metadata": {},
   "source": [
    "# Data Structure"
   ]
  },
  {
   "cell_type": "markdown",
   "id": "04068b4d",
   "metadata": {},
   "source": [
    "## 1. Introduction\n",
    "\n",
    "> **A data structure is a group of data elements that provides the easiest way to store and perform different actions on the data of the computer. A data structure is a particular way of organizing data in a computer so that it can be used effectively. The idea is to reduce the space and time complexities of different tasks. .**"
   ]
  },
  {
   "cell_type": "markdown",
   "id": "b2f6a91b",
   "metadata": {},
   "source": [
    "> A data structure is not only used for organizing the data. It is also used for processing, retrieving, and storing data. There are different basic and advanced types of data structures that are used in almost every program or software system that has been developed. So we must have good knowledge about data structures. "
   ]
  },
  {
   "cell_type": "markdown",
   "id": "8869f078",
   "metadata": {},
   "source": [
    "> Data structures are an integral part of computers used for the arrangement of data in memory. They are essential and responsible for organizing, processing, accessing, and storing data efficiently. But this is not all. Various types of data structures have their own characteristics, features, applications, advantages, and disadvantages. So how do you identify a data structure that is suitable for a particular task? What is meant by the term ‘Data Structure’? How many types of data structures are there and what are they used for?"
   ]
  },
  {
   "cell_type": "markdown",
   "id": "d89745a3",
   "metadata": {},
   "source": [
    "### 1.1 Need of Data Structure\n",
    "\n",
    "> The structure of the data and the synthesis of the algorithm are relative to each other. Data presentation must be easy to understand so the developer, as well as the user, can make an efficient implementation of the operation.\n",
    "Data structures provide an easy way of organizing, retrieving, managing, and storing data.\n",
    "\n",
    "Here is a list of the needs for data.\n",
    "   - Data structure modification is easy. \n",
    "   - It requires less time. \n",
    "   - Save storage memory space. \n",
    "   - Data representation is easy. \n",
    "   - Easy access to the large database."
   ]
  },
  {
   "cell_type": "markdown",
   "id": "bfeef995",
   "metadata": {},
   "source": [
    "### 1.2 Applications of Data Structures\n",
    "Data structures are used in various fields such as:\n",
    "  - Operating System\n",
    "  - Graphics\n",
    "  - Computer Design\n",
    "  - Blockchain\n",
    "  - Genetics\n",
    "  - Image Processing\n",
    "  - Simulation, etc."
   ]
  },
  {
   "cell_type": "markdown",
   "id": "a6d7b201",
   "metadata": {},
   "source": [
    "### 1.3 Advantages of Data Structures:\n",
    "\n",
    "- Improved data organization and storage efficiency.\n",
    "- Faster data retrieval and manipulation.\n",
    "- Facilitates the design of algorithms for solving complex problems.\n",
    "- Eases the task of updating and maintaining the data.\n",
    "- Provides a better understanding of the relationships between data elements."
   ]
  },
  {
   "cell_type": "markdown",
   "id": "e3b9aa08",
   "metadata": {},
   "source": [
    "### 1.4 Disadvantages of Data Structures\n",
    "\n",
    "- Increased computational and memory overhead.\n",
    "- Difficulty in designing and implementing complex data structures.\n",
    "- Limited scalability and flexibility.\n",
    "- Complexity in debugging and testing.\n",
    "- Difficulty in modifying existing data structures."
   ]
  },
  {
   "cell_type": "markdown",
   "id": "45e7887a",
   "metadata": {},
   "source": [
    "### 1.4 Data Structure v/s Data Type"
   ]
  },
  {
   "cell_type": "markdown",
   "id": "dac79c71",
   "metadata": {},
   "source": [
    "## 2. Classification of Data Structure\n",
    "> Data structures can be classified into two main types: `Primitive Data Structures` and `Non-Primitive Data Structures`.\n",
    "\n",
    "> **Primitive Data Structures:** These are the most basic data structures and are usually built into programming languages. In Pyhton Primitive Data Structures are String, Intiger, Float and Boolean <br> **Non-Primitive Data Structures:** These are complex data structures that are built using primitive data types. In Python the built in Python Non-Premitive Data Structures are List, Tuple, Set and Dictionary. \n",
    "\n",
    "> **Also we can extend the built-in types already available in Python and create our own customized data structures and it's called as `User-Defined Data Structure.`** "
   ]
  },
  {
   "cell_type": "markdown",
   "id": "729ac169",
   "metadata": {},
   "source": [
    "### 2.1 User-Defined Data Structure \n",
    "\n",
    "> Data structures that aren’t supported by Python but can be programmed to reflect the same functionality using concepts supported by Python are User-Defined Data Structures. There are many data structure that can be implemented this way. User Defined Data Structures in Python can be classified into Liner Data Structure and Non-Linear Data Structure."
   ]
  },
  {
   "cell_type": "markdown",
   "id": "0246b8cb",
   "metadata": {},
   "source": [
    "### 2.1.1 Linear Data Structure\n",
    "\n",
    "> Data structure in which data elements are arranged sequentially or linearly, where each element is attached to its previous and next adjacent elements, is called a linear data structure. <br> `Linear Data Structures are Linked List, Stack, Queue.`"
   ]
  },
  {
   "cell_type": "markdown",
   "id": "031de728",
   "metadata": {},
   "source": [
    "### 2.1.2 Non-linear Data Structure\n",
    "> Data structures where data elements are not placed sequentially or linearly are called non-linear data structures. In a non-linear data structure, we can’t traverse all the elements in a single run only. <br> `Non-Linear Data Structures are Trees and Graphs.`"
   ]
  },
  {
   "cell_type": "markdown",
   "id": "ff0b828b",
   "metadata": {},
   "source": [
    "#"
   ]
  },
  {
   "cell_type": "markdown",
   "id": "5e023dea",
   "metadata": {},
   "source": [
    "# Algorithms "
   ]
  },
  {
   "cell_type": "markdown",
   "id": "644174ab",
   "metadata": {},
   "source": [
    "## 1. Introduction\n",
    "\n",
    "> The word Algorithm means ” A  set of rules to be followed in calculations or other problem-solving operations ” Or ” A procedure for solving a mathematical problem in a finite number of steps that frequently by recursive operations “. Therefore Algorithm refers to a sequence of finite steps to solve a particular problem."
   ]
  },
  {
   "cell_type": "markdown",
   "id": "7fd6e3aa",
   "metadata": {},
   "source": [
    "## 2. Types of Algorithms\n",
    "\n",
    "**There are several types of algorithms available. Some important algorithms are:**\n",
    "\n",
    "**1. Brute Force Algorithm:** It is the simplest approach for a problem. A brute force algorithm is the first approach that comes to finding when we see a problem.\n",
    "\n",
    "**2. Recursive Algorithm:** A recursive algorithm is based on recursion. In this case, a problem is broken into several sub-parts and called the same function again and again.\n",
    "\n",
    "**3. Backtracking Algorithm:** The backtracking algorithm basically builds the solution by searching among all possible solutions. Using this algorithm, we keep on building the solution following criteria. Whenever a solution fails we trace back to the failure point and build on the next solution and continue this process till we find the solution or all possible solutions are looked after.\n",
    "\n",
    "**4. Searching Algorithm:** Searching algorithms are the ones that are used for searching elements or groups of elements from a particular data structure. They can be of different types based on their approach or the data structure in which the element should be found.\n",
    "\n",
    "**5. Sorting Algorithm:** Sorting is arranging a group of data in a particular manner according to the requirement. The algorithms which help in performing this function are called sorting algorithms. Generally sorting algorithms are used to sort groups of data in an increasing or decreasing manner.\n",
    "\n",
    "**6. Hashing Algorithm:** Hashing algorithms work similarly to the searching algorithm. But they contain an index with a key ID. In hashing, a key is assigned to specific data.\n",
    "\n",
    "**7. Divide and Conquer Algorithm:** This algorithm breaks a problem into sub-problems, solves a single sub-problem and merges the solutions together to get the final solution. It consists of the following three steps:\n",
    "\n",
    "    Divide\n",
    "    Solve\n",
    "    Combine\n",
    "\n",
    "**8. Greedy Algorithm:** In this type of algorithm the solution is built part by part. The solution of the next part is built based on the immediate benefit of the next part. The one solution giving the most benefit will be chosen as the solution for the next part.\n",
    "\n",
    "**9. Dynamic Programming Algorithm:** This algorithm uses the concept of using the already found solution to avoid repetitive calculation of the same part of the problem. It divides the problem into smaller overlapping subproblems and solves them.\n",
    "\n",
    "**10. Randomized Algorithm:** In the randomized algorithm we use a random number so it gives immediate benefit. The random number helps in deciding the expected outcome."
   ]
  }
 ],
 "metadata": {
  "kernelspec": {
   "display_name": "Python 3 (ipykernel)",
   "language": "python",
   "name": "python3"
  },
  "language_info": {
   "codemirror_mode": {
    "name": "ipython",
    "version": 3
   },
   "file_extension": ".py",
   "mimetype": "text/x-python",
   "name": "python",
   "nbconvert_exporter": "python",
   "pygments_lexer": "ipython3",
   "version": "3.11.2"
  },
  "toc-showmarkdowntxt": false,
  "toc-showtags": false
 },
 "nbformat": 4,
 "nbformat_minor": 5
}
