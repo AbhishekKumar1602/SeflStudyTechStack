{
 "cells": [
  {
   "cell_type": "markdown",
   "id": "91e7ae34",
   "metadata": {},
   "source": [
    "# Hands on Python C"
   ]
  },
  {
   "cell_type": "markdown",
   "id": "60f90380",
   "metadata": {},
   "source": [
    "## 1. Python Decision Control Statement "
   ]
  },
  {
   "cell_type": "markdown",
   "id": "437b24b6",
   "metadata": {},
   "source": [
    "### 1.1. Selection Control Statements ( if, if-else and if-elif-else)"
   ]
  },
  {
   "cell_type": "markdown",
   "id": "74bcc141",
   "metadata": {},
   "source": [
    "****Indentation**\n",
    "\n",
    "- Indentation is a way of telling the Python interpreter that a series of statements belong to a particular block of code."
   ]
  },
  {
   "cell_type": "markdown",
   "id": "c065a12d",
   "metadata": {},
   "source": [
    "**Syntax of if elif else**"
   ]
  },
  {
   "cell_type": "raw",
   "id": "3380e48e",
   "metadata": {},
   "source": [
    "if condition:\n",
    "    # Code to execute if coddition matches.\n",
    "    \n",
    "elif condition:\n",
    "    # Code to execute elif coddition matches.\n",
    "    \n",
    "elif condition:\n",
    "    # Code to execute elif coddition matches.\n",
    ":\n",
    ":\n",
    ":\n",
    "\n",
    "else:\n",
    "     Code to execute when no coddition above matches."
   ]
  },
  {
   "cell_type": "markdown",
   "id": "ffbd4118",
   "metadata": {},
   "source": [
    "**Example**"
   ]
  },
  {
   "cell_type": "code",
   "execution_count": 1,
   "id": "cc729622",
   "metadata": {},
   "outputs": [
    {
     "name": "stdout",
     "output_type": "stream",
     "text": [
      "X is greater than Y.\n"
     ]
    }
   ],
   "source": [
    "x = 33\n",
    "y = 27\n",
    "\n",
    "if x>y:\n",
    "    print(\"X is greater than Y.\")"
   ]
  },
  {
   "cell_type": "markdown",
   "id": "95e39b57",
   "metadata": {},
   "source": [
    "**Example**\n",
    "\n",
    "- Print division of students as per their rank."
   ]
  },
  {
   "cell_type": "code",
   "execution_count": 2,
   "id": "d013cd0c",
   "metadata": {},
   "outputs": [
    {
     "name": "stdout",
     "output_type": "stream",
     "text": [
      "Enter your rank: 10\n",
      "No Division\n"
     ]
    }
   ],
   "source": [
    "rank = int(input(\"Enter your rank: \"))\n",
    "\n",
    "if rank == 1:\n",
    "    print(\"First Division\")\n",
    "elif rank == 2:\n",
    "    print(\"Second Devision\")\n",
    "elif rank == 3:\n",
    "    print(\"Third Devision\")\n",
    "else:\n",
    "    print(\"No Division\")"
   ]
  },
  {
   "cell_type": "markdown",
   "id": "65a82802",
   "metadata": {},
   "source": [
    "**Example**\n",
    "\n",
    "-  Print the Fibonacci Sequence upto n-th term provided by the user."
   ]
  },
  {
   "cell_type": "code",
   "execution_count": 3,
   "id": "9ad47bba",
   "metadata": {},
   "outputs": [
    {
     "name": "stdout",
     "output_type": "stream",
     "text": [
      "Please enter the number of terms for the Fibonacci Sequence: 10\n",
      "Fibonacci Sequence upto 10:\n",
      "0\n",
      "1\n",
      "1\n",
      "2\n",
      "3\n",
      "5\n",
      "8\n",
      "13\n",
      "21\n",
      "34\n",
      "55\n"
     ]
    }
   ],
   "source": [
    "number = int(input(\"Please enter the number of terms for the Fibonacci Sequence: \"))\n",
    "\n",
    "#First Two Terms of Fibonacci Sequence are:\n",
    "\n",
    "n1,n2 = 0,1\n",
    "\n",
    "count = 0\n",
    "\n",
    "if number<=0:\n",
    "    print(\"Please enter a positive number.\")\n",
    "elif number == 1:\n",
    "    print(f\"Fibonacci Sequence upto {number}: \", n1)\n",
    "else:\n",
    "    print(f\"Fibonacci Sequence upto {number}:\")\n",
    "    while count<=number:\n",
    "        print(n1)\n",
    "        nth = n1+n2\n",
    "        n1 = n2\n",
    "        n2 = nth\n",
    "        count+=1"
   ]
  },
  {
   "cell_type": "markdown",
   "id": "56d78a2a",
   "metadata": {},
   "source": [
    "### **The match Statement\n",
    "\n",
    "The match statement provides a concise and readable way to perform different actions based on the structure of a value. It is often used when you have a value and want to check its type and/or attributes and execute code based on the match."
   ]
  },
  {
   "cell_type": "markdown",
   "id": "41eb084e",
   "metadata": {},
   "source": [
    "**Syntax of match**"
   ]
  },
  {
   "cell_type": "raw",
   "id": "39f0110d",
   "metadata": {},
   "source": [
    "match expression:\n",
    "    case 1:\n",
    "        # Code to execute if case 1 matches\n",
    "    case 2:\n",
    "        # Code to execute if case 2 matches\n",
    "    :\n",
    "    :\n",
    "    :\n",
    "    :\n",
    "    \n",
    "    case _:\n",
    "        # Code to execute if none of the case match"
   ]
  },
  {
   "cell_type": "markdown",
   "id": "60198afd",
   "metadata": {},
   "source": [
    "**Example**\n",
    "\n",
    "-  You are given a list of numbers [2, 5, 10, 15, 20]. Use the match statement to iterate through each number and print the following messages based on the value of the number:\n",
    "   - If the number is even, print \"Even number.\"\n",
    "   - If the number is divisible by 5, print \"Divisible by 5.\"\n",
    "   - If the number is both even and divisible by 5, print \"Even and divisible by 5.\"\n",
    "   - For any other number, print \"Neither even nor divisible by 5.\""
   ]
  },
  {
   "cell_type": "code",
   "execution_count": 4,
   "id": "309f5d59",
   "metadata": {},
   "outputs": [
    {
     "name": "stdout",
     "output_type": "stream",
     "text": [
      "Even Number.\n",
      "Divisible by 5.\n",
      "Even and Divisible by 5.\n",
      "Divisible by 5.\n",
      "Even and Divisible by 5.\n"
     ]
    }
   ],
   "source": [
    "numbers = [2, 5, 10, 15, 20]\n",
    "\n",
    "for num in numbers:\n",
    "    match num:\n",
    "        case _ if num % 2 == 0 and num % 5 == 0:\n",
    "            print(\"Even and Divisible by 5.\")\n",
    "        case _ if num % 2 == 0:\n",
    "            print(\"Even Number.\")\n",
    "        case _ if num % 5 == 0:\n",
    "            print(\"Divisible by 5.\")\n",
    "        case _:\n",
    "            print(\"Neither Even nor Divisible by 5.\")"
   ]
  },
  {
   "cell_type": "markdown",
   "id": "86f562d4",
   "metadata": {},
   "source": [
    "### 1.2. Iterative Control Statement"
   ]
  },
  {
   "cell_type": "markdown",
   "id": "2f8c9eb6",
   "metadata": {},
   "source": [
    "### Loops\n",
    "\n",
    "- In a programming language, a loop is a statement that contains instructions that continually repeats until a certain condition is reached.\n",
    "- The three types of loops in Python programming are:\n",
    "    - while loop\n",
    "    - for loop"
   ]
  },
  {
   "cell_type": "markdown",
   "id": "772f1552",
   "metadata": {},
   "source": [
    "### 1.2.1. while Loop\n",
    "\n",
    "- while Loop is used to execute a block of statements repeatedly until a given condition is satisfied.\n",
    "- When the condition becomes false, the line immediately after the loop in the program is executed.\n",
    "- while loop falls under the category of indefinite iteration. \n",
    "  - Indefinite iteration means that the number of times the loop is executed isn’t specified explicitly in advance.\n",
    "- while Loop has no condition/counter/incriment."
   ]
  },
  {
   "cell_type": "markdown",
   "id": "562b2ade",
   "metadata": {},
   "source": [
    "**Example**"
   ]
  },
  {
   "cell_type": "code",
   "execution_count": 5,
   "id": "24546220",
   "metadata": {},
   "outputs": [
    {
     "name": "stdout",
     "output_type": "stream",
     "text": [
      "1\n",
      "2\n",
      "3\n",
      "4\n",
      "5\n"
     ]
    }
   ],
   "source": [
    "meter = 1\n",
    "while(meter<=5):\n",
    "    print(meter)\n",
    "    meter+=1"
   ]
  },
  {
   "cell_type": "markdown",
   "id": "c27f38fa",
   "metadata": {},
   "source": [
    "**Example**\n",
    "\n",
    "- Print First 10 even and odd number using while loop."
   ]
  },
  {
   "cell_type": "code",
   "execution_count": 6,
   "id": "5f487ff1",
   "metadata": {},
   "outputs": [
    {
     "name": "stdout",
     "output_type": "stream",
     "text": [
      "Even Number is: 0\n",
      "Odd Number is: 1\n",
      "Even Number is: 2\n",
      "Odd Number is: 3\n",
      "Even Number is: 4\n",
      "Odd Number is: 5\n",
      "Even Number is: 6\n",
      "Odd Number is: 7\n",
      "Even Number is: 8\n",
      "Odd Number is: 9\n",
      "Even Number is: 10\n",
      "Odd Number is: 11\n",
      "Even Number is: 12\n",
      "Odd Number is: 13\n",
      "Even Number is: 14\n",
      "Odd Number is: 15\n",
      "Even Number is: 16\n",
      "Odd Number is: 17\n",
      "Even Number is: 18\n",
      "Odd Number is: 19\n"
     ]
    }
   ],
   "source": [
    "even = 0\n",
    "odd = 1\n",
    "\n",
    "count = 1\n",
    "while count<=10:\n",
    "    print(f\"Even Number is: {even}\")\n",
    "    print(f\"Odd Number is: {odd}\")\n",
    "    \n",
    "    even = even+2\n",
    "    odd = odd+2\n",
    "    count = count+1"
   ]
  },
  {
   "cell_type": "markdown",
   "id": "1d45703b",
   "metadata": {},
   "source": [
    "### 1.2.2. for Loop\n",
    "\n",
    "- for Loop is used for sequentially accessing elements.\n",
    "- for Loop falls under the category of definite iteration.\n",
    "   - Definite iterations mean the number of repetitions is specified explicitly in advance.\n",
    "- for Loop has no condition/counter/incriment."
   ]
  },
  {
   "cell_type": "markdown",
   "id": "92ed14b0",
   "metadata": {},
   "source": [
    "**Example**"
   ]
  },
  {
   "cell_type": "code",
   "execution_count": 7,
   "id": "9fe58a78",
   "metadata": {},
   "outputs": [
    {
     "name": "stdout",
     "output_type": "stream",
     "text": [
      "Milk\n",
      "Bread\n",
      "Butter\n"
     ]
    }
   ],
   "source": [
    "for bag in ('Milk','Bread','Butter'):\n",
    "    print(bag)"
   ]
  },
  {
   "cell_type": "markdown",
   "id": "e14b0f31",
   "metadata": {},
   "source": [
    "**Example**\n",
    "\n",
    "- Check weather a number is Prime or not ?"
   ]
  },
  {
   "cell_type": "code",
   "execution_count": 8,
   "id": "1b407503",
   "metadata": {},
   "outputs": [
    {
     "name": "stdout",
     "output_type": "stream",
     "text": [
      "Enter number to be checked for Prime: 4563\n",
      "The number is not Prime.\n"
     ]
    }
   ],
   "source": [
    "number = int(input(\"Enter number to be checked for Prime: \"))\n",
    "\n",
    "m = 0\n",
    "for i in range(2,number):\n",
    "    if number%i==0:\n",
    "        m+=1\n",
    "        \n",
    "if m==0:\n",
    "    print(\"The number is Prime.\")\n",
    "else:\n",
    "    print(\"The number is not Prime.\")"
   ]
  },
  {
   "cell_type": "markdown",
   "id": "5fd06439",
   "metadata": {},
   "source": [
    "## 2. Python Comprehension\n",
    "\n",
    "- We can create new sequences using a given python sequence which is called comprehension.\n",
    "- It basically a way of writing a concise code block to generate a sequence.\n",
    "- Which can be a list, dictionary, set or a generator by using another sequence."
   ]
  },
  {
   "cell_type": "markdown",
   "id": "9dfea987",
   "metadata": {},
   "source": [
    "### 2.1. List Comprehension"
   ]
  },
  {
   "cell_type": "markdown",
   "id": "d99af50e",
   "metadata": {},
   "source": [
    "**Example**\n",
    "\n",
    "- Create list of  \"even\" or \"odd\" for numbers in range of (1,11) using list comprehension."
   ]
  },
  {
   "cell_type": "code",
   "execution_count": 9,
   "id": "049b4be4",
   "metadata": {},
   "outputs": [
    {
     "data": {
      "text/plain": [
       "['odd', 'even', 'odd', 'even', 'odd', 'even', 'odd', 'even', 'odd', 'even']"
      ]
     },
     "execution_count": 9,
     "metadata": {},
     "output_type": "execute_result"
    }
   ],
   "source": [
    "[\"even\" if i%2==0 else \"odd\" for i in range(1,11)]"
   ]
  },
  {
   "cell_type": "markdown",
   "id": "2e8399b1",
   "metadata": {},
   "source": [
    "**Example**\n",
    "\n",
    "- Create a list of first 10 even number using list comprehension."
   ]
  },
  {
   "cell_type": "code",
   "execution_count": 10,
   "id": "dba9c1d1",
   "metadata": {},
   "outputs": [
    {
     "data": {
      "text/plain": [
       "[2, 4, 6, 8, 10]"
      ]
     },
     "execution_count": 10,
     "metadata": {},
     "output_type": "execute_result"
    }
   ],
   "source": [
    "[x for x in range(1,11) if x%2==0]"
   ]
  },
  {
   "cell_type": "markdown",
   "id": "0c533d13",
   "metadata": {},
   "source": [
    "**Example**\n",
    "\n",
    "- Using list comprehension, create a list which has square of value from 1 to 5 (both included) with the following string:\n",
    "   - [Square of 1 is 1,  Square of 2 is 4,.....]"
   ]
  },
  {
   "cell_type": "code",
   "execution_count": 11,
   "id": "91ccd638",
   "metadata": {},
   "outputs": [
    {
     "data": {
      "text/plain": [
       "['Square of 1 is 1',\n",
       " 'Square of 2 is 4',\n",
       " 'Square of 3 is 9',\n",
       " 'Square of 4 is 16',\n",
       " 'Square of 5 is 25']"
      ]
     },
     "execution_count": 11,
     "metadata": {},
     "output_type": "execute_result"
    }
   ],
   "source": [
    "[(f\"Square of {i} is {i*i}\") for i in range(1,5+1)]"
   ]
  },
  {
   "cell_type": "markdown",
   "id": "c004fc3f",
   "metadata": {},
   "source": [
    "### 2.2. Dictionary Comprehension"
   ]
  },
  {
   "cell_type": "markdown",
   "id": "0d25f1e1",
   "metadata": {},
   "source": [
    "**Example**\n",
    "\n",
    " - Create a dictionary of number as key and their square as vlue for first 10 numbers."
   ]
  },
  {
   "cell_type": "code",
   "execution_count": 12,
   "id": "f3226676",
   "metadata": {},
   "outputs": [
    {
     "data": {
      "text/plain": [
       "{1: 1, 2: 4, 3: 9, 4: 16, 5: 25, 6: 36, 7: 49, 8: 64, 9: 81, 10: 100}"
      ]
     },
     "execution_count": 12,
     "metadata": {},
     "output_type": "execute_result"
    }
   ],
   "source": [
    "{i:i**2 for i in range(1,11)}"
   ]
  },
  {
   "cell_type": "markdown",
   "id": "407afa61",
   "metadata": {},
   "source": [
    "**Example**\n",
    "\n",
    "- For the give list of words create a dictionary of key as word and value as word length.\n",
    "     - Happiness = ['Bliss','Paradise','Prosperity','Euphoria','Delight']"
   ]
  },
  {
   "cell_type": "code",
   "execution_count": 13,
   "id": "1a0af211",
   "metadata": {},
   "outputs": [
    {
     "data": {
      "text/plain": [
       "{'Bliss': 5, 'Paradise': 8, 'Prosperity': 10, 'Euphoria': 8, 'Delight': 7}"
      ]
     },
     "execution_count": 13,
     "metadata": {},
     "output_type": "execute_result"
    }
   ],
   "source": [
    "Happiness = ['Bliss','Paradise','Prosperity','Euphoria','Delight']\n",
    "\n",
    "{word:len(word) for word in Happiness}"
   ]
  },
  {
   "cell_type": "markdown",
   "id": "1462cab1",
   "metadata": {},
   "source": [
    "**Example**\n",
    "\n",
    "- For given dictionary create another dictionary with key:item value:price(inr).\n",
    "   - grocery_list = {'milk':2.5,'butter':3.5,'bread':1.8}"
   ]
  },
  {
   "cell_type": "code",
   "execution_count": 14,
   "id": "0c7f3a1f",
   "metadata": {},
   "outputs": [
    {
     "data": {
      "text/plain": [
       "{'milk': 187.5, 'butter': 262.5, 'bread': 135.0}"
      ]
     },
     "execution_count": 14,
     "metadata": {},
     "output_type": "execute_result"
    }
   ],
   "source": [
    "grocery_list = {'milk':2.5,'butter':3.5,'bread':1.8}\n",
    "\n",
    "{k:v*75 for k,v in grocery_list.items()}"
   ]
  },
  {
   "cell_type": "markdown",
   "id": "dc56b278",
   "metadata": {},
   "source": [
    "## 3. Python Functions\n",
    "\n",
    "\n",
    "\n",
    "\n",
    "**1. User Define Function**\n",
    "\n",
    "**2. Lambda Function**\n",
    "\n",
    "**3. Map Function**\n",
    "\n",
    "**4. Filter Function**\n",
    "\n",
    "**5. Reduce Function**"
   ]
  },
  {
   "cell_type": "markdown",
   "id": "35c2eb8b",
   "metadata": {},
   "source": [
    "### 3.1. User Define Function\n",
    "\n",
    "- A function is a block of code which only runs when it is called.\n",
    "- You can pass data, known as parameters, into a function.\n",
    "- A function can return data as a result."
   ]
  },
  {
   "cell_type": "markdown",
   "id": "82e0736e",
   "metadata": {},
   "source": [
    "#### Creating a Function\n",
    "\n",
    "- In Python a function is defined using the def keyword."
   ]
  },
  {
   "cell_type": "markdown",
   "id": "9bb7cd01",
   "metadata": {},
   "source": [
    "**Example**"
   ]
  },
  {
   "cell_type": "code",
   "execution_count": 15,
   "id": "f8818e18",
   "metadata": {},
   "outputs": [],
   "source": [
    "def my_function():\n",
    "    print(\"Hello from a Function!\")"
   ]
  },
  {
   "cell_type": "markdown",
   "id": "648b988b",
   "metadata": {},
   "source": [
    "#### Calling a Function\n",
    "\n",
    "- To call a function, use the function name followed by parenthesis."
   ]
  },
  {
   "cell_type": "markdown",
   "id": "5709a6fb",
   "metadata": {},
   "source": [
    "**Example**"
   ]
  },
  {
   "cell_type": "code",
   "execution_count": 16,
   "id": "87bffcbd",
   "metadata": {},
   "outputs": [
    {
     "name": "stdout",
     "output_type": "stream",
     "text": [
      "Hello from a Function!\n"
     ]
    }
   ],
   "source": [
    "def my_function():\n",
    "    print(\"Hello from a Function!\")\n",
    "\n",
    "my_function()"
   ]
  },
  {
   "cell_type": "markdown",
   "id": "d7b29ab3",
   "metadata": {},
   "source": [
    "#### Arguments\n",
    "\n",
    "- Information can be passed into functions as arguments.\n",
    "- Arguments are specified after the function name, inside the parentheses. You can add as many arguments as you want, just separate them with a comma.\n",
    "- The following example has a function with one argument (fname). When the function is called, we pass along a first name, which is used inside the function to print the full name"
   ]
  },
  {
   "cell_type": "markdown",
   "id": "7f297153",
   "metadata": {},
   "source": [
    "**Example**"
   ]
  },
  {
   "cell_type": "code",
   "execution_count": 17,
   "id": "289f5a3a",
   "metadata": {},
   "outputs": [
    {
     "name": "stdout",
     "output_type": "stream",
     "text": [
      "Emil Refsnes\n",
      "Tobias Refsnes\n",
      "Linus Refsnes\n"
     ]
    }
   ],
   "source": [
    "def my_function(fname):\n",
    "    print(fname + \" Refsnes\")\n",
    "\n",
    "my_function(\"Emil\")\n",
    "my_function(\"Tobias\")\n",
    "my_function(\"Linus\")"
   ]
  },
  {
   "cell_type": "markdown",
   "id": "1233db62",
   "metadata": {},
   "source": [
    "#### Number of Arguments\n",
    "\n",
    ">By default, a function must be called with the correct number of arguments. Meaning that if your function expects 2 arguments, you have to call the function with 2 arguments, not more, and not less. If you try to call the function with other than 2 arguments, you will get an error."
   ]
  },
  {
   "cell_type": "markdown",
   "id": "93c9dec1",
   "metadata": {},
   "source": [
    "**Example**"
   ]
  },
  {
   "cell_type": "code",
   "execution_count": 18,
   "id": "258a9f2d",
   "metadata": {},
   "outputs": [
    {
     "name": "stdout",
     "output_type": "stream",
     "text": [
      "Emil Refsnes\n"
     ]
    }
   ],
   "source": [
    "def my_function(fname, lname):\n",
    "    print(fname + \" \" + lname)\n",
    "\n",
    "my_function(\"Emil\", \"Refsnes\")"
   ]
  },
  {
   "cell_type": "markdown",
   "id": "1781e754",
   "metadata": {},
   "source": [
    "#### Arbitrary Arguments\n",
    "\n",
    "- If you do not know how many arguments that will be passed into your function, add a * before the parameter name in the function definition.\n",
    "- This way the function will receive a tuple of arguments, and can access the items accordingly."
   ]
  },
  {
   "cell_type": "markdown",
   "id": "8b171100",
   "metadata": {},
   "source": [
    "**Example**"
   ]
  },
  {
   "cell_type": "code",
   "execution_count": 19,
   "id": "3ef0d5f7",
   "metadata": {},
   "outputs": [
    {
     "name": "stdout",
     "output_type": "stream",
     "text": [
      "The youngest child is Emil\n"
     ]
    }
   ],
   "source": [
    "def my_function(*kids):\n",
    "    print(\"The youngest child is \" + kids[0])\n",
    "\n",
    "my_function(\"Emil\", \"Tobias\", \"Linus\")"
   ]
  },
  {
   "cell_type": "markdown",
   "id": "570bab49",
   "metadata": {},
   "source": [
    "#### Keyword Arguments\n",
    "\n",
    "- You can also send arguments with the key = value syntax.\n",
    "- This way the order of the arguments does not matter."
   ]
  },
  {
   "cell_type": "markdown",
   "id": "3e3ae711",
   "metadata": {},
   "source": [
    "**Example**"
   ]
  },
  {
   "cell_type": "code",
   "execution_count": 20,
   "id": "2a1a8d01",
   "metadata": {},
   "outputs": [
    {
     "name": "stdout",
     "output_type": "stream",
     "text": [
      "The youngest child is Linus\n"
     ]
    }
   ],
   "source": [
    "def my_function(child3, child2, child1):\n",
    "    print(\"The youngest child is \" + child3)\n",
    "\n",
    "my_function(child1 = \"Emil\", child2 = \"Tobias\", child3 = \"Linus\")"
   ]
  },
  {
   "cell_type": "markdown",
   "id": "a39099f9",
   "metadata": {},
   "source": [
    "#### Arbitrary Keyword Arguments\n",
    "\n",
    "- If you do not know how many keyword arguments that will be passed into your function, add two asterisk: ** before the parameter name in the function definition.\n",
    "- This way the function will receive a dictionary of arguments, and can access the items accordingly:"
   ]
  },
  {
   "cell_type": "markdown",
   "id": "28dede02",
   "metadata": {},
   "source": [
    "**Example**"
   ]
  },
  {
   "cell_type": "code",
   "execution_count": 21,
   "id": "5226800c",
   "metadata": {},
   "outputs": [
    {
     "name": "stdout",
     "output_type": "stream",
     "text": [
      "His last name is Refsnes\n"
     ]
    }
   ],
   "source": [
    "def my_function(**kid):\n",
    "    print(\"His last name is \" + kid[\"lname\"])\n",
    "\n",
    "my_function(fname = \"Tobias\", lname = \"Refsnes\")"
   ]
  },
  {
   "cell_type": "markdown",
   "id": "b86ccbfe",
   "metadata": {},
   "source": [
    "#### Special Symbols Used for Passing Arguments\n",
    "\n",
    "    *args (Non-Keyword Arguments)\n",
    "    **kwargs (Keyword Arguments)\n",
    "    \n",
    "We use the “wildcard” or “*” notation like this – `*args` OR `**kwargs` – as our function’s argument when we have doubts about the number of  arguments we should pass in a function."
   ]
  },
  {
   "cell_type": "markdown",
   "id": "63a956a4",
   "metadata": {},
   "source": [
    "#### 1.  *args\n",
    "\n",
    "The special syntax *args in function definitions in python is used to pass a variable number of arguments to a function. It is used to pass a non-key worded, variable-length argument list.\n",
    "\n",
    " >The syntax is to use the symbol * to take in a variable number of arguments; by convention, it is often used with the word args.<br>What *args allows you to do is take in more arguments than the number of formal arguments that you previously defined. With *args, any number of extra arguments can be tacked on to your current formal parameters (including zero extra arguments).<br>For example, we want to make a multiply function that takes any number of arguments and is able to multiply them all together. It can be done using *args.<br>Using the *, the variable that we associate with the * becomes an iterable meaning you can do things like iterate over it, run some higher-order functions such as map and filter, etc."
   ]
  },
  {
   "cell_type": "markdown",
   "id": "51c0f115",
   "metadata": {},
   "source": [
    "**Example**"
   ]
  },
  {
   "cell_type": "code",
   "execution_count": 22,
   "id": "299d30b8",
   "metadata": {},
   "outputs": [
    {
     "name": "stdout",
     "output_type": "stream",
     "text": [
      "Apple\n",
      "Mango\n",
      "Banana\n",
      "Graps\n",
      "Bery\n"
     ]
    }
   ],
   "source": [
    "def myFun(*args):\n",
    "    \n",
    "    for items in args:\n",
    "        print(items)\n",
    "        \n",
    "favFruits = [\"Apple\",\"Mango\",\"Banana\",\"Graps\",\"Bery\"]\n",
    "\n",
    "myFun(*favFruits)"
   ]
  },
  {
   "cell_type": "markdown",
   "id": "1ac1c648",
   "metadata": {},
   "source": [
    "**Note**: "
   ]
  },
  {
   "cell_type": "code",
   "execution_count": 23,
   "id": "1a4515e1",
   "metadata": {},
   "outputs": [
    {
     "name": "stdout",
     "output_type": "stream",
     "text": [
      "['Apple', 'Mango', 'Banana', 'Graps', 'Bery']\n"
     ]
    }
   ],
   "source": [
    "def myFun(*args):\n",
    "    \n",
    "    for items in args:\n",
    "        print(items)\n",
    "        \n",
    "favFruits = [\"Apple\",\"Mango\",\"Banana\",\"Graps\",\"Bery\"]\n",
    "\n",
    "myFun(favFruits)"
   ]
  },
  {
   "cell_type": "markdown",
   "id": "93f338d2",
   "metadata": {},
   "source": [
    "**Eample**"
   ]
  },
  {
   "cell_type": "code",
   "execution_count": 24,
   "id": "2fe31ffb",
   "metadata": {},
   "outputs": [
    {
     "name": "stdout",
     "output_type": "stream",
     "text": [
      "This is List of My Favourate Fruits: \n",
      "Apple\n",
      "Mango\n",
      "Banana\n",
      "Graps\n",
      "Bery\n"
     ]
    }
   ],
   "source": [
    "def myFun(formal_arg, *args):\n",
    "    \n",
    "    print(formal_arg)\n",
    "    \n",
    "    for items in args:\n",
    "        print(items)\n",
    "        \n",
    "favFruits = [\"Apple\",\"Mango\",\"Banana\",\"Graps\",\"Bery\"]\n",
    "\n",
    "a = \"This is List of My Favourate Fruits: \"\n",
    "\n",
    "myFun(a, *favFruits)"
   ]
  },
  {
   "cell_type": "markdown",
   "id": "75e98809",
   "metadata": {},
   "source": [
    "#### 2. **kwargs\n",
    "\n",
    "The special syntax **kwargs in function definitions in python is used to pass a keyworded, variable-length argument list. We use the name kwargs with the double star. The reason is that the double star allows us to pass through keyword arguments (and any number of them).\n",
    ">A keyword argument is where you provide a name to the variable as you pass it into the function.<br>One can think of the kwargs as being a dictionary that maps each keyword to the value that we pass alongside it. That is why when we iterate over the kwargs there doesn’t seem to be any order in which they were printed out."
   ]
  },
  {
   "cell_type": "markdown",
   "id": "a68d3b47",
   "metadata": {},
   "source": [
    "**Example**"
   ]
  },
  {
   "cell_type": "code",
   "execution_count": 25,
   "id": "3fb1f312",
   "metadata": {},
   "outputs": [
    {
     "name": "stdout",
     "output_type": "stream",
     "text": [
      "India - New Delhi\n",
      "USA - Washington\n",
      "France - Paris\n"
     ]
    }
   ],
   "source": [
    "def myFun(**kwargs):\n",
    "    \n",
    "    for key, value in kwargs.items():\n",
    "        print(\"%s - %s\" % (key, value))\n",
    "  \n",
    "  \n",
    "myFun(India ='New Delhi', USA = 'Washington', France = 'Paris')"
   ]
  },
  {
   "cell_type": "markdown",
   "id": "ae66ab8a",
   "metadata": {},
   "source": [
    "**Example**"
   ]
  },
  {
   "cell_type": "code",
   "execution_count": 26,
   "id": "5cc10ce6",
   "metadata": {},
   "outputs": [
    {
     "name": "stdout",
     "output_type": "stream",
     "text": [
      "Countries and Capital \n",
      "\n",
      "India - New Delhi\n",
      "USA - Washington\n",
      "France - Paris\n"
     ]
    }
   ],
   "source": [
    "def myFun(formal_arg, **kwargs):\n",
    "    \n",
    "    print(formal_arg)\n",
    "    \n",
    "    for key, value in kwargs.items():\n",
    "        print(\"%s - %s\" % (key, value))\n",
    "\n",
    "a = \"Countries and Capital \\n\" \n",
    "  \n",
    "myFun(a, India ='New Delhi', USA = 'Washington', France = 'Paris')"
   ]
  },
  {
   "cell_type": "markdown",
   "id": "2dd25cbb",
   "metadata": {},
   "source": [
    "#### Using both *args and **kwargs to call a function"
   ]
  },
  {
   "cell_type": "code",
   "execution_count": 27,
   "id": "af929f1e",
   "metadata": {},
   "outputs": [
    {
     "name": "stdout",
     "output_type": "stream",
     "text": [
      "List the following countries with their capital. \n",
      "\n",
      "India\n",
      "USA\n",
      "France \n",
      "\n",
      "India - New Delhi\n",
      "USA - Washington\n",
      "France - Paris\n"
     ]
    }
   ],
   "source": [
    "def myFun(formal_arg, *args, **kwargs):\n",
    "    \n",
    "    print(formal_arg)\n",
    "    \n",
    "    for item in args:\n",
    "        print(item)\n",
    "    \n",
    "    for key, value in kwargs.items():\n",
    "        print(\"%s - %s\" % (key, value))\n",
    "        \n",
    "a = \"List the following countries with their capital. \\n\"\n",
    "\n",
    "b = [\"India\",\"USA\",\"France \\n\"]\n",
    "\n",
    "myFun(a,*b, India ='New Delhi', USA = 'Washington', France = 'Paris') "
   ]
  },
  {
   "cell_type": "markdown",
   "id": "28b8a58a",
   "metadata": {},
   "source": [
    "#### Default Parameter Value\n",
    "\n",
    "- The following example shows how to use a default parameter value.\n",
    "- If we call the function without argument, it uses the default value."
   ]
  },
  {
   "cell_type": "markdown",
   "id": "4fbd6ec2",
   "metadata": {},
   "source": [
    "**Example**"
   ]
  },
  {
   "cell_type": "code",
   "execution_count": 28,
   "id": "a5258eea",
   "metadata": {},
   "outputs": [
    {
     "name": "stdout",
     "output_type": "stream",
     "text": [
      "I am from Sweden.\n",
      "I am from Norway.\n",
      "I am from Brazil.\n"
     ]
    }
   ],
   "source": [
    "def my_function(country = \"Norway.\"):\n",
    "    print(\"I am from \" + country)\n",
    "\n",
    "my_function(\"Sweden.\")\n",
    "my_function()\n",
    "my_function(\"Brazil.\")"
   ]
  },
  {
   "cell_type": "markdown",
   "id": "a1cdeec6",
   "metadata": {},
   "source": [
    "#### Passing a List as an Argument\n",
    "\n",
    "- You can send any data types of argument to a function (string, number, list, dictionary etc.), and it will be treated as the same data type inside the function.\n",
    "- E.g. if you send a List as an argument, it will still be a List when it reaches the function."
   ]
  },
  {
   "cell_type": "code",
   "execution_count": 29,
   "id": "dd757a65",
   "metadata": {},
   "outputs": [
    {
     "name": "stdout",
     "output_type": "stream",
     "text": [
      "Apple\n",
      "Banana\n",
      "Mango\n"
     ]
    }
   ],
   "source": [
    "def my_function(food):\n",
    "    \n",
    "    for x in food:\n",
    "        print(x)\n",
    "\n",
    "fruits = [\"Apple\", \"Banana\", \"Mango\"]\n",
    "\n",
    "my_function(fruits)"
   ]
  },
  {
   "cell_type": "markdown",
   "id": "94de2cb8",
   "metadata": {},
   "source": [
    "#### Return Values\n",
    "\n",
    "- To let a function return a value, use the return statement."
   ]
  },
  {
   "cell_type": "markdown",
   "id": "816bb2b3",
   "metadata": {},
   "source": [
    "**Example**"
   ]
  },
  {
   "cell_type": "code",
   "execution_count": 30,
   "id": "144a9684",
   "metadata": {},
   "outputs": [
    {
     "name": "stdout",
     "output_type": "stream",
     "text": [
      "15\n",
      "25\n",
      "35\n"
     ]
    }
   ],
   "source": [
    "def my_function(x):\n",
    "    return 5 * x\n",
    "\n",
    "print(my_function(3))\n",
    "print(my_function(5))\n",
    "print(my_function(7))"
   ]
  },
  {
   "cell_type": "markdown",
   "id": "605d8726",
   "metadata": {},
   "source": [
    "**Q. Write a program to print all prime number between a given range.**"
   ]
  },
  {
   "cell_type": "code",
   "execution_count": 31,
   "id": "e1a3a58d",
   "metadata": {},
   "outputs": [
    {
     "name": "stdout",
     "output_type": "stream",
     "text": [
      "Enter the lower limit of the range: 45\n",
      "Enter the upper limit of the range: 123\n",
      "\n",
      "List of Prime Numbers in Range 45 and 123 is:\n",
      " [47, 53, 59, 61, 67, 71, 73, 79, 83, 89, 97, 101, 103, 107, 109, 113]\n"
     ]
    }
   ],
   "source": [
    "def primeNumber_list(a,b):\n",
    "    \n",
    "    l = []\n",
    "\n",
    "    for i in range(a,b):\n",
    "    \n",
    "        for j in range (2,i):\n",
    "        \n",
    "            if i % j == 0:\n",
    "                break          \n",
    "        else:\n",
    "            l.append(i)\n",
    "            \n",
    "    print(\"\\nList of Prime Numbers in Range\", a,\"and\", b,\"is:\\n\",l)\n",
    "    \n",
    "    \n",
    "x = int(input(\"Enter the lower limit of the range: \"))\n",
    "y = int(input(\"Enter the upper limit of the range: \"))\n",
    "\n",
    "\n",
    "primeNumber_list(x,y)"
   ]
  },
  {
   "cell_type": "markdown",
   "id": "843e0c42",
   "metadata": {},
   "source": [
    "### 3.2. Lambda Function\n",
    "\n",
    "- A lambda function is a small anonymous function.\n",
    "- A lambda function can take any number of arguments, but can only have one expression."
   ]
  },
  {
   "cell_type": "markdown",
   "id": "28b60777",
   "metadata": {},
   "source": [
    "- Syntax:"
   ]
  },
  {
   "cell_type": "raw",
   "id": "2465f86f",
   "metadata": {},
   "source": [
    "lambda arguments : expression"
   ]
  },
  {
   "cell_type": "markdown",
   "id": "db285780",
   "metadata": {},
   "source": [
    "- The expression is executed and the result is returned."
   ]
  },
  {
   "cell_type": "markdown",
   "id": "22c0bbdf",
   "metadata": {},
   "source": [
    "**Example**\n",
    "\n",
    "- Add 10 to argument a, and return the result."
   ]
  },
  {
   "cell_type": "code",
   "execution_count": 32,
   "id": "ab276502",
   "metadata": {},
   "outputs": [
    {
     "name": "stdout",
     "output_type": "stream",
     "text": [
      "15\n"
     ]
    }
   ],
   "source": [
    "x = lambda a : a + 10\n",
    "print(x(5))"
   ]
  },
  {
   "cell_type": "markdown",
   "id": "70363fb3",
   "metadata": {},
   "source": [
    "- Lambda functions can take any number of arguments."
   ]
  },
  {
   "cell_type": "markdown",
   "id": "5adcc029",
   "metadata": {},
   "source": [
    "**Example**\n",
    "\n",
    "- Multiply argument a with argument b and return the result."
   ]
  },
  {
   "cell_type": "code",
   "execution_count": 33,
   "id": "8f558fc4",
   "metadata": {},
   "outputs": [
    {
     "name": "stdout",
     "output_type": "stream",
     "text": [
      "30\n"
     ]
    }
   ],
   "source": [
    "x = lambda a, b : a * b\n",
    "print(x(5, 6))"
   ]
  },
  {
   "cell_type": "markdown",
   "id": "cb8f6e0f",
   "metadata": {},
   "source": [
    "**Example**\n",
    "\n",
    "- Summarize argument a, b, and c and return the result."
   ]
  },
  {
   "cell_type": "code",
   "execution_count": 34,
   "id": "c065d2de",
   "metadata": {},
   "outputs": [
    {
     "name": "stdout",
     "output_type": "stream",
     "text": [
      "13\n"
     ]
    }
   ],
   "source": [
    "x = lambda a, b, c : a + b + c\n",
    "print(x(5, 6, 2))"
   ]
  },
  {
   "cell_type": "markdown",
   "id": "2361bc91",
   "metadata": {},
   "source": [
    "#### Why Use Lambda Functions?\n",
    "\n",
    "- The power of lambda is better shown when you use them as an anonymous function inside another function.\n",
    "- Say you have a function definition that takes one argument, and that argument will be multiplied with an unknown number."
   ]
  },
  {
   "cell_type": "raw",
   "id": "fc3418b9",
   "metadata": {},
   "source": [
    "def myfunc(n):\n",
    "    return lambda a : a * n"
   ]
  },
  {
   "cell_type": "markdown",
   "id": "37c029bc",
   "metadata": {},
   "source": [
    "- Use that function definition to make a function that always doubles the number you send in."
   ]
  },
  {
   "cell_type": "markdown",
   "id": "c21b5583",
   "metadata": {},
   "source": [
    "**Example**"
   ]
  },
  {
   "cell_type": "code",
   "execution_count": 35,
   "id": "1436a6cf",
   "metadata": {},
   "outputs": [
    {
     "name": "stdout",
     "output_type": "stream",
     "text": [
      "22\n"
     ]
    }
   ],
   "source": [
    "def myfunc(n):\n",
    "    return lambda a : a * n\n",
    "\n",
    "mydoubler = myfunc(2)\n",
    "\n",
    "print(mydoubler(11))"
   ]
  },
  {
   "cell_type": "markdown",
   "id": "3fd0bea0",
   "metadata": {},
   "source": [
    "- Or, use the same function definition to make a function that always triples the number you send in."
   ]
  },
  {
   "cell_type": "markdown",
   "id": "9170f9da",
   "metadata": {},
   "source": [
    "**Example**"
   ]
  },
  {
   "cell_type": "code",
   "execution_count": 36,
   "id": "6c541e18",
   "metadata": {},
   "outputs": [
    {
     "name": "stdout",
     "output_type": "stream",
     "text": [
      "33\n"
     ]
    }
   ],
   "source": [
    "def myfunc(n):\n",
    "    return lambda a : a * n\n",
    "\n",
    "mytripler = myfunc(3)\n",
    "\n",
    "print(mytripler(11))"
   ]
  },
  {
   "cell_type": "markdown",
   "id": "18ada3f4",
   "metadata": {},
   "source": [
    "- Or, use the same function definition to make both functions, in the same program."
   ]
  },
  {
   "cell_type": "markdown",
   "id": "626c488e",
   "metadata": {},
   "source": [
    "**Example**"
   ]
  },
  {
   "cell_type": "code",
   "execution_count": 37,
   "id": "5275808e",
   "metadata": {},
   "outputs": [
    {
     "name": "stdout",
     "output_type": "stream",
     "text": [
      "22\n",
      "33\n"
     ]
    }
   ],
   "source": [
    "def myfunc(n):\n",
    "    return lambda a : a * n\n",
    "\n",
    "mydoubler = myfunc(2)\n",
    "mytripler = myfunc(3)\n",
    "\n",
    "print(mydoubler(11)) \n",
    "print(mytripler(11))"
   ]
  },
  {
   "cell_type": "markdown",
   "id": "4b84eb79",
   "metadata": {},
   "source": [
    "**Use lambda functions when an anonymous function is required for a short period of time.**"
   ]
  },
  {
   "cell_type": "markdown",
   "id": "6054810a",
   "metadata": {},
   "source": [
    "### 3.3. Map Function\n",
    "\n",
    "- The map( ) function returns a map object(which is an iterator) of the results after applying the given function to each item of a given iterable(list, tuple, etc.)\n",
    "   - The function here can be a lambda function or a function object.\n",
    "   - The iterable object can be a string, list, tuple, set or dictionary."
   ]
  },
  {
   "cell_type": "markdown",
   "id": "db794e49",
   "metadata": {},
   "source": [
    "- Syntax:"
   ]
  },
  {
   "cell_type": "raw",
   "id": "430739df",
   "metadata": {},
   "source": [
    "map(Function,Ittirable Object)"
   ]
  },
  {
   "cell_type": "markdown",
   "id": "0494dd5c",
   "metadata": {},
   "source": [
    "**Example** \n",
    "\n",
    "- Rewrite countries name in upper case using map function."
   ]
  },
  {
   "cell_type": "code",
   "execution_count": 38,
   "id": "180e2792",
   "metadata": {},
   "outputs": [
    {
     "data": {
      "text/plain": [
       "['INDIA', 'PAKISTAN', 'BANGLADESH', 'NEPAL']"
      ]
     },
     "execution_count": 38,
     "metadata": {},
     "output_type": "execute_result"
    }
   ],
   "source": [
    "countries = [\"India\",\"Pakistan\",\"Bangladesh\",\"Nepal\"]\n",
    "list(map(lambda x:x.upper(),countries))"
   ]
  },
  {
   "cell_type": "markdown",
   "id": "0745b976",
   "metadata": {},
   "source": [
    "**Example** \n",
    "\n",
    "- Print square of number in between 1 to 5 using map function."
   ]
  },
  {
   "cell_type": "code",
   "execution_count": 39,
   "id": "f9de291e",
   "metadata": {},
   "outputs": [
    {
     "name": "stdout",
     "output_type": "stream",
     "text": [
      "[1, 4, 9, 16]\n"
     ]
    }
   ],
   "source": [
    "list_numbers = (1,2,3,4)\n",
    "sample_map = map(lambda x: x**2, list_numbers)\n",
    "print(list(sample_map))"
   ]
  },
  {
   "cell_type": "markdown",
   "id": "2f372394",
   "metadata": {},
   "source": [
    "**Example**\n",
    "\n",
    "- Add these two list using map and lambda function.\n",
    "    - nos_1 = [1,2,3]\n",
    "    - nos_2 = [4,5,6]"
   ]
  },
  {
   "cell_type": "code",
   "execution_count": 40,
   "id": "96a22d7f",
   "metadata": {},
   "outputs": [
    {
     "data": {
      "text/plain": [
       "[5, 7, 9]"
      ]
     },
     "execution_count": 40,
     "metadata": {},
     "output_type": "execute_result"
    }
   ],
   "source": [
    "nos_1 = [1,2,3]\n",
    "nos_2 = [4,5,6]\n",
    "\n",
    "addition = lambda x,y: x+y\n",
    "\n",
    "list(map(addition,nos_1,nos_2))"
   ]
  },
  {
   "cell_type": "markdown",
   "id": "cff9a402",
   "metadata": {},
   "source": [
    "### 3.4. Filter Function\n",
    "\n",
    "- The filter( ) function filters the given sequence with the help of a function that tests each element in the sequence to be true or not.\n",
    "   -  The function object passed to the filter function should always return a boolean value.\n",
    "   - The iterable object can be a string, list, tuple, set or dictionary."
   ]
  },
  {
   "cell_type": "markdown",
   "id": "ea71bfed",
   "metadata": {},
   "source": [
    "- Syntax:"
   ]
  },
  {
   "cell_type": "raw",
   "id": "2d58a50d",
   "metadata": {},
   "source": [
    "filter(booleanFunction, Ittirable Object)"
   ]
  },
  {
   "cell_type": "markdown",
   "id": "38464865",
   "metadata": {},
   "source": [
    "**Example**\n",
    "\n",
    "- Create a list of eeven number from the given list using filter function.\n",
    "   - nos = [1,2,3,4,5,6,7,8]"
   ]
  },
  {
   "cell_type": "code",
   "execution_count": 41,
   "id": "25d0d487",
   "metadata": {},
   "outputs": [
    {
     "data": {
      "text/plain": [
       "[2, 4, 6, 8]"
      ]
     },
     "execution_count": 41,
     "metadata": {},
     "output_type": "execute_result"
    }
   ],
   "source": [
    "nos = [1,2,3,4,5,6,7,8]\n",
    "list(filter(lambda n : n%2 == 0 , nos))"
   ]
  },
  {
   "cell_type": "markdown",
   "id": "405018c2",
   "metadata": {},
   "source": [
    "**Example**\n",
    "\n",
    "- From the given list extract intigers using filter function.\n",
    "    - values = [100,\"hello\",200,True,{2:8},288.43,False,[10,20]]"
   ]
  },
  {
   "cell_type": "code",
   "execution_count": 42,
   "id": "d08ba593",
   "metadata": {},
   "outputs": [
    {
     "data": {
      "text/plain": [
       "[100, 200]"
      ]
     },
     "execution_count": 42,
     "metadata": {},
     "output_type": "execute_result"
    }
   ],
   "source": [
    "values = [100,\"hello\",200,True,{2:8},288.43,False,[10,20]]\n",
    "list(filter(lambda item : type(item) == int , values))"
   ]
  },
  {
   "cell_type": "markdown",
   "id": "2759697b",
   "metadata": {},
   "source": [
    "### 3.5. Reduce Function\n",
    "\n",
    "- The reduce function breaks down the entire process into pair-wise operations and uses the result from each operation, with the successive element.\n",
    "  - The function object passed to the reduce function decides what expression is passed to the iterable object.\n",
    "  - The iterable object can be a string, list, tuple, set or dictionary.\n",
    "  - Also, reduce function produces a single output.\n",
    "- It helps us find some facts from data such as:\n",
    "     - Finding MAX Value.\n",
    "     - Finding MIN Value.\n",
    "     - Finding SUM Value.\n",
    "     - Finding PRODUCT Value."
   ]
  },
  {
   "cell_type": "markdown",
   "id": "aa51cc8a",
   "metadata": {},
   "source": [
    "- Syntax:"
   ]
  },
  {
   "cell_type": "raw",
   "id": "e11e3183",
   "metadata": {},
   "source": [
    "from functools import reduce\n",
    "reduce(Function,Iterable Object)"
   ]
  },
  {
   "cell_type": "markdown",
   "id": "89e40a24",
   "metadata": {},
   "source": [
    "**Example** \n",
    "\n",
    "- Use reduce function to find the sum of given values.\n",
    "     - nos = [1,2,3,4,5,6]"
   ]
  },
  {
   "cell_type": "code",
   "execution_count": 43,
   "id": "165e6f72",
   "metadata": {},
   "outputs": [
    {
     "data": {
      "text/plain": [
       "21"
      ]
     },
     "execution_count": 43,
     "metadata": {},
     "output_type": "execute_result"
    }
   ],
   "source": [
    "nos = [1,2,3,4,5,6]\n",
    "\n",
    "from functools import reduce\n",
    "\n",
    "reduce(lambda x,y : x+y, nos)"
   ]
  },
  {
   "cell_type": "raw",
   "id": "090c7e4e",
   "metadata": {},
   "source": [
    "# How Values assigned to X and Y ?\n",
    "\n",
    "x   y\n",
    "1   2\n",
    "3   3\n",
    "6   4\n",
    "10  5\n",
    "15  6\n",
    "21\n",
    "\n",
    "reduce returns X as the output at the end hence 21."
   ]
  },
  {
   "cell_type": "markdown",
   "id": "637676d5",
   "metadata": {},
   "source": [
    "## 4. Python Methods"
   ]
  },
  {
   "cell_type": "markdown",
   "id": "90c3c624",
   "metadata": {},
   "source": [
    "### 4.1. Enumerate\n",
    "\n",
    "- The enumerate() method adds a counter to an iterable and returns it in a form of enumerating object. \n",
    "- This enumerated object can then be used directly for loops or converted into a list of tuples using the list() function."
   ]
  },
  {
   "cell_type": "markdown",
   "id": "e4b2db7d",
   "metadata": {},
   "source": [
    "- Syntax: "
   ]
  },
  {
   "cell_type": "raw",
   "id": "0af423da",
   "metadata": {},
   "source": [
    "enumerate(iterable, start=0)"
   ]
  },
  {
   "cell_type": "markdown",
   "id": "5b4beec2",
   "metadata": {},
   "source": [
    "**Example**"
   ]
  },
  {
   "cell_type": "code",
   "execution_count": 44,
   "id": "7c1f1670",
   "metadata": {},
   "outputs": [
    {
     "name": "stdout",
     "output_type": "stream",
     "text": [
      "Return Type: <class 'enumerate'>\n",
      "[(0, 'Eat'), (1, 'Sleep'), (2, 'Repeat')]\n",
      "[(2, 'A'), (3, 'B'), (4, 'H'), (5, 'A'), (6, 'Y')]\n"
     ]
    }
   ],
   "source": [
    "l = [\"Eat\", \"Sleep\", \"Repeat\"]\n",
    "s = \"ABHAY\"\n",
    "  \n",
    "# Creating Enumerate Bbjects\n",
    "\n",
    "object1 = enumerate(l)\n",
    "object2 = enumerate(s)\n",
    "  \n",
    "print (\"Return Type:\", type(object1))\n",
    "print (list(enumerate(l)))\n",
    "  \n",
    "# Changing Start Index to 2 from 0\n",
    "\n",
    "print (list(enumerate(s, 2)))"
   ]
  },
  {
   "cell_type": "markdown",
   "id": "1fa3113c",
   "metadata": {},
   "source": [
    "**Example**"
   ]
  },
  {
   "cell_type": "code",
   "execution_count": 45,
   "id": "dd14cac5",
   "metadata": {},
   "outputs": [
    {
     "name": "stdout",
     "output_type": "stream",
     "text": [
      "(0, 'Eat')\n",
      "(1, 'Sleep')\n",
      "(2, 'Repeat')\n",
      "100 Eat\n",
      "101 Sleep\n",
      "102 Repeat\n",
      "0\n",
      "Eat\n",
      "1\n",
      "Sleep\n",
      "2\n",
      "Repeat\n"
     ]
    }
   ],
   "source": [
    "l = [\"Eat\", \"Sleep\", \"Repeat\"]\n",
    "  \n",
    "#Printing the Tuples in Object Directly\n",
    "\n",
    "for item in enumerate(l):\n",
    "    print (item)\n",
    "\n",
    "#Changing Index and Printing Separately\n",
    "\n",
    "for count, item in enumerate(l, 100):\n",
    "    print (count, item)\n",
    "\n",
    "#Getting Desired Output from Tuple\n",
    "\n",
    "for count, item in enumerate(l):\n",
    "    print(count)\n",
    "    print(item)"
   ]
  }
 ],
 "metadata": {
  "kernelspec": {
   "display_name": "Python 3 (ipykernel)",
   "language": "python",
   "name": "python3"
  },
  "language_info": {
   "codemirror_mode": {
    "name": "ipython",
    "version": 3
   },
   "file_extension": ".py",
   "mimetype": "text/x-python",
   "name": "python",
   "nbconvert_exporter": "python",
   "pygments_lexer": "ipython3",
   "version": "3.11.4"
  }
 },
 "nbformat": 4,
 "nbformat_minor": 5
}
