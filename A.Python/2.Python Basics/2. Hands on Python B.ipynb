{
 "cells": [
  {
   "cell_type": "markdown",
   "id": "2171d2a5",
   "metadata": {},
   "source": [
    "# Hands on Python B"
   ]
  },
  {
   "cell_type": "markdown",
   "id": "c0999485",
   "metadata": {},
   "source": [
    "## Data Structure\n",
    "\n",
    "> **Data Structure are a way of organizing and storing data so that they can be accessed and worked with efficiently.\n",
    "Using Data Structure Data Scientist can focus on main problem solving insted of getting tangled in data access or data description reltated issues.**\n",
    "\n",
    "Common Operations performed on Data Structure are:\n",
    " - Add an element\n",
    " - Delete an element\n",
    " - Traverse\n",
    " - Sort the list of eleents\n",
    " - Search for a data element"
   ]
  },
  {
   "cell_type": "markdown",
   "id": "2940981e",
   "metadata": {},
   "source": [
    "## Types of Data Structure \n",
    "\n",
    "- Primetive Types of Data Structures\n",
    "   - Integer\n",
    "   - Float\n",
    "   - String\n",
    "   - Boolean\n",
    "   \n",
    "- Non-Primitive Types of Data Structures\n",
    "   - List\n",
    "   - Tuple\n",
    "   - Set\n",
    "   - Dictionary"
   ]
  },
  {
   "cell_type": "markdown",
   "id": "1987e7fd",
   "metadata": {},
   "source": [
    "## Non-Primitive Types of Data Structure\n",
    "\n",
    "- **List**  - A collection which is ordered and changeable. Allows duplicate members.\n",
    "- **Tuple** - A collection which is ordered and unchangeable. Allows duplicate members.\n",
    "- **Set** - A collection which is unordered, unchangeable*, and unindexed. No duplicate members.\n",
    "- **Dictionary**  - A collection which is ordered** and changeable. No duplicate members"
   ]
  },
  {
   "cell_type": "markdown",
   "id": "2c9b0661",
   "metadata": {},
   "source": [
    "## Python Lists\n",
    "\n",
    "- Lists are used to store multiple items in a single variable.\n",
    "- Lists are created using square brackets.\n",
    "- Lists are dynamic in size, as its size can be changed during run-time."
   ]
  },
  {
   "cell_type": "markdown",
   "id": "b8ac87af",
   "metadata": {},
   "source": [
    "**Example**\n",
    "\n",
    "- Create a List of your favourite fruits."
   ]
  },
  {
   "cell_type": "code",
   "execution_count": 1,
   "id": "4126359b",
   "metadata": {},
   "outputs": [
    {
     "name": "stdout",
     "output_type": "stream",
     "text": [
      "['Mango', 'Apple', 'Banana', 'Orange', 'Guava']\n"
     ]
    }
   ],
   "source": [
    "fav_fruit = [\"Mango\",\"Apple\", \"Banana\", \"Orange\",\"Guava\"]\n",
    "print(fav_fruit)"
   ]
  },
  {
   "cell_type": "markdown",
   "id": "54299138",
   "metadata": {},
   "source": [
    "### List Items\n",
    "\n",
    "- List items are ordered, changeable, and allow duplicate values.\n",
    "- List items are indexed, the first item has index [0], the second item has index [1] etc."
   ]
  },
  {
   "cell_type": "markdown",
   "id": "7ab86ae4",
   "metadata": {},
   "source": [
    "#### Ordered\n",
    "\n",
    "- When we say that lists are ordered, it means that the items have a defined order, and that order will not change.\n",
    "- If you add new items to a list, the new items will be placed at the end of the list."
   ]
  },
  {
   "cell_type": "markdown",
   "id": "69868773",
   "metadata": {},
   "source": [
    "#### Changeable\n",
    "\n",
    "- The list is changeable, meaning that we can change, add, and remove items in a list after it has been created."
   ]
  },
  {
   "cell_type": "markdown",
   "id": "62987f48",
   "metadata": {},
   "source": [
    "#### Duplicates Allowed\n",
    "\n",
    "- Since lists are indexed, lists can have items with the same value."
   ]
  },
  {
   "cell_type": "markdown",
   "id": "b9196557",
   "metadata": {},
   "source": [
    "### The list ( ) Constructor\n",
    "\n",
    "- It is also possible to use the list() constructor when creating a new list."
   ]
  },
  {
   "cell_type": "markdown",
   "id": "6fa162a7",
   "metadata": {},
   "source": [
    "**Example**\n",
    "\n",
    "- Using the list() constructor to make a List."
   ]
  },
  {
   "cell_type": "code",
   "execution_count": 2,
   "id": "7836bde2",
   "metadata": {},
   "outputs": [
    {
     "name": "stdout",
     "output_type": "stream",
     "text": [
      "['apple', 'banana', 'cherry', 'mango', 'graps']\n"
     ]
    }
   ],
   "source": [
    "fruits = list((\"apple\", \"banana\", \"cherry\", \"mango\", \"graps\"))\n",
    "print(fruits)"
   ]
  },
  {
   "cell_type": "markdown",
   "id": "d44c88d5",
   "metadata": {},
   "source": [
    "### List Length\n",
    "\n",
    "- To determine how many items a list has, use the len() function."
   ]
  },
  {
   "cell_type": "markdown",
   "id": "2187c9bc",
   "metadata": {},
   "source": [
    "**Example**\n",
    "\n",
    "- Print the number of items in the list."
   ]
  },
  {
   "cell_type": "code",
   "execution_count": 3,
   "id": "4184c851",
   "metadata": {},
   "outputs": [
    {
     "name": "stdout",
     "output_type": "stream",
     "text": [
      "5\n"
     ]
    }
   ],
   "source": [
    "fruits = [\"apple\", \"banana\", \"cherry\", \"mango\", \"graps\"]\n",
    "print(len(fruits))"
   ]
  },
  {
   "cell_type": "markdown",
   "id": "f036447c",
   "metadata": {},
   "source": [
    "### List Data Type\n",
    "\n",
    "- From Python's perspective, lists are defined as objects with the data type 'list'."
   ]
  },
  {
   "cell_type": "markdown",
   "id": "eab991d1",
   "metadata": {},
   "source": [
    "**Example**\n",
    "\n",
    "- What is the data type of a list?"
   ]
  },
  {
   "cell_type": "code",
   "execution_count": 4,
   "id": "c453ca2e",
   "metadata": {},
   "outputs": [
    {
     "name": "stdout",
     "output_type": "stream",
     "text": [
      "<class 'list'>\n"
     ]
    }
   ],
   "source": [
    "fruits = [\"apple\", \"banana\", \"cherry\", \"mango\", \"graps\"]\n",
    "print(type(fruits))"
   ]
  },
  {
   "cell_type": "markdown",
   "id": "82bf5b0d",
   "metadata": {},
   "source": [
    "### List Items - Data Types\n",
    "\n",
    "- List items can be of any data type."
   ]
  },
  {
   "cell_type": "markdown",
   "id": "4a07fde7",
   "metadata": {},
   "source": [
    "**Example**\n",
    "\n",
    "- Lists of string, int and boolean values."
   ]
  },
  {
   "cell_type": "code",
   "execution_count": 5,
   "id": "856a85b2",
   "metadata": {},
   "outputs": [
    {
     "name": "stdout",
     "output_type": "stream",
     "text": [
      "['apple', 'banana', 'cherry']\n",
      "[1, 5, 7, 9, 3]\n",
      "[True, False, False]\n"
     ]
    }
   ],
   "source": [
    "List_1 = [\"apple\", \"banana\", \"cherry\"]\n",
    "List_2 = [1, 5, 7, 9, 3]\n",
    "List_3 = [True, False, False]\n",
    "print(List_1)\n",
    "print(List_2)\n",
    "print(List_3)"
   ]
  },
  {
   "cell_type": "markdown",
   "id": "79712df3",
   "metadata": {},
   "source": [
    "**Example**\n",
    "\n",
    "- A list with strings, integers and boolean values."
   ]
  },
  {
   "cell_type": "code",
   "execution_count": 6,
   "id": "bb5292a9",
   "metadata": {},
   "outputs": [
    {
     "name": "stdout",
     "output_type": "stream",
     "text": [
      "['abc', 34, 140.39, True]\n"
     ]
    }
   ],
   "source": [
    "List_A = [\"abc\", 34, 140.39, True]\n",
    "print(List_A)"
   ]
  },
  {
   "cell_type": "markdown",
   "id": "38793725",
   "metadata": {},
   "source": [
    "### Accessing List Items\n",
    "\n",
    "- List items are indexed and you can access them by referring to the index number or range of index."
   ]
  },
  {
   "cell_type": "markdown",
   "id": "074ce36e",
   "metadata": {},
   "source": [
    "**Example**"
   ]
  },
  {
   "cell_type": "markdown",
   "id": "99cbf288",
   "metadata": {},
   "source": [
    "- Postivie Index"
   ]
  },
  {
   "cell_type": "code",
   "execution_count": 7,
   "id": "18a9eb20",
   "metadata": {},
   "outputs": [
    {
     "name": "stdout",
     "output_type": "stream",
     "text": [
      "mango\n"
     ]
    }
   ],
   "source": [
    "fruits = [\"apple\", \"banana\", \"cherry\", \"mango\", \"graps\", \"orange\"]\n",
    "print(fruits[3])"
   ]
  },
  {
   "cell_type": "markdown",
   "id": "8489a95e",
   "metadata": {},
   "source": [
    "- Negetive Index"
   ]
  },
  {
   "cell_type": "code",
   "execution_count": 8,
   "id": "4070820a",
   "metadata": {},
   "outputs": [
    {
     "name": "stdout",
     "output_type": "stream",
     "text": [
      "cherry\n"
     ]
    }
   ],
   "source": [
    "fruits = [\"apple\", \"banana\", \"cherry\", \"mango\", \"graps\", \"orange\"]\n",
    "print(fruits[-4])"
   ]
  },
  {
   "cell_type": "markdown",
   "id": "f8549582",
   "metadata": {},
   "source": [
    "- Range of Index"
   ]
  },
  {
   "cell_type": "code",
   "execution_count": 9,
   "id": "828601ed",
   "metadata": {},
   "outputs": [
    {
     "name": "stdout",
     "output_type": "stream",
     "text": [
      "['cherry', 'mango', 'graps']\n"
     ]
    }
   ],
   "source": [
    "fruits = [\"apple\", \"banana\", \"cherry\", \"mango\", \"graps\", \"orange\"]\n",
    "print(fruits[2:5])"
   ]
  },
  {
   "cell_type": "code",
   "execution_count": 10,
   "id": "7cf058a5",
   "metadata": {},
   "outputs": [
    {
     "name": "stdout",
     "output_type": "stream",
     "text": [
      "['cherry', 'mango', 'graps']\n"
     ]
    }
   ],
   "source": [
    "fruits = [\"apple\", \"banana\", \"cherry\", \"mango\", \"graps\", \"orange\"]\n",
    "print(fruits[-4:-1])"
   ]
  },
  {
   "cell_type": "code",
   "execution_count": 11,
   "id": "acfbef88",
   "metadata": {},
   "outputs": [
    {
     "name": "stdout",
     "output_type": "stream",
     "text": [
      "['mango', 'graps', 'orange']\n"
     ]
    }
   ],
   "source": [
    "fruits = [\"apple\", \"banana\", \"cherry\", \"mango\", \"graps\", \"orange\"]\n",
    "print(fruits[3:])"
   ]
  },
  {
   "cell_type": "code",
   "execution_count": 12,
   "id": "90ab2f90",
   "metadata": {},
   "outputs": [
    {
     "name": "stdout",
     "output_type": "stream",
     "text": [
      "['apple', 'banana', 'cherry', 'mango']\n"
     ]
    }
   ],
   "source": [
    "fruits = [\"apple\", \"banana\", \"cherry\", \"mango\", \"graps\", \"orange\"]\n",
    "print(fruits[:4])"
   ]
  },
  {
   "cell_type": "code",
   "execution_count": 13,
   "id": "9df68d24",
   "metadata": {},
   "outputs": [
    {
     "name": "stdout",
     "output_type": "stream",
     "text": [
      "['apple', 'cherry']\n"
     ]
    }
   ],
   "source": [
    "fruits = [\"apple\", \"banana\", \"cherry\", \"mango\", \"graps\", \"orange\"]\n",
    "print(fruits[0:4:2])"
   ]
  },
  {
   "cell_type": "code",
   "execution_count": 14,
   "id": "da774fd1",
   "metadata": {},
   "outputs": [
    {
     "name": "stdout",
     "output_type": "stream",
     "text": [
      "['apple', 'cherry', 'graps']\n"
     ]
    }
   ],
   "source": [
    "fruits = [\"apple\", \"banana\", \"cherry\", \"mango\", \"graps\", \"orange\"]\n",
    "print(fruits[0::2])"
   ]
  },
  {
   "cell_type": "markdown",
   "id": "ba672095",
   "metadata": {},
   "source": [
    "### Check if Item Exists\n",
    "\n",
    "- To determine if a specified item is present in a list use the \" in \" keyword."
   ]
  },
  {
   "cell_type": "markdown",
   "id": "fffb8b7e",
   "metadata": {},
   "source": [
    "**Example**\n",
    "\n",
    "- Check if \"apple\" is present in the list."
   ]
  },
  {
   "cell_type": "code",
   "execution_count": 15,
   "id": "84ea1f1d",
   "metadata": {},
   "outputs": [
    {
     "name": "stdout",
     "output_type": "stream",
     "text": [
      "Yes\n"
     ]
    }
   ],
   "source": [
    "fruits = [\"apple\", \"banana\", \"cherry\", \"mango\", \"graps\", \"orange\"]\n",
    "if \"apple\" in fruits:\n",
    "    print(\"Yes\")"
   ]
  },
  {
   "cell_type": "markdown",
   "id": "5df80e33",
   "metadata": {},
   "source": [
    "### Change List Items"
   ]
  },
  {
   "cell_type": "markdown",
   "id": "27102fc7",
   "metadata": {},
   "source": [
    "#### Change Item Value\n",
    "\n",
    "- To change the value of a specific item, refer to the index number."
   ]
  },
  {
   "cell_type": "markdown",
   "id": "f4ecbf08",
   "metadata": {},
   "source": [
    "**Example**\n",
    "\n",
    "- Change the fourth item."
   ]
  },
  {
   "cell_type": "code",
   "execution_count": 16,
   "id": "b75bc733",
   "metadata": {},
   "outputs": [
    {
     "name": "stdout",
     "output_type": "stream",
     "text": [
      "['apple', 'banana', 'cherry', 'blackcurrant', 'graps', 'orange']\n"
     ]
    }
   ],
   "source": [
    "fruits = [\"apple\", \"banana\", \"cherry\", \"mango\", \"graps\", \"orange\"]\n",
    "fruits[3] = \"blackcurrant\"\n",
    "print(fruits)"
   ]
  },
  {
   "cell_type": "markdown",
   "id": "9963ad94",
   "metadata": {},
   "source": [
    "#### Change a Range of Item Values\n",
    "\n",
    "- To change the value of items within a specific range, define a list with the new values, and refer to the range of index numbers where you want to insert the new values."
   ]
  },
  {
   "cell_type": "markdown",
   "id": "098138b5",
   "metadata": {},
   "source": [
    "**Example**\n",
    "\n",
    "- Change the values \"banana\" and \"cherry\" with the values \"blackcurrant\" and \"watermelon\"."
   ]
  },
  {
   "cell_type": "code",
   "execution_count": 17,
   "id": "a4e6cef1",
   "metadata": {},
   "outputs": [
    {
     "name": "stdout",
     "output_type": "stream",
     "text": [
      "['apple', 'blackcurrant', 'watermelon', 'orange', 'kiwi', 'mango']\n"
     ]
    }
   ],
   "source": [
    "fruits = [\"apple\", \"banana\", \"cherry\", \"orange\", \"kiwi\", \"mango\"]\n",
    "fruits[1:3] = [\"blackcurrant\", \"watermelon\"]\n",
    "print(fruits)"
   ]
  },
  {
   "cell_type": "markdown",
   "id": "ad3674df",
   "metadata": {},
   "source": [
    "**If you insert more items than you replace, the new items will be inserted where you specified, and the remaining items will move accordingly.**"
   ]
  },
  {
   "cell_type": "markdown",
   "id": "cbe1ff77",
   "metadata": {},
   "source": [
    "**Example**"
   ]
  },
  {
   "cell_type": "code",
   "execution_count": 18,
   "id": "1042c838",
   "metadata": {},
   "outputs": [
    {
     "name": "stdout",
     "output_type": "stream",
     "text": [
      "['apple', 'banana', 'blackcurrant', 'watermelon', 'orange', 'mango']\n"
     ]
    }
   ],
   "source": [
    "fruits = [\"apple\", \"banana\", \"cherry\", \"orange\", \"mango\"]\n",
    "fruits[2:3] = [\"blackcurrant\", \"watermelon\"]\n",
    "print(fruits)"
   ]
  },
  {
   "cell_type": "markdown",
   "id": "8fa7da22",
   "metadata": {},
   "source": [
    "**If you insert less items than you replace, the new items will be inserted where you specified, and the remaining items will move accordingly.**"
   ]
  },
  {
   "cell_type": "markdown",
   "id": "dd33fa20",
   "metadata": {},
   "source": [
    "**Example**"
   ]
  },
  {
   "cell_type": "code",
   "execution_count": 19,
   "id": "20d0433f",
   "metadata": {},
   "outputs": [
    {
     "name": "stdout",
     "output_type": "stream",
     "text": [
      "['apple', 'banana', 'cherry', 'blackcurrant']\n"
     ]
    }
   ],
   "source": [
    "fruits = [\"apple\", \"banana\", \"cherry\", \"orange\", \"mango\"]\n",
    "fruits[3:5] = [\"blackcurrant\"]\n",
    "print(fruits)"
   ]
  },
  {
   "cell_type": "markdown",
   "id": "31193534",
   "metadata": {},
   "source": [
    "**Note:** The length of the list will change when the number of items inserted does not match the number of items replaced."
   ]
  },
  {
   "cell_type": "markdown",
   "id": "04e8ff30",
   "metadata": {},
   "source": [
    "### Add List Items"
   ]
  },
  {
   "cell_type": "markdown",
   "id": "850075ce",
   "metadata": {},
   "source": [
    "#### Append Items\n",
    "\n",
    "- To add an item to the end of the list, use the append() method.\n",
    "- Only one item can be append at once."
   ]
  },
  {
   "cell_type": "markdown",
   "id": "197f15f1",
   "metadata": {},
   "source": [
    "**Example**\n",
    "\n",
    "- Using the append() method to append an item."
   ]
  },
  {
   "cell_type": "code",
   "execution_count": 20,
   "id": "b1fcfcfc",
   "metadata": {},
   "outputs": [
    {
     "name": "stdout",
     "output_type": "stream",
     "text": [
      "['apple', 'banana', 'cherry', 'orange']\n"
     ]
    }
   ],
   "source": [
    "fruits = [\"apple\", \"banana\", \"cherry\"]\n",
    "fruits.append(\"orange\")\n",
    "print(fruits)"
   ]
  },
  {
   "cell_type": "markdown",
   "id": "adc8c2d6",
   "metadata": {},
   "source": [
    "#### Insert Items \n",
    "\n",
    "- To insert a new list item, without replacing any of the existing values, we can use the insert() method.\n",
    "- The insert() method inserts an item at the specified index."
   ]
  },
  {
   "cell_type": "markdown",
   "id": "6221d76b",
   "metadata": {},
   "source": [
    "**Example**\n",
    "\n",
    "- Insert \"watermelon\" as the third item."
   ]
  },
  {
   "cell_type": "code",
   "execution_count": 21,
   "id": "b1fa27d9",
   "metadata": {},
   "outputs": [
    {
     "name": "stdout",
     "output_type": "stream",
     "text": [
      "['apple', 'banana', 'watermelon', 'cherry', 'orange', 'mango']\n"
     ]
    }
   ],
   "source": [
    "fruits = [\"apple\", \"banana\", \"cherry\", \"orange\", \"mango\"]\n",
    "fruits.insert(2, \"watermelon\")\n",
    "print(fruits)"
   ]
  },
  {
   "cell_type": "markdown",
   "id": "4bed4a23",
   "metadata": {},
   "source": [
    "#### Extend List\n",
    "To append elements from another list to the current list, use the extend() method."
   ]
  },
  {
   "cell_type": "markdown",
   "id": "9b4015ee",
   "metadata": {},
   "source": [
    "**Example**"
   ]
  },
  {
   "cell_type": "code",
   "execution_count": 22,
   "id": "e901d244",
   "metadata": {},
   "outputs": [
    {
     "name": "stdout",
     "output_type": "stream",
     "text": [
      "['apple', 'banana', 'cherry', 'mango', 'pineapple', 'papaya']\n"
     ]
    }
   ],
   "source": [
    "fruits_a = [\"apple\", \"banana\", \"cherry\"]\n",
    "fruits_b = [\"mango\", \"pineapple\", \"papaya\"]\n",
    "fruits_a.extend(fruits_b)\n",
    "print(fruits_a)"
   ]
  },
  {
   "cell_type": "markdown",
   "id": "47759c77",
   "metadata": {},
   "source": [
    "**Note:** The elements will be added to the end of the list."
   ]
  },
  {
   "cell_type": "markdown",
   "id": "f32f6fac",
   "metadata": {},
   "source": [
    "#### Add Any Iterable\n",
    "\n",
    "- The extend() method does not have to append lists, you can add any iterable object (tuples, sets, dictionaries etc.)."
   ]
  },
  {
   "cell_type": "markdown",
   "id": "5d106fc3",
   "metadata": {},
   "source": [
    "**Example**\n",
    "\n",
    "- Add elements of a tuple to a list."
   ]
  },
  {
   "cell_type": "code",
   "execution_count": 23,
   "id": "228c44d2",
   "metadata": {},
   "outputs": [
    {
     "name": "stdout",
     "output_type": "stream",
     "text": [
      "['apple', 'banana', 'cherry', 'kiwi', 'orange']\n"
     ]
    }
   ],
   "source": [
    "fruits_l = [\"apple\", \"banana\", \"cherry\"]\n",
    "fruits_t = (\"kiwi\", \"orange\")\n",
    "fruits_l.extend(fruits_t)\n",
    "print(fruits_l)"
   ]
  },
  {
   "cell_type": "markdown",
   "id": "c5f2cb3f",
   "metadata": {},
   "source": [
    "### Remove List Items"
   ]
  },
  {
   "cell_type": "markdown",
   "id": "0284a6a5",
   "metadata": {},
   "source": [
    "#### Remove Specified Item\n",
    "\n",
    "- The remove() method removes the specified item."
   ]
  },
  {
   "cell_type": "markdown",
   "id": "3a6b4f48",
   "metadata": {},
   "source": [
    "**Example**\n",
    "\n",
    "- Remove \"banana\"."
   ]
  },
  {
   "cell_type": "code",
   "execution_count": 24,
   "id": "3c6d2102",
   "metadata": {},
   "outputs": [
    {
     "name": "stdout",
     "output_type": "stream",
     "text": [
      "['apple', 'orange', 'cherry', 'banana']\n"
     ]
    }
   ],
   "source": [
    "fruits = [\"apple\", \"orange\", \"banana\", \"cherry\",\"banana\"]\n",
    "fruits.remove(\"banana\")\n",
    "print(fruits)"
   ]
  },
  {
   "cell_type": "markdown",
   "id": "534f6e5c",
   "metadata": {},
   "source": [
    "#### Remove Specified Index"
   ]
  },
  {
   "cell_type": "markdown",
   "id": "46b532b2",
   "metadata": {},
   "source": [
    "- The pop() method removes the specified index."
   ]
  },
  {
   "cell_type": "markdown",
   "id": "b7369b56",
   "metadata": {},
   "source": [
    "**Example**\n",
    "\n",
    "- Remove the third item."
   ]
  },
  {
   "cell_type": "code",
   "execution_count": 25,
   "id": "33352822",
   "metadata": {},
   "outputs": [
    {
     "name": "stdout",
     "output_type": "stream",
     "text": [
      "['apple', 'orange', 'cherry']\n"
     ]
    }
   ],
   "source": [
    "fruits = [\"apple\", \"orange\", \"banana\", \"cherry\"]\n",
    "fruits.pop(2)\n",
    "print(fruits)"
   ]
  },
  {
   "cell_type": "markdown",
   "id": "03d04795",
   "metadata": {},
   "source": [
    "**Note:** If you do not specify the index, the pop() method removes the last item."
   ]
  },
  {
   "cell_type": "markdown",
   "id": "233c182c",
   "metadata": {},
   "source": [
    "**Example**"
   ]
  },
  {
   "cell_type": "code",
   "execution_count": 26,
   "id": "e5be70c9",
   "metadata": {},
   "outputs": [
    {
     "name": "stdout",
     "output_type": "stream",
     "text": [
      "['apple', 'orange', 'banana']\n"
     ]
    }
   ],
   "source": [
    "fruits = [\"apple\", \"orange\", \"banana\", \"cherry\"]\n",
    "fruits.pop()\n",
    "print(fruits)"
   ]
  },
  {
   "cell_type": "markdown",
   "id": "b01a06d5",
   "metadata": {},
   "source": [
    "**Note**: pop() also returns the poped item from the list."
   ]
  },
  {
   "cell_type": "markdown",
   "id": "2978c13e",
   "metadata": {},
   "source": [
    "**Example**"
   ]
  },
  {
   "cell_type": "code",
   "execution_count": 27,
   "id": "dc602c6b",
   "metadata": {},
   "outputs": [
    {
     "name": "stdout",
     "output_type": "stream",
     "text": [
      "banana\n"
     ]
    }
   ],
   "source": [
    "fruits = [\"apple\", \"orange\", \"banana\", \"cherry\"]\n",
    "poped_item = fruits.pop(2)\n",
    "print(poped_item)"
   ]
  },
  {
   "cell_type": "markdown",
   "id": "6b5c54e8",
   "metadata": {},
   "source": [
    "- The del keyword also removes the specified index."
   ]
  },
  {
   "cell_type": "markdown",
   "id": "052f7b11",
   "metadata": {},
   "source": [
    "**Example**\n",
    "\n",
    "- Remove the second item."
   ]
  },
  {
   "cell_type": "code",
   "execution_count": 28,
   "id": "380091cd",
   "metadata": {},
   "outputs": [
    {
     "name": "stdout",
     "output_type": "stream",
     "text": [
      "['apple', 'banana', 'cherry']\n"
     ]
    }
   ],
   "source": [
    "fruits = [\"apple\", \"orange\", \"banana\", \"cherry\"]\n",
    "del fruits[1]\n",
    "print(fruits)"
   ]
  },
  {
   "cell_type": "markdown",
   "id": "383cc3e8",
   "metadata": {},
   "source": [
    "- The del keyword can also delete item in the given range."
   ]
  },
  {
   "cell_type": "markdown",
   "id": "3e98835f",
   "metadata": {},
   "source": [
    "**Example**"
   ]
  },
  {
   "cell_type": "code",
   "execution_count": 29,
   "id": "2e238748",
   "metadata": {},
   "outputs": [
    {
     "name": "stdout",
     "output_type": "stream",
     "text": [
      "['banana', 'cherry']\n"
     ]
    }
   ],
   "source": [
    "fruits = [\"apple\", \"orange\", \"banana\", \"cherry\"]\n",
    "del fruits[0:2]\n",
    "print(fruits)"
   ]
  },
  {
   "cell_type": "markdown",
   "id": "ac6c7607",
   "metadata": {},
   "source": [
    "- The del keyword can also delete the list completely."
   ]
  },
  {
   "cell_type": "markdown",
   "id": "1d4e6b21",
   "metadata": {},
   "source": [
    "**Example**"
   ]
  },
  {
   "cell_type": "code",
   "execution_count": 30,
   "id": "f4b15bd5",
   "metadata": {},
   "outputs": [],
   "source": [
    "fruits = [\"apple\", \"banana\", \"cherry\"]\n",
    "del fruits"
   ]
  },
  {
   "cell_type": "markdown",
   "id": "d618fa91",
   "metadata": {},
   "source": [
    "#### Clear the List\n",
    "\n",
    "- The clear() method empties the list.\n",
    "- The list still remains, but it has no content."
   ]
  },
  {
   "cell_type": "markdown",
   "id": "d929abf6",
   "metadata": {},
   "source": [
    "**Example**\n",
    "\n",
    "- Clear the list content."
   ]
  },
  {
   "cell_type": "code",
   "execution_count": 31,
   "id": "458e92a3",
   "metadata": {},
   "outputs": [
    {
     "name": "stdout",
     "output_type": "stream",
     "text": [
      "[]\n"
     ]
    }
   ],
   "source": [
    "fruits = [\"apple\", \"banana\", \"cherry\"]\n",
    "fruits.clear()\n",
    "print(fruits)"
   ]
  },
  {
   "cell_type": "markdown",
   "id": "ea4d9bcb",
   "metadata": {},
   "source": [
    "### Loop Lists"
   ]
  },
  {
   "cell_type": "markdown",
   "id": "440c3628",
   "metadata": {},
   "source": [
    "#### Loop Through a List\n",
    "\n",
    "- You can loop through the list items by using a for loop."
   ]
  },
  {
   "cell_type": "markdown",
   "id": "cb708a45",
   "metadata": {},
   "source": [
    "**Example**\n",
    "\n",
    "- Print all items in the list, one by one."
   ]
  },
  {
   "cell_type": "code",
   "execution_count": 32,
   "id": "e9dca533",
   "metadata": {},
   "outputs": [
    {
     "name": "stdout",
     "output_type": "stream",
     "text": [
      "apple\n",
      "banana\n",
      "cherry\n",
      "mango\n",
      "orange\n"
     ]
    }
   ],
   "source": [
    "fruits = [\"apple\", \"banana\", \"cherry\", \"mango\", \"orange\"]\n",
    "for x in fruits:\n",
    "    print(x)"
   ]
  },
  {
   "cell_type": "markdown",
   "id": "98d81b1c",
   "metadata": {},
   "source": [
    "#### Loop Through the Index Numbers\n",
    "\n",
    "- You can also loop through the list items by referring to their index number.\n",
    "- Use the range() and len() functions to create a suitable iterable."
   ]
  },
  {
   "cell_type": "markdown",
   "id": "89cb5ef8",
   "metadata": {},
   "source": [
    "**Example**\n",
    "\n",
    "- Print all items by referring to their index number."
   ]
  },
  {
   "cell_type": "code",
   "execution_count": 33,
   "id": "e43c9d2d",
   "metadata": {},
   "outputs": [
    {
     "name": "stdout",
     "output_type": "stream",
     "text": [
      "apple\n",
      "banana\n",
      "cherry\n",
      "mango\n",
      "orange\n"
     ]
    }
   ],
   "source": [
    "fruits = [\"apple\", \"banana\", \"cherry\", \"mango\", \"orange\"]\n",
    "for i in range(len(fruits)):\n",
    "    print(fruits[i])"
   ]
  },
  {
   "cell_type": "markdown",
   "id": "412c53af",
   "metadata": {},
   "source": [
    "#### Using a While Loop\n",
    "\n",
    "- You can loop through the list items by using a while loop.\n",
    "- Use the len() function to determine the length of the list, then start at 0 and loop your way through the list items by refering to their indexes.\n",
    "- Remember to increase the index by 1 after each iteration."
   ]
  },
  {
   "cell_type": "markdown",
   "id": "328eb02a",
   "metadata": {},
   "source": [
    "**Example**\n",
    "\n",
    "- Print all items, using a while loop to go through all the index numbers."
   ]
  },
  {
   "cell_type": "code",
   "execution_count": 34,
   "id": "47a5df03",
   "metadata": {},
   "outputs": [
    {
     "name": "stdout",
     "output_type": "stream",
     "text": [
      "apple\n",
      "banana\n",
      "cherry\n",
      "orange\n",
      "mango\n"
     ]
    }
   ],
   "source": [
    "fruits = [\"apple\", \"banana\", \"cherry\", \"orange\", \"mango\"]\n",
    "i = 0\n",
    "while i < len(fruits):\n",
    "    print(fruits[i])\n",
    "    i = i + 1"
   ]
  },
  {
   "cell_type": "markdown",
   "id": "5a4f6fd3",
   "metadata": {},
   "source": [
    "### Sort Lists"
   ]
  },
  {
   "cell_type": "markdown",
   "id": "f38a29a8",
   "metadata": {},
   "source": [
    "#### Sort List Alphanumerically\n",
    "\n",
    "- List objects have a sort() method that will sort the list alphanumerically, ascending, by default."
   ]
  },
  {
   "cell_type": "markdown",
   "id": "f91bcfaa",
   "metadata": {},
   "source": [
    "**Example**\n",
    "\n",
    "- Sort the list alphabetically."
   ]
  },
  {
   "cell_type": "code",
   "execution_count": 35,
   "id": "2d04cef9",
   "metadata": {},
   "outputs": [
    {
     "name": "stdout",
     "output_type": "stream",
     "text": [
      "['banana', 'kiwi', 'mango', 'orange', 'pineapple']\n"
     ]
    }
   ],
   "source": [
    "fruits = [\"orange\", \"mango\", \"kiwi\", \"pineapple\", \"banana\"]\n",
    "fruits.sort()\n",
    "print(fruits)"
   ]
  },
  {
   "cell_type": "markdown",
   "id": "25385caa",
   "metadata": {},
   "source": [
    "**Example**\n",
    "\n",
    "- Sort the list numerically."
   ]
  },
  {
   "cell_type": "code",
   "execution_count": 36,
   "id": "30cbbc7f",
   "metadata": {},
   "outputs": [
    {
     "name": "stdout",
     "output_type": "stream",
     "text": [
      "[23, 50, 65, 82, 100]\n"
     ]
    }
   ],
   "source": [
    "nums = [100, 50, 65, 82, 23]\n",
    "nums.sort()\n",
    "print(nums)"
   ]
  },
  {
   "cell_type": "markdown",
   "id": "42fd9d8d",
   "metadata": {},
   "source": [
    "**To sort descending, use the keyword argument \"reverse = True\"**"
   ]
  },
  {
   "cell_type": "markdown",
   "id": "390f6e47",
   "metadata": {},
   "source": [
    "**Example**\n",
    "\n",
    "- Sort the list descending."
   ]
  },
  {
   "cell_type": "code",
   "execution_count": 37,
   "id": "250dc761",
   "metadata": {},
   "outputs": [
    {
     "name": "stdout",
     "output_type": "stream",
     "text": [
      "['pineapple', 'orange', 'mango', 'kiwi', 'banana']\n"
     ]
    }
   ],
   "source": [
    "fruits = [\"orange\", \"mango\", \"kiwi\", \"pineapple\", \"banana\"]\n",
    "fruits.sort(reverse = True)\n",
    "print(fruits)"
   ]
  },
  {
   "cell_type": "markdown",
   "id": "47981e0d",
   "metadata": {},
   "source": [
    "#### Customize Sort Function\n",
    "\n",
    "- You can also customize your own function by using the keyword argument key = function.\n",
    "- The function will return a number that will be used to sort the list (the lowest number first)."
   ]
  },
  {
   "cell_type": "markdown",
   "id": "2847791e",
   "metadata": {},
   "source": [
    "**Example**\n",
    "\n",
    "- Sort the list based on how close the number is to 50."
   ]
  },
  {
   "cell_type": "code",
   "execution_count": 38,
   "id": "37c1d2cf",
   "metadata": {},
   "outputs": [
    {
     "name": "stdout",
     "output_type": "stream",
     "text": [
      "[50, 65, 23, 82, 100]\n"
     ]
    }
   ],
   "source": [
    "def myfunc(n):\n",
    "    return abs(n - 50)\n",
    "\n",
    "list_a = [100, 50, 65, 82, 23]\n",
    "list_a.sort(key = myfunc)\n",
    "print(list_a)"
   ]
  },
  {
   "cell_type": "markdown",
   "id": "39c79ffb",
   "metadata": {},
   "source": [
    "#### Case Insensitive Sort\n",
    "\n",
    "- By default the sort() method is case sensitive, resulting in all upper case letters being sorted before lower case letters."
   ]
  },
  {
   "cell_type": "markdown",
   "id": "42436820",
   "metadata": {},
   "source": [
    "**Example**\n",
    "\n",
    "- Case sensitive sorting can give an unexpected result."
   ]
  },
  {
   "cell_type": "code",
   "execution_count": 39,
   "id": "d56584d8",
   "metadata": {},
   "outputs": [
    {
     "name": "stdout",
     "output_type": "stream",
     "text": [
      "['Banana', 'Kiwi', 'cherry', 'orange']\n"
     ]
    }
   ],
   "source": [
    "fruits = [\"Banana\", \"orange\", \"Kiwi\", \"cherry\"]\n",
    "fruits.sort()\n",
    "print(fruits)"
   ]
  },
  {
   "cell_type": "markdown",
   "id": "f333a3c0",
   "metadata": {},
   "source": [
    "**If you do not want case sensetive sorting use the keyword argument key = str.lower.**"
   ]
  },
  {
   "cell_type": "markdown",
   "id": "5f3fb197",
   "metadata": {},
   "source": [
    "**Example**\n",
    "\n",
    "- Perform a case-insensitive sort of the list."
   ]
  },
  {
   "cell_type": "code",
   "execution_count": 40,
   "id": "2d1f5dc9",
   "metadata": {},
   "outputs": [
    {
     "name": "stdout",
     "output_type": "stream",
     "text": [
      "['Banana', 'cherry', 'Kiwi', 'orange']\n"
     ]
    }
   ],
   "source": [
    "fruits = [\"Banana\", \"orange\", \"Kiwi\", \"cherry\"]\n",
    "fruits.sort(key = str.lower)\n",
    "print(fruits)"
   ]
  },
  {
   "cell_type": "markdown",
   "id": "90bfdbc4",
   "metadata": {},
   "source": [
    "#### Reverse Order\n",
    "\n",
    "- What if you want to reverse the order of a list, regardless of the alphabet?\n",
    "- The reverse() method reverses the current sorting order of the elements."
   ]
  },
  {
   "cell_type": "markdown",
   "id": "7d6fb1f8",
   "metadata": {},
   "source": [
    "**Example**\n",
    "\n",
    "- Reverse the order of the list items."
   ]
  },
  {
   "cell_type": "code",
   "execution_count": 41,
   "id": "14f2b3c6",
   "metadata": {},
   "outputs": [
    {
     "name": "stdout",
     "output_type": "stream",
     "text": [
      "['Mango', 'cherry', 'Kiwi', 'orange', 'Banana']\n"
     ]
    }
   ],
   "source": [
    "fruits = [\"Banana\", \"orange\", \"Kiwi\", \"cherry\", \"Mango\"]\n",
    "fruits.reverse()\n",
    "print(fruits)"
   ]
  },
  {
   "cell_type": "markdown",
   "id": "f67479d9",
   "metadata": {},
   "source": [
    "### Join Lists\n",
    "\n",
    "- There are several ways to join, or concatenate, two or more lists in Python.\n",
    "- One of the easiest ways are by using the + operator."
   ]
  },
  {
   "cell_type": "markdown",
   "id": "7f6bcc5e",
   "metadata": {},
   "source": [
    "**Example**\n",
    "\n",
    "- Join two list."
   ]
  },
  {
   "cell_type": "code",
   "execution_count": 42,
   "id": "cdd03bd4",
   "metadata": {},
   "outputs": [
    {
     "name": "stdout",
     "output_type": "stream",
     "text": [
      "['a', 'b', 'c', 1, 2, 3]\n"
     ]
    }
   ],
   "source": [
    "list_a = [\"a\", \"b\", \"c\"]\n",
    "list_b = [1, 2, 3]\n",
    "\n",
    "list_c = list_a + list_b\n",
    "print(list_c)"
   ]
  },
  {
   "cell_type": "markdown",
   "id": "1278ff9e",
   "metadata": {},
   "source": [
    "**Another way to join two lists is by appending all the items from list2 into list1, one by one.**"
   ]
  },
  {
   "cell_type": "markdown",
   "id": "ae2c9011",
   "metadata": {},
   "source": [
    "**Example**\n",
    "\n",
    "- Append list_a into list_b."
   ]
  },
  {
   "cell_type": "code",
   "execution_count": 43,
   "id": "4c93dea6",
   "metadata": {},
   "outputs": [
    {
     "name": "stdout",
     "output_type": "stream",
     "text": [
      "['a', 'b', 'c', 1, 2, 3]\n"
     ]
    }
   ],
   "source": [
    "list_a = [\"a\", \"b\" , \"c\"]\n",
    "list_b = [1, 2, 3]\n",
    "\n",
    "for x in list_b:\n",
    "    list_a.append(x)\n",
    "\n",
    "print(list_a)"
   ]
  },
  {
   "cell_type": "markdown",
   "id": "0d891d7c",
   "metadata": {},
   "source": [
    "**Or you can use the extend() method, which purpose is to add elements from one list to another list.**"
   ]
  },
  {
   "cell_type": "markdown",
   "id": "f7e66544",
   "metadata": {},
   "source": [
    "**Example**\n",
    "\n",
    "- Use the extend() method to add list_b at the end of list_a."
   ]
  },
  {
   "cell_type": "code",
   "execution_count": 44,
   "id": "f75863a0",
   "metadata": {},
   "outputs": [
    {
     "name": "stdout",
     "output_type": "stream",
     "text": [
      "['a', 'b', 'c', 1, 2, 3]\n"
     ]
    }
   ],
   "source": [
    "list_a = [\"a\", \"b\" , \"c\"]\n",
    "list_b = [1, 2, 3]\n",
    "\n",
    "list_a.extend(list_b)\n",
    "print(list_a)"
   ]
  },
  {
   "cell_type": "markdown",
   "id": "5ef93fd2",
   "metadata": {},
   "source": [
    "### List Methods"
   ]
  },
  {
   "cell_type": "raw",
   "id": "4801d1f2",
   "metadata": {},
   "source": [
    "append()    Adds an element at the end of the list."
   ]
  },
  {
   "cell_type": "raw",
   "id": "d1a8ec7f",
   "metadata": {},
   "source": [
    "clear()    Removes all the elements from the list."
   ]
  },
  {
   "cell_type": "raw",
   "id": "ee683e8e",
   "metadata": {},
   "source": [
    "copy()    Returns a copy of the list."
   ]
  },
  {
   "cell_type": "raw",
   "id": "997d0a81",
   "metadata": {},
   "source": [
    "count()    Returns the number of elements with the specified value."
   ]
  },
  {
   "cell_type": "raw",
   "id": "5f037e7b",
   "metadata": {},
   "source": [
    "extend()    Add the elements of a list (or any iterable), to the end of the current list."
   ]
  },
  {
   "cell_type": "raw",
   "id": "4bfb2388",
   "metadata": {},
   "source": [
    "index()    Returns the index of the first element with the specified value."
   ]
  },
  {
   "cell_type": "raw",
   "id": "dd3724b3",
   "metadata": {},
   "source": [
    "insert()    Adds an element at the specified position."
   ]
  },
  {
   "cell_type": "raw",
   "id": "a241d772",
   "metadata": {},
   "source": [
    "pop()    Removes the element at the specified position."
   ]
  },
  {
   "cell_type": "raw",
   "id": "d409a608",
   "metadata": {},
   "source": [
    "remove()    Removes the item with the specified value."
   ]
  },
  {
   "cell_type": "raw",
   "id": "76898ae6",
   "metadata": {},
   "source": [
    "reverse()    Reverses the order of the list."
   ]
  },
  {
   "cell_type": "raw",
   "id": "829a90a9",
   "metadata": {},
   "source": [
    "sort()    Sorts the list."
   ]
  },
  {
   "cell_type": "markdown",
   "id": "3d25aba3",
   "metadata": {},
   "source": [
    "## Python Tuples\n",
    "\n",
    "- Tuples are used to store multiple items in a single variable.\n",
    "- Tuples are written with round brackets."
   ]
  },
  {
   "cell_type": "markdown",
   "id": "1fe0aec6",
   "metadata": {},
   "source": [
    "**Example**\n",
    "\n",
    "- Create a Tuple."
   ]
  },
  {
   "cell_type": "code",
   "execution_count": 45,
   "id": "5b4211ac",
   "metadata": {},
   "outputs": [
    {
     "name": "stdout",
     "output_type": "stream",
     "text": [
      "('apple', 'banana', 'cherry', 'mango', 'orange')\n"
     ]
    }
   ],
   "source": [
    "fruits = (\"apple\", \"banana\", \"cherry\",\"mango\",\"orange\")\n",
    "print(fruits)"
   ]
  },
  {
   "cell_type": "markdown",
   "id": "1a018d85",
   "metadata": {},
   "source": [
    "### Tuple Items\n",
    "\n",
    "- Tuple items are ordered, unchangeable, and allow duplicate values.\n",
    "- Tuple items are indexed, the first item has index [0], the second item has index [1] etc."
   ]
  },
  {
   "cell_type": "markdown",
   "id": "7e863dd4",
   "metadata": {},
   "source": [
    "#### Ordered\n",
    "\n",
    "- When we say that tuples are ordered, it means that the items have a defined order, and that order will not change."
   ]
  },
  {
   "cell_type": "markdown",
   "id": "74736dd3",
   "metadata": {},
   "source": [
    "#### Unchangeable\n",
    "\n",
    "- Tuples are unchangeable, meaning that we cannot change, add or remove items after the tuple has been created."
   ]
  },
  {
   "cell_type": "markdown",
   "id": "cde52d73",
   "metadata": {},
   "source": [
    "#### Duplicates Allowed\n",
    "\n",
    "- Since tuples are indexed, they can have items with the same value."
   ]
  },
  {
   "cell_type": "markdown",
   "id": "06a01a10",
   "metadata": {},
   "source": [
    "### The tuple( ) Constructor\n",
    "\n",
    "- It is also possible to use the tuple() constructor to make a tuple."
   ]
  },
  {
   "cell_type": "markdown",
   "id": "5cef0022",
   "metadata": {},
   "source": [
    "**Example**\n",
    "\n",
    "- Using the tuple() constructor to make a Tuple."
   ]
  },
  {
   "cell_type": "code",
   "execution_count": 46,
   "id": "d34d9942",
   "metadata": {},
   "outputs": [
    {
     "name": "stdout",
     "output_type": "stream",
     "text": [
      "('Mango', 'Apple', 'Banana', 'Orange', 'Guava')\n"
     ]
    }
   ],
   "source": [
    "fruits = tuple((\"Mango\",\"Apple\", \"Banana\", \"Orange\",\"Guava\"))\n",
    "print(fruits)"
   ]
  },
  {
   "cell_type": "markdown",
   "id": "0216ea7b",
   "metadata": {},
   "source": [
    "### Tuple Length\n",
    "\n",
    "- To determine how many items a tuple has, use the len() function."
   ]
  },
  {
   "cell_type": "markdown",
   "id": "8eaf7a43",
   "metadata": {},
   "source": [
    "**Example**\n",
    "\n",
    "- Print the number of items in the tuple."
   ]
  },
  {
   "cell_type": "code",
   "execution_count": 47,
   "id": "2d97e2c9",
   "metadata": {},
   "outputs": [
    {
     "name": "stdout",
     "output_type": "stream",
     "text": [
      "5\n"
     ]
    }
   ],
   "source": [
    "fruits = tuple((\"apple\", \"banana\", \"cherry\", \"mango\", \"graps\"))\n",
    "print(len(fruits))"
   ]
  },
  {
   "cell_type": "markdown",
   "id": "dc924818",
   "metadata": {},
   "source": [
    "### Tuple Data Type\n",
    "\n",
    "- From Python's perspective, lists are defined as objects with the data type 'tuple'."
   ]
  },
  {
   "cell_type": "markdown",
   "id": "1c9589f7",
   "metadata": {},
   "source": [
    "**Example**\n",
    "\n",
    "- What is the data type of a tuple?"
   ]
  },
  {
   "cell_type": "code",
   "execution_count": 48,
   "id": "4600795a",
   "metadata": {},
   "outputs": [
    {
     "name": "stdout",
     "output_type": "stream",
     "text": [
      "<class 'tuple'>\n"
     ]
    }
   ],
   "source": [
    "fruits = (\"apple\", \"banana\", \"cherry\", \"mango\", \"graps\")\n",
    "print(type(fruits))"
   ]
  },
  {
   "cell_type": "markdown",
   "id": "3ed29284",
   "metadata": {},
   "source": [
    "### Tuple Items - Data Types\n",
    "\n",
    "- Tuple items can be of any data type."
   ]
  },
  {
   "cell_type": "markdown",
   "id": "5477bbf3",
   "metadata": {},
   "source": [
    "**Example**\n",
    "\n",
    "- Tuple of string, int and boolean values."
   ]
  },
  {
   "cell_type": "code",
   "execution_count": 49,
   "id": "0334b8b3",
   "metadata": {},
   "outputs": [
    {
     "name": "stdout",
     "output_type": "stream",
     "text": [
      "('apple', 'banana', 'cherry', 'orange', 'mango')\n",
      "(1, 5, 7, 9, 3)\n",
      "(True, False, False)\n"
     ]
    }
   ],
   "source": [
    "Tuple_1 = (\"apple\", \"banana\", \"cherry\", \"orange\", \"mango\")\n",
    "Tuple_2 = (1, 5, 7, 9, 3)\n",
    "Tuple_3 = (True, False, False)\n",
    "print(Tuple_1)\n",
    "print(Tuple_2)\n",
    "print(Tuple_3)"
   ]
  },
  {
   "cell_type": "markdown",
   "id": "9765c14f",
   "metadata": {},
   "source": [
    "**Example**\n",
    "\n",
    "- A tuple with strings, integers and boolean values."
   ]
  },
  {
   "cell_type": "code",
   "execution_count": 50,
   "id": "7db3e3b0",
   "metadata": {},
   "outputs": [
    {
     "name": "stdout",
     "output_type": "stream",
     "text": [
      "['abc', 34, 140.39, True]\n"
     ]
    }
   ],
   "source": [
    "Tuple_A = [\"abc\", 34, 140.39, True]\n",
    "print(Tuple_A)"
   ]
  },
  {
   "cell_type": "markdown",
   "id": "03f388bf",
   "metadata": {},
   "source": [
    "### Accessing Tuple Items\n",
    "\n",
    "- Tuple items are indexed and you can access them by referring to the index number or range of index."
   ]
  },
  {
   "cell_type": "markdown",
   "id": "a5257885",
   "metadata": {},
   "source": [
    "**Example**"
   ]
  },
  {
   "cell_type": "markdown",
   "id": "e50feb6f",
   "metadata": {},
   "source": [
    "- Postivie Index"
   ]
  },
  {
   "cell_type": "code",
   "execution_count": 51,
   "id": "02fc9fb2",
   "metadata": {},
   "outputs": [
    {
     "name": "stdout",
     "output_type": "stream",
     "text": [
      "mango\n"
     ]
    }
   ],
   "source": [
    "fruits = (\"apple\", \"banana\", \"cherry\", \"mango\", \"graps\", \"orange\")\n",
    "print(fruits[3])"
   ]
  },
  {
   "cell_type": "markdown",
   "id": "664fadaa",
   "metadata": {},
   "source": [
    "- Negative Index"
   ]
  },
  {
   "cell_type": "code",
   "execution_count": 52,
   "id": "c97a6566",
   "metadata": {},
   "outputs": [
    {
     "name": "stdout",
     "output_type": "stream",
     "text": [
      "cherry\n"
     ]
    }
   ],
   "source": [
    "fruits = [\"apple\", \"banana\", \"cherry\", \"mango\", \"graps\", \"orange\"]\n",
    "print(fruits[-4])"
   ]
  },
  {
   "cell_type": "markdown",
   "id": "66875b9e",
   "metadata": {},
   "source": [
    "- Range of Index"
   ]
  },
  {
   "cell_type": "code",
   "execution_count": 53,
   "id": "d5be1efd",
   "metadata": {},
   "outputs": [
    {
     "name": "stdout",
     "output_type": "stream",
     "text": [
      "('cherry', 'mango', 'graps')\n"
     ]
    }
   ],
   "source": [
    "fruits = (\"apple\", \"banana\", \"cherry\", \"mango\", \"graps\", \"orange\")\n",
    "print(fruits[2:5])"
   ]
  },
  {
   "cell_type": "code",
   "execution_count": 54,
   "id": "d60ea930",
   "metadata": {},
   "outputs": [
    {
     "name": "stdout",
     "output_type": "stream",
     "text": [
      "('cherry', 'mango', 'graps')\n"
     ]
    }
   ],
   "source": [
    "fruits = (\"apple\", \"banana\", \"cherry\", \"mango\", \"graps\", \"orange\")\n",
    "print(fruits[-4:-1])"
   ]
  },
  {
   "cell_type": "code",
   "execution_count": 55,
   "id": "1deb630c",
   "metadata": {},
   "outputs": [
    {
     "name": "stdout",
     "output_type": "stream",
     "text": [
      "('mango', 'graps', 'orange')\n"
     ]
    }
   ],
   "source": [
    "fruits = (\"apple\", \"banana\", \"cherry\", \"mango\", \"graps\", \"orange\")\n",
    "print(fruits[3:])"
   ]
  },
  {
   "cell_type": "code",
   "execution_count": 56,
   "id": "377283e0",
   "metadata": {},
   "outputs": [
    {
     "name": "stdout",
     "output_type": "stream",
     "text": [
      "('apple', 'banana', 'cherry', 'mango')\n"
     ]
    }
   ],
   "source": [
    "fruits = (\"apple\", \"banana\", \"cherry\", \"mango\", \"graps\", \"orange\")\n",
    "print(fruits[:4])"
   ]
  },
  {
   "cell_type": "code",
   "execution_count": 57,
   "id": "151cfe47",
   "metadata": {},
   "outputs": [
    {
     "name": "stdout",
     "output_type": "stream",
     "text": [
      "('apple', 'cherry')\n"
     ]
    }
   ],
   "source": [
    "fruits = (\"apple\", \"banana\", \"cherry\", \"mango\", \"graps\", \"orange\")\n",
    "print(fruits[0:4:2])"
   ]
  },
  {
   "cell_type": "code",
   "execution_count": 58,
   "id": "9a24cbff",
   "metadata": {},
   "outputs": [
    {
     "name": "stdout",
     "output_type": "stream",
     "text": [
      "('apple', 'cherry', 'graps')\n"
     ]
    }
   ],
   "source": [
    "fruits = (\"apple\", \"banana\", \"cherry\", \"mango\", \"graps\", \"orange\")\n",
    "print(fruits[0::2])"
   ]
  },
  {
   "cell_type": "markdown",
   "id": "76fd0b55",
   "metadata": {},
   "source": [
    "### Check if Item Exists\n",
    "\n",
    "- To determine if a specified item is present in a tuple use the \" in \" keyword."
   ]
  },
  {
   "cell_type": "markdown",
   "id": "5d88fde0",
   "metadata": {},
   "source": [
    "**Example**\n",
    "\n",
    "- Check if \"apple\" is present in the tuple."
   ]
  },
  {
   "cell_type": "code",
   "execution_count": 59,
   "id": "6bbefad0",
   "metadata": {},
   "outputs": [
    {
     "name": "stdout",
     "output_type": "stream",
     "text": [
      "Yes\n"
     ]
    }
   ],
   "source": [
    "fruits = (\"apple\", \"banana\", \"cherry\", \"mango\", \"graps\", \"orange\")\n",
    "if \"apple\" in fruits:\n",
    "    print(\"Yes\")"
   ]
  },
  {
   "cell_type": "markdown",
   "id": "9a7412a1",
   "metadata": {},
   "source": [
    "### Change Tupple Items"
   ]
  },
  {
   "cell_type": "markdown",
   "id": "efb0dde2",
   "metadata": {},
   "source": [
    "**Tuples are unchangeable, meaning that you cannot change, add, or remove items once the tuple is created.**"
   ]
  },
  {
   "cell_type": "markdown",
   "id": "ab81b245",
   "metadata": {},
   "source": [
    "**So, to do any of these operations like change, add, or remove items first convert tuple into list and operate on list and convert it again to tuple.**"
   ]
  },
  {
   "cell_type": "markdown",
   "id": "c72dae5f",
   "metadata": {},
   "source": [
    "### Unpack Tuples"
   ]
  },
  {
   "cell_type": "markdown",
   "id": "26a91a40",
   "metadata": {},
   "source": [
    "- When we create a tuple, we normally assign values to it. This is called \"packing\" a tuple. But, in Python, we are also allowed to extract the values back into variables. This is called \"unpacking\"."
   ]
  },
  {
   "cell_type": "markdown",
   "id": "d5671ce4",
   "metadata": {},
   "source": [
    "**Example**"
   ]
  },
  {
   "cell_type": "code",
   "execution_count": 60,
   "id": "eb281534",
   "metadata": {},
   "outputs": [],
   "source": [
    "fruits = (\"apple\", \"banana\", \"cherry\")"
   ]
  },
  {
   "cell_type": "code",
   "execution_count": 61,
   "id": "df596e92",
   "metadata": {},
   "outputs": [],
   "source": [
    "(green, yellow, red) = fruits"
   ]
  },
  {
   "cell_type": "code",
   "execution_count": 62,
   "id": "d6a85525",
   "metadata": {},
   "outputs": [
    {
     "name": "stdout",
     "output_type": "stream",
     "text": [
      "apple\n",
      "banana\n",
      "cherry\n"
     ]
    }
   ],
   "source": [
    "print(green)\n",
    "print(yellow)\n",
    "print(red)"
   ]
  },
  {
   "cell_type": "markdown",
   "id": "f6a05a03",
   "metadata": {},
   "source": [
    "#### Using Asterisk*\n",
    "\n",
    "- If the number of variables is less than the number of values, you can add an * to the variable name and the values will be assigned to the variable as a list."
   ]
  },
  {
   "cell_type": "markdown",
   "id": "c27a21cd",
   "metadata": {},
   "source": [
    "**Example**\n",
    "\n",
    "- Assign the rest of the values as a list called \"red\"."
   ]
  },
  {
   "cell_type": "code",
   "execution_count": 63,
   "id": "68ba4698",
   "metadata": {},
   "outputs": [
    {
     "name": "stdout",
     "output_type": "stream",
     "text": [
      "apple\n",
      "banana\n",
      "['cherry', 'mango', 'graps', 'orange']\n"
     ]
    }
   ],
   "source": [
    "fruits = (\"apple\", \"banana\", \"cherry\", \"mango\", \"graps\", \"orange\")\n",
    "(green, yellow, *red) = fruits\n",
    "print(green)\n",
    "print(yellow)\n",
    "print(red)"
   ]
  },
  {
   "cell_type": "markdown",
   "id": "b7b8a61b",
   "metadata": {},
   "source": [
    "**Note:** If the asterisk is added to another variable name than the last, Python will assign values to the variable until the number of values left matches the number of variables left."
   ]
  },
  {
   "cell_type": "code",
   "execution_count": 64,
   "id": "831f129e",
   "metadata": {},
   "outputs": [
    {
     "name": "stdout",
     "output_type": "stream",
     "text": [
      "apple\n",
      "['banana', 'cherry', 'mango', 'graps']\n",
      "orange\n"
     ]
    }
   ],
   "source": [
    "fruits = (\"apple\", \"banana\", \"cherry\", \"mango\", \"graps\", \"orange\")\n",
    "(green, *yellow, red) = fruits\n",
    "print(green)\n",
    "print(yellow)\n",
    "print(red)"
   ]
  },
  {
   "cell_type": "markdown",
   "id": "ef94a989",
   "metadata": {},
   "source": [
    "### Loop Tuples"
   ]
  },
  {
   "cell_type": "markdown",
   "id": "c6b0c5d3",
   "metadata": {},
   "source": [
    "#### Loop Through a Tuple\n",
    "\n",
    "- You can loop through the tuple items by using a for loop."
   ]
  },
  {
   "cell_type": "markdown",
   "id": "c3626b0b",
   "metadata": {},
   "source": [
    "**Example**\n",
    "\n",
    "- Print all items in the tuple, one by one."
   ]
  },
  {
   "cell_type": "code",
   "execution_count": 65,
   "id": "659f4e5f",
   "metadata": {},
   "outputs": [
    {
     "name": "stdout",
     "output_type": "stream",
     "text": [
      "apple\n",
      "banana\n",
      "cherry\n",
      "mango\n",
      "orange\n"
     ]
    }
   ],
   "source": [
    "fruits = (\"apple\", \"banana\", \"cherry\", \"mango\", \"orange\")\n",
    "for x in fruits:\n",
    "    print(x)"
   ]
  },
  {
   "cell_type": "markdown",
   "id": "f35bacb3",
   "metadata": {},
   "source": [
    "#### Loop Through the Index Numbers\n",
    "\n",
    "- You can also loop through the tuple items by referring to their index number.\n",
    "- Use the range() and len() functions to create a suitable iterable."
   ]
  },
  {
   "cell_type": "markdown",
   "id": "6725fc93",
   "metadata": {},
   "source": [
    "**Example**\n",
    "\n",
    "- Print all items by referring to their index number."
   ]
  },
  {
   "cell_type": "code",
   "execution_count": 66,
   "id": "9d2f2ac5",
   "metadata": {},
   "outputs": [
    {
     "name": "stdout",
     "output_type": "stream",
     "text": [
      "apple\n",
      "banana\n",
      "cherry\n",
      "mango\n",
      "orange\n"
     ]
    }
   ],
   "source": [
    "fruits = (\"apple\", \"banana\", \"cherry\", \"mango\", \"orange\")\n",
    "for i in range(len(fruits)):\n",
    "    print(fruits[i])"
   ]
  },
  {
   "cell_type": "markdown",
   "id": "71b73852",
   "metadata": {},
   "source": [
    "#### Using a While Loop\n",
    "\n",
    "- You can loop through the list items by using a while loop.\n",
    "- Use the len() function to determine the length of the list, then start at 0 and loop your way through the list items by refering to their indexes.\n",
    "- Remember to increase the index by 1 after each iteration."
   ]
  },
  {
   "cell_type": "markdown",
   "id": "f3cecf66",
   "metadata": {},
   "source": [
    "**Example**\n",
    "\n",
    "- Print all items, using a while loop to go through all the index numbers."
   ]
  },
  {
   "cell_type": "code",
   "execution_count": 67,
   "id": "06c45743",
   "metadata": {},
   "outputs": [
    {
     "name": "stdout",
     "output_type": "stream",
     "text": [
      "apple\n",
      "banana\n",
      "cherry\n",
      "orange\n",
      "mango\n"
     ]
    }
   ],
   "source": [
    "fruits = (\"apple\", \"banana\", \"cherry\", \"orange\", \"mango\")\n",
    "i = 0\n",
    "while i < len(fruits):\n",
    "    print(fruits[i])\n",
    "    i = i + 1"
   ]
  },
  {
   "cell_type": "markdown",
   "id": "68137418",
   "metadata": {},
   "source": [
    "### Join Tuples\n",
    "\n",
    "- To join two or more tuples you can use the + operator."
   ]
  },
  {
   "cell_type": "markdown",
   "id": "649db9fc",
   "metadata": {},
   "source": [
    "**Example**\n",
    "\n",
    "- Join two tuples."
   ]
  },
  {
   "cell_type": "code",
   "execution_count": 68,
   "id": "a0649699",
   "metadata": {},
   "outputs": [
    {
     "name": "stdout",
     "output_type": "stream",
     "text": [
      "('a', 'b', 'c', 1, 2, 3)\n"
     ]
    }
   ],
   "source": [
    "tuple_a = (\"a\", \"b\", \"c\")\n",
    "tuple_b = (1, 2, 3)\n",
    "\n",
    "tuple_c = tuple_a + tuple_b\n",
    "\n",
    "print(tuple_c)"
   ]
  },
  {
   "cell_type": "markdown",
   "id": "2a74a9bd",
   "metadata": {},
   "source": [
    "#### Multiply Tuples\n",
    "\n",
    "- If you want to multiply the content of a tuple a given number of times, you can use the * operator."
   ]
  },
  {
   "cell_type": "markdown",
   "id": "c2bcd15a",
   "metadata": {},
   "source": [
    "**Example**"
   ]
  },
  {
   "cell_type": "code",
   "execution_count": 69,
   "id": "ec5b8d31",
   "metadata": {},
   "outputs": [
    {
     "name": "stdout",
     "output_type": "stream",
     "text": [
      "('apple', 'banana', 'cherry', 'apple', 'banana', 'cherry')\n",
      "(2, 4, 5, 6, 2, 4, 5, 6)\n"
     ]
    }
   ],
   "source": [
    "fruits_a = (\"apple\", \"banana\", \"cherry\")\n",
    "tuple_a = (2,4,5,6)\n",
    "\n",
    "\n",
    "fruits_1 = fruits_a * 2\n",
    "tuple_1 = tuple_a * 2\n",
    " \n",
    "print(fruits_1)\n",
    "print(tuple_1)"
   ]
  },
  {
   "cell_type": "markdown",
   "id": "fbde3148",
   "metadata": {},
   "source": [
    "### Tuple Methods\n",
    "\n",
    "- Python has two built-in methods that you can use on tuples."
   ]
  },
  {
   "cell_type": "raw",
   "id": "60fcab42",
   "metadata": {},
   "source": [
    "count()    Returns the number of times a specified value occurs in a tuple."
   ]
  },
  {
   "cell_type": "raw",
   "id": "abae43e6",
   "metadata": {},
   "source": [
    "index()    Searches the tuple for a specified value and returns the position of where it was found."
   ]
  },
  {
   "cell_type": "markdown",
   "id": "9f656597",
   "metadata": {},
   "source": [
    "## Python Sets\n",
    "\n",
    "- Sets are used to store multiple items in a single variable.\n",
    "- Sets are written with curly brackets"
   ]
  },
  {
   "cell_type": "markdown",
   "id": "3d47fe43",
   "metadata": {},
   "source": [
    "**Example**\n",
    "\n",
    "- Create a Set."
   ]
  },
  {
   "cell_type": "code",
   "execution_count": 70,
   "id": "e6197fd7",
   "metadata": {},
   "outputs": [
    {
     "name": "stdout",
     "output_type": "stream",
     "text": [
      "{'orange', 'mango', 'apple', 'banana', 'cheery'}\n"
     ]
    }
   ],
   "source": [
    "fruits = {\"apple\", \"mango\", \"cheery\", \"banana\", \"orange\"}\n",
    "print(fruits)"
   ]
  },
  {
   "cell_type": "markdown",
   "id": "98575f00",
   "metadata": {},
   "source": [
    "### Set Items\n",
    "\n",
    "- Set items are unordered, unchangeable, and do not allow duplicate values."
   ]
  },
  {
   "cell_type": "markdown",
   "id": "d0ac45a6",
   "metadata": {},
   "source": [
    "#### Unordered\n",
    "\n",
    "- Unordered means that the items in a set do not have a defined order.\n",
    "- Set items can appear in a different order every time you use them, and cannot be referred to by index or key."
   ]
  },
  {
   "cell_type": "markdown",
   "id": "e7f7d9df",
   "metadata": {},
   "source": [
    "#### Unchangeable\n",
    "\n",
    "- Set items are unchangeable, meaning that we cannot change the items after the set has been created.\n",
    "- Once a set is created, you cannot change its items, but you can remove items and add new items."
   ]
  },
  {
   "cell_type": "markdown",
   "id": "88928c0e",
   "metadata": {},
   "source": [
    "#### Duplicates Not Allowed\n",
    "\n",
    "- Sets cannot have two items with the same value."
   ]
  },
  {
   "cell_type": "markdown",
   "id": "145752ec",
   "metadata": {},
   "source": [
    "### The set ( ) Constructor\n",
    "\n",
    "- It is also possible to use the set( ) constructor to make a set."
   ]
  },
  {
   "cell_type": "markdown",
   "id": "975f1153",
   "metadata": {},
   "source": [
    "**Example**\n",
    "\n",
    "- Using the set() constructor to make a Set."
   ]
  },
  {
   "cell_type": "code",
   "execution_count": 71,
   "id": "e64242ad",
   "metadata": {},
   "outputs": [
    {
     "name": "stdout",
     "output_type": "stream",
     "text": [
      "{'Apple', 'Mango', 'Guava', 'Banana', 'Orange'}\n"
     ]
    }
   ],
   "source": [
    "fruits = set((\"Mango\",\"Apple\", \"Banana\", \"Orange\",\"Guava\"))\n",
    "print(fruits)"
   ]
  },
  {
   "cell_type": "markdown",
   "id": "bd8e2dbb",
   "metadata": {},
   "source": [
    "### Set Length\n",
    "\n",
    "- To determine how many items a set has, use the len() function."
   ]
  },
  {
   "cell_type": "markdown",
   "id": "31299283",
   "metadata": {},
   "source": [
    "**Example**\n",
    "\n",
    "- Print the number of items in the set."
   ]
  },
  {
   "cell_type": "code",
   "execution_count": 72,
   "id": "b7543971",
   "metadata": {},
   "outputs": [
    {
     "name": "stdout",
     "output_type": "stream",
     "text": [
      "5\n"
     ]
    }
   ],
   "source": [
    "fruits = set((\"apple\", \"banana\", \"cherry\", \"mango\", \"graps\"))\n",
    "print(len(fruits))"
   ]
  },
  {
   "cell_type": "markdown",
   "id": "c2735fce",
   "metadata": {},
   "source": [
    "### Set Data Type\n",
    "\n",
    "- From Python's perspective, lists are defined as objects with the data type 'set'."
   ]
  },
  {
   "cell_type": "markdown",
   "id": "07c2a78d",
   "metadata": {},
   "source": [
    "**Example**\n",
    "\n",
    "- What is the data type of a set?"
   ]
  },
  {
   "cell_type": "code",
   "execution_count": 73,
   "id": "1bc6b6a3",
   "metadata": {},
   "outputs": [
    {
     "name": "stdout",
     "output_type": "stream",
     "text": [
      "<class 'set'>\n"
     ]
    }
   ],
   "source": [
    "fruits = {\"apple\", \"banana\", \"cherry\", \"mango\", \"graps\"}\n",
    "print(type(fruits))"
   ]
  },
  {
   "cell_type": "markdown",
   "id": "a97b828b",
   "metadata": {},
   "source": [
    "### Set Items - Data Types\n",
    "\n",
    "- Set items can be of any data type."
   ]
  },
  {
   "cell_type": "markdown",
   "id": "ce809117",
   "metadata": {},
   "source": [
    "**Example**\n",
    "\n",
    "- Set of string, int and boolean values."
   ]
  },
  {
   "cell_type": "code",
   "execution_count": 74,
   "id": "333092b9",
   "metadata": {},
   "outputs": [
    {
     "name": "stdout",
     "output_type": "stream",
     "text": [
      "{'orange', 'mango', 'apple', 'banana', 'cherry'}\n",
      "{1, 3, 5, 7, 9}\n",
      "{False, True}\n"
     ]
    }
   ],
   "source": [
    "Set_1 = {\"apple\", \"banana\", \"cherry\", \"orange\", \"mango\"}\n",
    "Set_2 = {1, 5, 7, 9, 3}\n",
    "Set_3 = {True, False, False}\n",
    "print(Set_1)\n",
    "print(Set_2)\n",
    "print(Set_3)"
   ]
  },
  {
   "cell_type": "markdown",
   "id": "cb8c0f1f",
   "metadata": {},
   "source": [
    "**Example**\n",
    "\n",
    "- A set with strings, integers and boolean values."
   ]
  },
  {
   "cell_type": "code",
   "execution_count": 75,
   "id": "4f1a8b0b",
   "metadata": {},
   "outputs": [
    {
     "name": "stdout",
     "output_type": "stream",
     "text": [
      "{140.39, 34, 'abc', True}\n"
     ]
    }
   ],
   "source": [
    "Set_A = {\"abc\", 34, 140.39, True}\n",
    "print(Set_A)"
   ]
  },
  {
   "cell_type": "markdown",
   "id": "1f07ace7",
   "metadata": {},
   "source": [
    "### Accessing Tuple Items\n",
    "\n",
    "- We cannot access items in a set by referring to an index or a key.\n",
    "- But you can loop through the set items using a for loop, or ask if a specified value is present in a set, by using the in keyword."
   ]
  },
  {
   "cell_type": "markdown",
   "id": "71493b46",
   "metadata": {},
   "source": [
    "**Example**\n",
    "\n",
    "- Check if \"banana\" is present in the set."
   ]
  },
  {
   "cell_type": "code",
   "execution_count": 76,
   "id": "ee6a09c9",
   "metadata": {},
   "outputs": [
    {
     "name": "stdout",
     "output_type": "stream",
     "text": [
      "True\n"
     ]
    }
   ],
   "source": [
    "fruits = {\"mango\",\"apple\", \"banana\", \"orange\",\"guava\"}\n",
    "print(\"banana\" in fruits)"
   ]
  },
  {
   "cell_type": "markdown",
   "id": "04e47e7f",
   "metadata": {},
   "source": [
    "### Add Set Items\n",
    "\n",
    "- Once a set is created, you cannot change its items, but you can add new items.\n",
    "- To add one item to a set use the add() method."
   ]
  },
  {
   "cell_type": "markdown",
   "id": "242fb6f4",
   "metadata": {},
   "source": [
    "**Example**\n",
    "\n",
    "- Add an item to a set, using the add() method."
   ]
  },
  {
   "cell_type": "code",
   "execution_count": 77,
   "id": "d5981816",
   "metadata": {},
   "outputs": [
    {
     "name": "stdout",
     "output_type": "stream",
     "text": [
      "{'cherry', 'orange', 'apple', 'banana'}\n"
     ]
    }
   ],
   "source": [
    "fruits = {\"apple\", \"banana\", \"cherry\"}\n",
    "\n",
    "fruits.add(\"orange\")\n",
    "\n",
    "print(fruits)"
   ]
  },
  {
   "cell_type": "markdown",
   "id": "7782e7e6",
   "metadata": {},
   "source": [
    "#### Add Any Iterable\n",
    "\n",
    "- The object in the update() method does not have to be a set, it can be any iterable object (tuples, lists, dictionaries etc.)."
   ]
  },
  {
   "cell_type": "markdown",
   "id": "9cc0d32f",
   "metadata": {},
   "source": [
    "**Example**\n",
    "\n",
    "- Add elements of a list to at set."
   ]
  },
  {
   "cell_type": "code",
   "execution_count": 78,
   "id": "4022e550",
   "metadata": {},
   "outputs": [
    {
     "name": "stdout",
     "output_type": "stream",
     "text": [
      "{'kiwi', 'apple', 'orange', 'banana', 'cherry'}\n"
     ]
    }
   ],
   "source": [
    "fruits_a = {\"apple\", \"banana\", \"cherry\"}\n",
    "fruits_b = [\"kiwi\", \"orange\"]\n",
    "\n",
    "fruits_a.update(fruits_b)\n",
    "\n",
    "print(fruits_a)"
   ]
  },
  {
   "cell_type": "markdown",
   "id": "45194f38",
   "metadata": {},
   "source": [
    "### Remove Set Items\n",
    "\n",
    "- To remove an item in a set, use the remove(), or the discard() method."
   ]
  },
  {
   "cell_type": "markdown",
   "id": "ccc09363",
   "metadata": {},
   "source": [
    "**Example**\n",
    "\n",
    "- Remove \"banana\" by using the remove() method."
   ]
  },
  {
   "cell_type": "code",
   "execution_count": 79,
   "id": "1ffee0c3",
   "metadata": {},
   "outputs": [
    {
     "name": "stdout",
     "output_type": "stream",
     "text": [
      "{'mango', 'cherry', 'apple'}\n"
     ]
    }
   ],
   "source": [
    "fruits = {\"apple\", \"banana\", \"cherry\", \"mango\"}\n",
    "\n",
    "fruits.remove(\"banana\")\n",
    "\n",
    "print(fruits)"
   ]
  },
  {
   "cell_type": "markdown",
   "id": "0b17971e",
   "metadata": {},
   "source": [
    "**Note:** If the item to remove does not exist, remove() will raise an error."
   ]
  },
  {
   "cell_type": "markdown",
   "id": "7549137d",
   "metadata": {},
   "source": [
    "**Example**\n",
    "\n",
    "- Remove \"banana\" by using the discard() method."
   ]
  },
  {
   "cell_type": "code",
   "execution_count": 80,
   "id": "6b976e4f",
   "metadata": {},
   "outputs": [
    {
     "name": "stdout",
     "output_type": "stream",
     "text": [
      "{'mango', 'cherry', 'apple'}\n"
     ]
    }
   ],
   "source": [
    "fruits = {\"apple\", \"banana\", \"cherry\", \"mango\"}\n",
    "\n",
    "fruits.discard(\"banana\")\n",
    "\n",
    "print(fruits)"
   ]
  },
  {
   "cell_type": "markdown",
   "id": "d1a96d63",
   "metadata": {},
   "source": [
    "**Note:** If the item to remove does not exist, discard() will NOT raise an error."
   ]
  },
  {
   "cell_type": "markdown",
   "id": "5fa0b813",
   "metadata": {},
   "source": [
    "#### Clear the Set"
   ]
  },
  {
   "cell_type": "markdown",
   "id": "dfd5b8db",
   "metadata": {},
   "source": [
    "**Example**\n",
    "\n",
    "- The clear() method empties the set."
   ]
  },
  {
   "cell_type": "code",
   "execution_count": 81,
   "id": "28cab5cc",
   "metadata": {},
   "outputs": [
    {
     "name": "stdout",
     "output_type": "stream",
     "text": [
      "set()\n"
     ]
    }
   ],
   "source": [
    "fruits = {\"apple\", \"banana\", \"cherry\"}\n",
    "\n",
    "fruits.clear()\n",
    "\n",
    "print(fruits)"
   ]
  },
  {
   "cell_type": "markdown",
   "id": "91b45049",
   "metadata": {},
   "source": [
    "#### Delete the Set"
   ]
  },
  {
   "cell_type": "markdown",
   "id": "c237372d",
   "metadata": {},
   "source": [
    "**Example**\n",
    "\n",
    "- The del keyword will delete the set completely."
   ]
  },
  {
   "cell_type": "code",
   "execution_count": 82,
   "id": "0e6ea852",
   "metadata": {},
   "outputs": [
    {
     "ename": "NameError",
     "evalue": "name 'fruits' is not defined",
     "output_type": "error",
     "traceback": [
      "\u001b[0;31m---------------------------------------------------------------------------\u001b[0m",
      "\u001b[0;31mNameError\u001b[0m                                 Traceback (most recent call last)",
      "Cell \u001b[0;32mIn[82], line 5\u001b[0m\n\u001b[1;32m      1\u001b[0m fruits \u001b[38;5;241m=\u001b[39m {\u001b[38;5;124m\"\u001b[39m\u001b[38;5;124mapple\u001b[39m\u001b[38;5;124m\"\u001b[39m, \u001b[38;5;124m\"\u001b[39m\u001b[38;5;124mbanana\u001b[39m\u001b[38;5;124m\"\u001b[39m, \u001b[38;5;124m\"\u001b[39m\u001b[38;5;124mcherry\u001b[39m\u001b[38;5;124m\"\u001b[39m}\n\u001b[1;32m      3\u001b[0m \u001b[38;5;28;01mdel\u001b[39;00m fruits\n\u001b[0;32m----> 5\u001b[0m \u001b[38;5;28mprint\u001b[39m(\u001b[43mfruits\u001b[49m)\n",
      "\u001b[0;31mNameError\u001b[0m: name 'fruits' is not defined"
     ]
    }
   ],
   "source": [
    "fruits = {\"apple\", \"banana\", \"cherry\"}\n",
    "\n",
    "del fruits\n",
    "\n",
    "print(fruits)"
   ]
  },
  {
   "cell_type": "markdown",
   "id": "1aab3507",
   "metadata": {},
   "source": [
    "### Loop Sets"
   ]
  },
  {
   "cell_type": "markdown",
   "id": "33589aaa",
   "metadata": {},
   "source": [
    "#### Loop through a Set\n",
    "\n",
    "- You can loop through the set items by using a for loop."
   ]
  },
  {
   "cell_type": "markdown",
   "id": "2fccc2ff",
   "metadata": {},
   "source": [
    "**Example**\n",
    "\n",
    "- Loop through the set, and print the values."
   ]
  },
  {
   "cell_type": "code",
   "execution_count": 83,
   "id": "6e39208a",
   "metadata": {},
   "outputs": [
    {
     "name": "stdout",
     "output_type": "stream",
     "text": [
      "mango\n",
      "cherry\n",
      "apple\n",
      "banana\n"
     ]
    }
   ],
   "source": [
    "fruits = {\"apple\", \"banana\", \"cherry\", \"mango\"}\n",
    "\n",
    "for x in fruits:\n",
    "    print(x)"
   ]
  },
  {
   "cell_type": "markdown",
   "id": "08927c9b",
   "metadata": {},
   "source": [
    "### Join Sets\n",
    "\n",
    "- There are several ways two join two or more sets."
   ]
  },
  {
   "cell_type": "markdown",
   "id": "e1a58299",
   "metadata": {},
   "source": [
    "**A. Union**\n",
    "\n",
    "- The union() method returns a new set with all items from two or more sets."
   ]
  },
  {
   "cell_type": "markdown",
   "id": "a8abf2fa",
   "metadata": {},
   "source": [
    "**Example**"
   ]
  },
  {
   "cell_type": "code",
   "execution_count": 84,
   "id": "bdb1afa0",
   "metadata": {},
   "outputs": [
    {
     "name": "stdout",
     "output_type": "stream",
     "text": [
      "{'b', 1, 2, 3, 'a', 'c'}\n"
     ]
    }
   ],
   "source": [
    "set1 = {\"a\", \"b\" , \"c\"}\n",
    "set2 = {1, 2, 3}\n",
    "\n",
    "set3 = set1.union(set2)\n",
    "print(set3)"
   ]
  },
  {
   "cell_type": "markdown",
   "id": "43661289",
   "metadata": {},
   "source": [
    "**B. Intersection**\n",
    "\n",
    "- The intersection() method will return a new set, that only contains the items that are present in two or sets."
   ]
  },
  {
   "cell_type": "markdown",
   "id": "29ee24b0",
   "metadata": {},
   "source": [
    "**Example**\n",
    "\n",
    "- Return a set that contains the items that exist in both set x, and set y."
   ]
  },
  {
   "cell_type": "code",
   "execution_count": 85,
   "id": "54660e1a",
   "metadata": {},
   "outputs": [
    {
     "name": "stdout",
     "output_type": "stream",
     "text": [
      "{'apple'}\n"
     ]
    }
   ],
   "source": [
    "x = {\"apple\", \"banana\", \"cherry\"}\n",
    "y = {\"google\", \"microsoft\", \"apple\"}\n",
    "\n",
    "z = x.intersection(y)\n",
    "\n",
    "print(z)"
   ]
  },
  {
   "cell_type": "markdown",
   "id": "9000b248",
   "metadata": {},
   "source": [
    "**C. Difference**\n",
    "\n",
    "- The difference method will returns a set containing the difference between two or more sets."
   ]
  },
  {
   "cell_type": "code",
   "execution_count": 86,
   "id": "baf7e520",
   "metadata": {},
   "outputs": [
    {
     "name": "stdout",
     "output_type": "stream",
     "text": [
      "{'cherry', 'banana'}\n"
     ]
    }
   ],
   "source": [
    "x = {\"apple\", \"banana\", \"cherry\"}\n",
    "y = {\"google\", \"microsoft\", \"apple\"}\n",
    "\n",
    "z = x.difference(y)\n",
    "\n",
    "print(z)"
   ]
  },
  {
   "cell_type": "markdown",
   "id": "bdb27d04",
   "metadata": {},
   "source": [
    "### Set Methods\n",
    "\n",
    "- Python has a set of built-in methods that you can use on sets."
   ]
  },
  {
   "cell_type": "raw",
   "id": "9274df25",
   "metadata": {},
   "source": [
    "add()    Adds an element to the set."
   ]
  },
  {
   "cell_type": "raw",
   "id": "6f5bae9c",
   "metadata": {},
   "source": [
    "clear()    Removes all the elements from the set."
   ]
  },
  {
   "cell_type": "raw",
   "id": "908cb908",
   "metadata": {},
   "source": [
    "copy()    Returns a copy of the set"
   ]
  },
  {
   "cell_type": "raw",
   "id": "659b09de",
   "metadata": {},
   "source": [
    "difference()    Returns a set containing the difference between two or more sets."
   ]
  },
  {
   "cell_type": "raw",
   "id": "d80aa368",
   "metadata": {},
   "source": [
    "difference_update()    Removes the items in this set that are also included in another, specified set."
   ]
  },
  {
   "cell_type": "raw",
   "id": "aace4747",
   "metadata": {},
   "source": [
    "discard()    Remove the specified item."
   ]
  },
  {
   "cell_type": "raw",
   "id": "d477552e",
   "metadata": {},
   "source": [
    "intersection()    Returns a set, that is the intersection of two other sets."
   ]
  },
  {
   "cell_type": "raw",
   "id": "ab12e3a4",
   "metadata": {},
   "source": [
    "intersection_update()    Removes the items in this set that are not present in other, specified set(s)."
   ]
  },
  {
   "cell_type": "raw",
   "id": "966400e1",
   "metadata": {},
   "source": [
    "isdisjoint()    Returns whether two sets have a intersection or not."
   ]
  },
  {
   "cell_type": "raw",
   "id": "0dae5c94",
   "metadata": {},
   "source": [
    "issubset()    Returns whether another set contains this set or not."
   ]
  },
  {
   "cell_type": "raw",
   "id": "c00d729e",
   "metadata": {},
   "source": [
    "issuperset()    Returns whether this set contains another set or not."
   ]
  },
  {
   "cell_type": "raw",
   "id": "fc388f92",
   "metadata": {},
   "source": [
    "pop()    Removes an element from the set."
   ]
  },
  {
   "cell_type": "raw",
   "id": "f9a9d57f",
   "metadata": {},
   "source": [
    "remove()    Removes the specified element."
   ]
  },
  {
   "cell_type": "raw",
   "id": "0189e9b8",
   "metadata": {},
   "source": [
    "symmetric_difference()    Returns a set with the symmetric differences of two sets."
   ]
  },
  {
   "cell_type": "raw",
   "id": "1bd7b68d",
   "metadata": {},
   "source": [
    "symmetric_difference_update()    Inserts the symmetric differences from this set and another."
   ]
  },
  {
   "cell_type": "raw",
   "id": "5a20204c",
   "metadata": {},
   "source": [
    "union()    Return a set containing the union of sets."
   ]
  },
  {
   "cell_type": "raw",
   "id": "380ae575",
   "metadata": {},
   "source": [
    "update()    Update the set with the union of this set and others."
   ]
  },
  {
   "cell_type": "markdown",
   "id": "63dcb794",
   "metadata": {},
   "source": [
    "## Python Dictionaries\n",
    "\n",
    "- Dictionaries are used to store data values in key:value pairs.\n",
    "- Dictionaries are written with curly brackets, and have keys and values:"
   ]
  },
  {
   "cell_type": "markdown",
   "id": "c974591f",
   "metadata": {},
   "source": [
    "**Example**"
   ]
  },
  {
   "cell_type": "code",
   "execution_count": 87,
   "id": "006af73b",
   "metadata": {},
   "outputs": [
    {
     "name": "stdout",
     "output_type": "stream",
     "text": [
      "{'Brand': 'Ford', 'Model': 'Mustang', 'Year': 1964, 'Color': 'Red'}\n"
     ]
    }
   ],
   "source": [
    "My_Fav_Car = {\"Brand\": \"Ford\", \"Model\": \"Mustang\", \"Year\": 1964, \"Color\":\"Red\"}\n",
    "print(My_Fav_Car)"
   ]
  },
  {
   "cell_type": "markdown",
   "id": "b00a45b7",
   "metadata": {},
   "source": [
    "### Dictionary Items\n",
    "\n",
    "- Dictionary items are ordered, changeable, and does not allow duplicates.\n",
    "- Dictionary items are presented in key:value pairs, and can be referred to by using the key name."
   ]
  },
  {
   "cell_type": "markdown",
   "id": "c8125f51",
   "metadata": {},
   "source": [
    "#### Ordered \n",
    "\n",
    "- When we say that tuples are ordered, it means that the items have a defined order, and that order will not change."
   ]
  },
  {
   "cell_type": "markdown",
   "id": "8ee98d64",
   "metadata": {},
   "source": [
    "#### Changeable\n",
    "\n",
    "- Dictionaries are changeable, meaning that we can change, add or remove items after the dictionary has been created."
   ]
  },
  {
   "cell_type": "markdown",
   "id": "bd9af7b1",
   "metadata": {},
   "source": [
    "#### Duplicates Not Allowed\n",
    "\n",
    "- Dictionaries cannot have two items with the same key. Duplicate values will overwrite existing values"
   ]
  },
  {
   "cell_type": "markdown",
   "id": "a28b2707",
   "metadata": {},
   "source": [
    "### The dictionary ( ) Constructor\n",
    "\n",
    "- It is also possible to use the dict() constructor when creating a new dictionary."
   ]
  },
  {
   "cell_type": "markdown",
   "id": "13030143",
   "metadata": {},
   "source": [
    "**Example**"
   ]
  },
  {
   "cell_type": "code",
   "execution_count": 88,
   "id": "3891d463",
   "metadata": {},
   "outputs": [
    {
     "name": "stdout",
     "output_type": "stream",
     "text": [
      "{'Brand': 'Ford', 'Model': 'Mustang', 'Year': 1964, 'Color': 'Red'}\n"
     ]
    }
   ],
   "source": [
    "My_Fav_Car = dict(Brand = \"Ford\", Model = \"Mustang\", Year = 1964, Color = \"Red\")\n",
    "print(My_Fav_Car)"
   ]
  },
  {
   "cell_type": "markdown",
   "id": "40bb0574",
   "metadata": {},
   "source": [
    "### Dictionary Length\n",
    "\n",
    "- To determine how many items a dictionary has, use the len() function."
   ]
  },
  {
   "cell_type": "markdown",
   "id": "fc04a275",
   "metadata": {},
   "source": [
    "**Example**\n",
    "\n",
    "- Print the number of items in the dictionary."
   ]
  },
  {
   "cell_type": "code",
   "execution_count": 89,
   "id": "e1804732",
   "metadata": {},
   "outputs": [
    {
     "name": "stdout",
     "output_type": "stream",
     "text": [
      "4\n"
     ]
    }
   ],
   "source": [
    "My_Fav_Car = {\"Brand\": \"Ford\", \"Model\": \"Mustang\", \"Year\": 1964, \"Color\":\"Red\"}\n",
    "print(len(My_Fav_Car))"
   ]
  },
  {
   "cell_type": "markdown",
   "id": "1e8b7fb1",
   "metadata": {},
   "source": [
    "### Dictionary Data Type\n",
    "\n",
    "- From Python's perspective, dictionaries are defined as objects with the data type 'dict'."
   ]
  },
  {
   "cell_type": "markdown",
   "id": "7efeff0a",
   "metadata": {},
   "source": [
    "**Example**\n",
    "\n",
    "- What is the data type of a dictionary?"
   ]
  },
  {
   "cell_type": "code",
   "execution_count": 90,
   "id": "2642e473",
   "metadata": {},
   "outputs": [
    {
     "name": "stdout",
     "output_type": "stream",
     "text": [
      "<class 'dict'>\n"
     ]
    }
   ],
   "source": [
    "My_Fav_Car = {\"Brand\": \"Ford\", \"Model\": \"Mustang\", \"Year\": 1964, \"Color\":\"Red\"}\n",
    "print(type(My_Fav_Car))"
   ]
  },
  {
   "cell_type": "markdown",
   "id": "0e115f74",
   "metadata": {},
   "source": [
    "### Dictionary Items - Data Types\n",
    "\n",
    "- The value of dictionary items can be of any data type."
   ]
  },
  {
   "cell_type": "markdown",
   "id": "bbadefdd",
   "metadata": {},
   "source": [
    "**Example**\n",
    "\n",
    "- Value of string, int, boolean or list."
   ]
  },
  {
   "cell_type": "code",
   "execution_count": 91,
   "id": "bf69e8c6",
   "metadata": {},
   "outputs": [
    {
     "name": "stdout",
     "output_type": "stream",
     "text": [
      "{'Brand': 'Ford', 'Electric': False, 'Year': 1964, 'Colors': ['Red', 'White', 'Blue']}\n"
     ]
    }
   ],
   "source": [
    "Car_Detail = { \"Brand\": \"Ford\", \"Electric\": False, \"Year\": 1964, \"Colors\": [\"Red\", \"White\", \"Blue\"]}\n",
    "print(Car_Detail)"
   ]
  },
  {
   "cell_type": "markdown",
   "id": "48149491",
   "metadata": {},
   "source": [
    "### Accessing Dictionary Items\n",
    "\n",
    "- You can access the items of a dictionary by referring to its key name, inside square brackets."
   ]
  },
  {
   "cell_type": "markdown",
   "id": "40752282",
   "metadata": {},
   "source": [
    "**Example**\n",
    "\n",
    "- Get the value of the \"model\" key."
   ]
  },
  {
   "cell_type": "code",
   "execution_count": 92,
   "id": "f594ae7b",
   "metadata": {},
   "outputs": [
    {
     "name": "stdout",
     "output_type": "stream",
     "text": [
      "Mustang\n"
     ]
    }
   ],
   "source": [
    "My_Fav_Car = {\"Brand\": \"Ford\", \"Model\": \"Mustang\", \"Year\": 1964, \"Color\":\"Red\"}\n",
    "print(My_Fav_Car[\"Model\"])"
   ]
  },
  {
   "cell_type": "markdown",
   "id": "ecf8ac3e",
   "metadata": {},
   "source": [
    "**There is also a method called get( ) that will give you the same result.**"
   ]
  },
  {
   "cell_type": "markdown",
   "id": "d4a1e29e",
   "metadata": {},
   "source": [
    "**Example**\n",
    "\n",
    "- Get the value of the \"model\" key."
   ]
  },
  {
   "cell_type": "code",
   "execution_count": 93,
   "id": "54d60ffb",
   "metadata": {},
   "outputs": [
    {
     "data": {
      "text/plain": [
       "'Mustang'"
      ]
     },
     "execution_count": 93,
     "metadata": {},
     "output_type": "execute_result"
    }
   ],
   "source": [
    "My_Fav_Car = {\"Brand\": \"Ford\", \"Model\": \"Mustang\", \"Year\": 1964, \"Color\":\"Red\"}\n",
    "My_Fav_Car.get(\"Model\")"
   ]
  },
  {
   "cell_type": "markdown",
   "id": "e2a6f7fb",
   "metadata": {},
   "source": [
    "#### Get Keys\n",
    "\n",
    "- The keys() method will return a list of all the keys in the dictionary."
   ]
  },
  {
   "cell_type": "markdown",
   "id": "0fd24f8e",
   "metadata": {},
   "source": [
    "**Example**\n",
    "\n",
    "- Get a list of the keys."
   ]
  },
  {
   "cell_type": "code",
   "execution_count": 94,
   "id": "15aa56a3",
   "metadata": {},
   "outputs": [
    {
     "data": {
      "text/plain": [
       "dict_keys(['Brand', 'Model', 'Year', 'Color'])"
      ]
     },
     "execution_count": 94,
     "metadata": {},
     "output_type": "execute_result"
    }
   ],
   "source": [
    "My_Fav_Car = {\"Brand\": \"Ford\", \"Model\": \"Mustang\", \"Year\": 1964, \"Color\":\"Red\"}\n",
    "My_Fav_Car.keys()"
   ]
  },
  {
   "cell_type": "markdown",
   "id": "80ba630c",
   "metadata": {},
   "source": [
    "#### Get Values\n",
    "\n",
    "- The values() method will return a list of all the values in the dictionary."
   ]
  },
  {
   "cell_type": "markdown",
   "id": "a7f445bd",
   "metadata": {},
   "source": [
    "**Example**\n",
    "\n",
    "- Get a list of the values."
   ]
  },
  {
   "cell_type": "code",
   "execution_count": 95,
   "id": "ce2c3916",
   "metadata": {},
   "outputs": [
    {
     "data": {
      "text/plain": [
       "dict_values(['Ford', 'Mustang', 1964, 'Red'])"
      ]
     },
     "execution_count": 95,
     "metadata": {},
     "output_type": "execute_result"
    }
   ],
   "source": [
    "My_Fav_Car = {\"Brand\": \"Ford\", \"Model\": \"Mustang\", \"Year\": 1964, \"Color\":\"Red\"}\n",
    "My_Fav_Car.values()"
   ]
  },
  {
   "cell_type": "markdown",
   "id": "7ccf7dc5",
   "metadata": {},
   "source": [
    "#### Get Items\n",
    "\n",
    "- The items() method will return each item in a dictionary, as tuples in a list."
   ]
  },
  {
   "cell_type": "markdown",
   "id": "6fc81ee8",
   "metadata": {},
   "source": [
    "**Example**\n",
    "\n",
    "- Get a list of the key:value pairs."
   ]
  },
  {
   "cell_type": "code",
   "execution_count": 96,
   "id": "56009f6f",
   "metadata": {},
   "outputs": [
    {
     "data": {
      "text/plain": [
       "dict_items([('Brand', 'Ford'), ('Model', 'Mustang'), ('Year', 1964), ('Color', 'Red')])"
      ]
     },
     "execution_count": 96,
     "metadata": {},
     "output_type": "execute_result"
    }
   ],
   "source": [
    "My_Fav_Car = {\"Brand\": \"Ford\", \"Model\": \"Mustang\", \"Year\": 1964, \"Color\":\"Red\"}\n",
    "My_Fav_Car.items()"
   ]
  },
  {
   "cell_type": "markdown",
   "id": "647a5971",
   "metadata": {},
   "source": [
    "### Check if Key Exists\n",
    "\n",
    "- To determine if a specified key is present in a dictionary use the in keyword."
   ]
  },
  {
   "cell_type": "markdown",
   "id": "7bcb91b5",
   "metadata": {},
   "source": [
    "**Example**\n",
    "\n",
    "- Check if \"model\" is present in the dictionary."
   ]
  },
  {
   "cell_type": "code",
   "execution_count": 97,
   "id": "2c0ba112",
   "metadata": {},
   "outputs": [
    {
     "name": "stdout",
     "output_type": "stream",
     "text": [
      "Yes, 'Model' is one of the keys in the 'My_Fav_Car' dictionary.\n"
     ]
    }
   ],
   "source": [
    "My_Fav_Car = {\"Brand\": \"Ford\", \"Model\": \"Mustang\", \"Year\": 1964, \"Color\":\"Red\"}\n",
    "\n",
    "if \"Model\" in My_Fav_Car:\n",
    "    print(\"Yes, 'Model' is one of the keys in the 'My_Fav_Car' dictionary.\")"
   ]
  },
  {
   "cell_type": "markdown",
   "id": "fa41a6b0",
   "metadata": {},
   "source": [
    "### Change Dictionary Items"
   ]
  },
  {
   "cell_type": "markdown",
   "id": "b770d0e5",
   "metadata": {},
   "source": [
    "#### Change Values\n",
    "\n",
    "- You can change the value of a specific item by referring to its key name."
   ]
  },
  {
   "cell_type": "markdown",
   "id": "409ca18a",
   "metadata": {},
   "source": [
    "**Example**\n",
    "\n",
    "- Change the \"Year\" to 2018."
   ]
  },
  {
   "cell_type": "code",
   "execution_count": 98,
   "id": "1992170c",
   "metadata": {},
   "outputs": [
    {
     "name": "stdout",
     "output_type": "stream",
     "text": [
      "{'Brand': 'Ford', 'Model': 'Mustang', 'Year': 2018, 'Color': 'Red'}\n"
     ]
    }
   ],
   "source": [
    "My_Fav_Car = {\"Brand\": \"Ford\", \"Model\": \"Mustang\", \"Year\": 1964, \"Color\":\"Red\"}\n",
    "My_Fav_Car[\"Year\"] = 2018\n",
    "print(My_Fav_Car)"
   ]
  },
  {
   "cell_type": "markdown",
   "id": "1ae0883d",
   "metadata": {},
   "source": [
    "**There is also a method called update( ) that will give you the same result.**\n",
    "\n",
    "- The update() method will update the dictionary with the items from the given argument.\n",
    "- The argument must be a dictionary, or an iterable object with key:value pairs."
   ]
  },
  {
   "cell_type": "markdown",
   "id": "abaf80e1",
   "metadata": {},
   "source": [
    "**Example**\n",
    "\n",
    "- Update the \"Year\" of the car by using the update() method."
   ]
  },
  {
   "cell_type": "code",
   "execution_count": 99,
   "id": "5f5961e7",
   "metadata": {},
   "outputs": [
    {
     "name": "stdout",
     "output_type": "stream",
     "text": [
      "{'Brand': 'Ford', 'Model': 'Mustang', 'Year': 2018, 'Color': 'Red'}\n"
     ]
    }
   ],
   "source": [
    "My_Fav_Car = {\"Brand\": \"Ford\", \"Model\": \"Mustang\", \"Year\": 1964, \"Color\":\"Red\"}\n",
    "My_Fav_Car.update({\"Year\": 2018})\n",
    "print(My_Fav_Car)"
   ]
  },
  {
   "cell_type": "markdown",
   "id": "c677d98a",
   "metadata": {},
   "source": [
    "### Add Dictionary Items\n",
    "\n",
    "- Adding an item to the dictionary is done by using a new index key and assigning a value to it."
   ]
  },
  {
   "cell_type": "markdown",
   "id": "29997d00",
   "metadata": {},
   "source": [
    "**Example**"
   ]
  },
  {
   "cell_type": "code",
   "execution_count": 100,
   "id": "76916375",
   "metadata": {},
   "outputs": [
    {
     "name": "stdout",
     "output_type": "stream",
     "text": [
      "{'Brand': 'Ford', 'Model': 'Mustang', 'Year': 1964, 'Color': 'Red'}\n"
     ]
    }
   ],
   "source": [
    "My_Fav_Car = {\"Brand\": \"Ford\", \"Model\": \"Mustang\", \"Year\": 1964}\n",
    "My_Fav_Car[\"Color\"] = \"Red\"\n",
    "print(My_Fav_Car)"
   ]
  },
  {
   "cell_type": "markdown",
   "id": "64a1bea1",
   "metadata": {},
   "source": [
    "**There is also a method called update( ) that will give you the same result.**\n",
    "\n",
    "- The update() method will update the dictionary with the items from a given argument. If the item does not exist, the item will be added.\n",
    "- The argument must be a dictionary, or an iterable object with key:value pairs."
   ]
  },
  {
   "cell_type": "markdown",
   "id": "bcec5fe1",
   "metadata": {},
   "source": [
    "**Example**"
   ]
  },
  {
   "cell_type": "code",
   "execution_count": 101,
   "id": "7f1ff17c",
   "metadata": {},
   "outputs": [
    {
     "name": "stdout",
     "output_type": "stream",
     "text": [
      "{'Brand': 'Ford', 'Model': 'Mustang', 'Year': 1964, 'Color': 'Red'}\n"
     ]
    }
   ],
   "source": [
    "My_Fav_Car = {\"Brand\": \"Ford\", \"Model\": \"Mustang\", \"Year\": 1964}\n",
    "My_Fav_Car.update({\"Color\":\"Red\"})\n",
    "print(My_Fav_Car)"
   ]
  },
  {
   "cell_type": "markdown",
   "id": "32d6c070",
   "metadata": {},
   "source": [
    "### Remove Dictionary Items"
   ]
  },
  {
   "cell_type": "markdown",
   "id": "8195a6e2",
   "metadata": {},
   "source": [
    "#### Remove Specified Items\n",
    "\n",
    "- The pop( ) method removes the item with the specified key name."
   ]
  },
  {
   "cell_type": "markdown",
   "id": "75d6cfb8",
   "metadata": {},
   "source": [
    "**Example**\n",
    "\n",
    "- Remove \"Color\"."
   ]
  },
  {
   "cell_type": "code",
   "execution_count": 102,
   "id": "ced21799",
   "metadata": {},
   "outputs": [
    {
     "name": "stdout",
     "output_type": "stream",
     "text": [
      "{'Brand': 'Ford', 'Model': 'Mustang', 'Year': 1964}\n"
     ]
    }
   ],
   "source": [
    "My_Fav_Car = {\"Brand\": \"Ford\", \"Model\": \"Mustang\", \"Year\": 1964, \"Color\":\"Red\"}\n",
    "My_Fav_Car.pop(\"Color\")\n",
    "print(My_Fav_Car)"
   ]
  },
  {
   "cell_type": "markdown",
   "id": "66c42443",
   "metadata": {},
   "source": [
    "- The popitem( ) method removes the last inserted item."
   ]
  },
  {
   "cell_type": "markdown",
   "id": "9a9045c1",
   "metadata": {},
   "source": [
    "**Example**"
   ]
  },
  {
   "cell_type": "code",
   "execution_count": 103,
   "id": "26e7c98a",
   "metadata": {},
   "outputs": [
    {
     "name": "stdout",
     "output_type": "stream",
     "text": [
      "{'Brand': 'Ford', 'Model': 'Mustang', 'Year': 1964}\n"
     ]
    }
   ],
   "source": [
    "My_Fav_Car = {\"Brand\": \"Ford\", \"Model\": \"Mustang\", \"Year\": 1964, \"Color\":\"Red\"}\n",
    "My_Fav_Car.popitem()\n",
    "print(My_Fav_Car)"
   ]
  },
  {
   "cell_type": "markdown",
   "id": "1377b1e0",
   "metadata": {},
   "source": [
    "#### Clear the Dictionary\n",
    "\n",
    "- The clear() method empties the dictionary.\n",
    "- The dictionary still remains, but it has no content."
   ]
  },
  {
   "cell_type": "markdown",
   "id": "a9591e5a",
   "metadata": {},
   "source": [
    "**Example**\n",
    "\n",
    "- Clear the dictionary content."
   ]
  },
  {
   "cell_type": "code",
   "execution_count": 104,
   "id": "87aff87c",
   "metadata": {},
   "outputs": [
    {
     "name": "stdout",
     "output_type": "stream",
     "text": [
      "{}\n"
     ]
    }
   ],
   "source": [
    "My_Fav_Car = {\"Brand\": \"Ford\", \"Model\": \"Mustang\", \"Year\": 1964, \"Color\":\"Red\"}\n",
    "My_Fav_Car.clear()\n",
    "print(My_Fav_Car)"
   ]
  },
  {
   "cell_type": "markdown",
   "id": "fca52400",
   "metadata": {},
   "source": [
    "#### Delete the Dictionary\n",
    "\n",
    "- The del keyword delete the dictionary completely."
   ]
  },
  {
   "cell_type": "markdown",
   "id": "9c6e73c4",
   "metadata": {},
   "source": [
    "**Example**"
   ]
  },
  {
   "cell_type": "code",
   "execution_count": 105,
   "id": "6562beb4",
   "metadata": {},
   "outputs": [],
   "source": [
    "My_Fav_Car = {\"Brand\": \"Ford\", \"Model\": \"Mustang\", \"Year\": 1964, \"Color\":\"Red\"}\n",
    "del My_Fav_Car"
   ]
  },
  {
   "cell_type": "markdown",
   "id": "4ed4bfb2",
   "metadata": {},
   "source": [
    "### Loop Dictionary"
   ]
  },
  {
   "cell_type": "markdown",
   "id": "d3740837",
   "metadata": {},
   "source": [
    "#### Loop Through a Dictionary\n",
    "\n",
    "- You can loop through a dictionary by using a for loop.\n",
    "- When looping through a dictionary, the return value are the keys of the dictionary, but there are methods to return the values as well."
   ]
  },
  {
   "cell_type": "markdown",
   "id": "a0cd80c1",
   "metadata": {},
   "source": [
    "**Example**\n",
    "\n",
    "- Print all key names in the dictionary, one by one."
   ]
  },
  {
   "cell_type": "code",
   "execution_count": 106,
   "id": "c7c4b9d3",
   "metadata": {},
   "outputs": [
    {
     "name": "stdout",
     "output_type": "stream",
     "text": [
      "Brand\n",
      "Model\n",
      "Year\n",
      "Color\n"
     ]
    }
   ],
   "source": [
    "My_Fav_Car = {\"Brand\": \"Ford\", \"Model\": \"Mustang\", \"Year\": 1964, \"Color\":\"Red\"}\n",
    "for x in My_Fav_Car:\n",
    "    print(x)"
   ]
  },
  {
   "cell_type": "markdown",
   "id": "faf357c2",
   "metadata": {},
   "source": [
    "**Example**\n",
    "\n",
    "- You can use the keys() method to return the keys of a dictionary."
   ]
  },
  {
   "cell_type": "code",
   "execution_count": 107,
   "id": "dbef21c9",
   "metadata": {},
   "outputs": [
    {
     "name": "stdout",
     "output_type": "stream",
     "text": [
      "Brand\n",
      "Model\n",
      "Year\n",
      "Color\n"
     ]
    }
   ],
   "source": [
    "My_Fav_Car = {\"Brand\": \"Ford\", \"Model\": \"Mustang\", \"Year\": 1964, \"Color\":\"Red\"}\n",
    "for x in My_Fav_Car.keys():\n",
    "    print(x)"
   ]
  },
  {
   "cell_type": "markdown",
   "id": "bae06cf2",
   "metadata": {},
   "source": [
    "**Example**\n",
    "\n",
    "- Print all values in the dictionary, one by one."
   ]
  },
  {
   "cell_type": "code",
   "execution_count": 108,
   "id": "caa5b582",
   "metadata": {},
   "outputs": [
    {
     "name": "stdout",
     "output_type": "stream",
     "text": [
      "Ford\n",
      "Mustang\n",
      "1964\n",
      "Red\n"
     ]
    }
   ],
   "source": [
    "My_Fav_Car = {\"Brand\": \"Ford\", \"Model\": \"Mustang\", \"Year\": 1964, \"Color\":\"Red\"}\n",
    "for x in My_Fav_Car:\n",
    "    print(My_Fav_Car[x])"
   ]
  },
  {
   "cell_type": "markdown",
   "id": "6924e993",
   "metadata": {},
   "source": [
    "**Example**\n",
    "\n",
    "- You can also use the values() method to return values of a dictionary."
   ]
  },
  {
   "cell_type": "code",
   "execution_count": 109,
   "id": "d3fdc442",
   "metadata": {},
   "outputs": [
    {
     "name": "stdout",
     "output_type": "stream",
     "text": [
      "Ford\n",
      "Mustang\n",
      "1964\n",
      "Red\n"
     ]
    }
   ],
   "source": [
    "My_Fav_Car = {\"Brand\": \"Ford\", \"Model\": \"Mustang\", \"Year\": 1964, \"Color\":\"Red\"}\n",
    "for x in My_Fav_Car.values():\n",
    "    print(x)"
   ]
  },
  {
   "cell_type": "markdown",
   "id": "ad2b49cb",
   "metadata": {},
   "source": [
    "**Example**\n",
    "\n",
    "- Loop through both keys and values, by using the items() method."
   ]
  },
  {
   "cell_type": "code",
   "execution_count": 110,
   "id": "f538ce3c",
   "metadata": {},
   "outputs": [
    {
     "name": "stdout",
     "output_type": "stream",
     "text": [
      "Brand Ford\n",
      "Model Mustang\n",
      "Year 1964\n",
      "Color Red\n"
     ]
    }
   ],
   "source": [
    "My_Fav_Car = {\"Brand\": \"Ford\", \"Model\": \"Mustang\", \"Year\": 1964, \"Color\":\"Red\"}\n",
    "for x,y in My_Fav_Car.items():\n",
    "    print(x,y)"
   ]
  },
  {
   "cell_type": "markdown",
   "id": "d884b828",
   "metadata": {},
   "source": [
    "### Copy Dictionaries\n",
    "\n",
    "- You cannot copy a dictionary simply by typing dict2 = dict1, because: dict2 will only be a reference to dict1, and changes made in dict1 will automatically also be made in dict2.\n",
    "- There are ways to make a copy, one way is to use the built-in Dictionary method copy()."
   ]
  },
  {
   "cell_type": "markdown",
   "id": "e37f6115",
   "metadata": {},
   "source": [
    "**Example**\n",
    "\n",
    "- Make a copy of a dictionary with the copy() method."
   ]
  },
  {
   "cell_type": "code",
   "execution_count": 111,
   "id": "91eaf865",
   "metadata": {},
   "outputs": [
    {
     "name": "stdout",
     "output_type": "stream",
     "text": [
      "{'Brand': 'Ford', 'Model': 'Mustang', 'Year': 1964, 'Color': 'Red'}\n"
     ]
    }
   ],
   "source": [
    "My_Fav_Car = {\"Brand\": \"Ford\", \"Model\": \"Mustang\", \"Year\": 1964, \"Color\":\"Red\"}\n",
    "Your_Fav_Car = My_Fav_Car.copy()\n",
    "print(Your_Fav_Car)"
   ]
  },
  {
   "cell_type": "markdown",
   "id": "5d665c83",
   "metadata": {},
   "source": [
    "### Nested Dictionaries\n",
    "\n",
    "- A dictionary can contain dictionaries, this is called nested dictionaries."
   ]
  },
  {
   "cell_type": "markdown",
   "id": "d9e81796",
   "metadata": {},
   "source": [
    "**Example**"
   ]
  },
  {
   "cell_type": "code",
   "execution_count": 112,
   "id": "d43d5e29",
   "metadata": {},
   "outputs": [
    {
     "name": "stdout",
     "output_type": "stream",
     "text": [
      "{'Child1': {'Name': 'Emil', 'Year': 2004}, 'Child2': {'Name': 'Tobias', 'Year': 2007}, 'Child3': {'Name': 'Linus', 'Year': 2011}}\n"
     ]
    }
   ],
   "source": [
    "My_Family = {\n",
    "  \"Child1\" : {\n",
    "    \"Name\" : \"Emil\",\n",
    "    \"Year\" : 2004\n",
    "  },\n",
    "  \"Child2\" : {\n",
    "    \"Name\" : \"Tobias\",\n",
    "    \"Year\" : 2007\n",
    "  },\n",
    "  \"Child3\" : {\n",
    "    \"Name\" : \"Linus\",\n",
    "    \"Year\" : 2011\n",
    "  }\n",
    "}\n",
    "\n",
    "print(My_Family)"
   ]
  },
  {
   "cell_type": "markdown",
   "id": "a009572a",
   "metadata": {},
   "source": [
    "**Example**"
   ]
  },
  {
   "cell_type": "code",
   "execution_count": 113,
   "id": "781fa6cb",
   "metadata": {},
   "outputs": [
    {
     "name": "stdout",
     "output_type": "stream",
     "text": [
      "{'Child1': {'Name': 'Emil', 'Year': 2004}, 'Child2': {'Name': 'Tobias', 'Year': 2007}, 'Child3': {'Name': 'Linus', 'Year': 2011}}\n"
     ]
    }
   ],
   "source": [
    "Child1 = {\n",
    "  \"Name\" : \"Emil\",\n",
    "  \"Year\" : 2004\n",
    "}\n",
    "Child2 = {\n",
    "  \"Name\" : \"Tobias\",\n",
    "  \"Year\" : 2007\n",
    "}\n",
    "Child3 = {\n",
    "  \"Name\" : \"Linus\",\n",
    "  \"Year\" : 2011\n",
    "}\n",
    "\n",
    "My_Family = {\n",
    "  \"Child1\" : Child1,\n",
    "  \"Child2\" : Child2,\n",
    "  \"Child3\" : Child3\n",
    "}\n",
    "\n",
    "print(My_Family)"
   ]
  },
  {
   "cell_type": "markdown",
   "id": "343361f3",
   "metadata": {},
   "source": [
    "### Dictionary Methods\n",
    "\n",
    "- Python has a set of built-in methods that you can use on dictionaries."
   ]
  },
  {
   "cell_type": "raw",
   "id": "6a2e4f52",
   "metadata": {},
   "source": [
    "clear()    Removes all the elements from the dictionary."
   ]
  },
  {
   "cell_type": "raw",
   "id": "d0e3ea41",
   "metadata": {},
   "source": [
    "copy()    Returns a copy of the dictionary."
   ]
  },
  {
   "cell_type": "raw",
   "id": "f5eb43ae",
   "metadata": {},
   "source": [
    "fromkeys()    Returns a dictionary with the specified keys and value."
   ]
  },
  {
   "cell_type": "raw",
   "id": "a134c4c7",
   "metadata": {},
   "source": [
    "get()    Returns the value of the specified key."
   ]
  },
  {
   "cell_type": "raw",
   "id": "1d207589",
   "metadata": {},
   "source": [
    "items()    Returns a list containing a tuple for each key value pair."
   ]
  },
  {
   "cell_type": "raw",
   "id": "c64575b5",
   "metadata": {},
   "source": [
    "keys()    Returns a list containing the dictionary's keys."
   ]
  },
  {
   "cell_type": "raw",
   "id": "8f04d530",
   "metadata": {},
   "source": [
    "pop()    Removes the element with the specified key."
   ]
  },
  {
   "cell_type": "raw",
   "id": "7e208e80",
   "metadata": {},
   "source": [
    "popitem()    Removes the last inserted key-value pair."
   ]
  },
  {
   "cell_type": "raw",
   "id": "cd944cf4",
   "metadata": {},
   "source": [
    "update()    Updates the dictionary with the specified key-value pairs."
   ]
  },
  {
   "cell_type": "raw",
   "id": "e6de4062",
   "metadata": {},
   "source": [
    "values()    Returns a list of all the values in the dictionary."
   ]
  },
  {
   "cell_type": "raw",
   "id": "56674a55",
   "metadata": {},
   "source": [
    "setdefault()    Returns the value of the specified key. If the key does not exist, insert the key, with the specified value."
   ]
  },
  {
   "cell_type": "markdown",
   "id": "153a6538",
   "metadata": {},
   "source": [
    "**CONTINUED......**"
   ]
  }
 ],
 "metadata": {
  "kernelspec": {
   "display_name": "Python 3 (ipykernel)",
   "language": "python",
   "name": "python3"
  },
  "language_info": {
   "codemirror_mode": {
    "name": "ipython",
    "version": 3
   },
   "file_extension": ".py",
   "mimetype": "text/x-python",
   "name": "python",
   "nbconvert_exporter": "python",
   "pygments_lexer": "ipython3",
   "version": "3.11.2"
  }
 },
 "nbformat": 4,
 "nbformat_minor": 5
}
