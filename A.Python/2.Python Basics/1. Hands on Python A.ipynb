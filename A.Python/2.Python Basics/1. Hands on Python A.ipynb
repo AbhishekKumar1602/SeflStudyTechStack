{
 "cells": [
  {
   "cell_type": "markdown",
   "id": "44a2d35e",
   "metadata": {},
   "source": [
    "# Hands on Python  A"
   ]
  },
  {
   "cell_type": "markdown",
   "id": "801c7e43",
   "metadata": {},
   "source": [
    "## What is Python?\n",
    "\n",
    "- Python is a popular programming language. It was created by Guido van Rossum, and released in 1991.\n",
    "\n",
    "- It is used for:\n",
    "     - Web Development (Server-Side),\n",
    "     - Software Development,\n",
    "     - Mathematics,\n",
    "     - System Scripting."
   ]
  },
  {
   "cell_type": "markdown",
   "id": "7d143395",
   "metadata": {},
   "source": [
    "## What can Python do?\n",
    "\n",
    "- Python can be used on a server to create web applications.\n",
    "- Python can be used alongside software to create workflows.\n",
    "- Python can connect to database systems. It can also read and modify files.\n",
    "- Python can be used to handle big data and perform complex mathematics.\n",
    "- Python can be used for rapid prototyping, or for production-ready software development."
   ]
  },
  {
   "cell_type": "markdown",
   "id": "30522cec",
   "metadata": {},
   "source": [
    "## Why Python?\n",
    "\n",
    "- Object Oriented\n",
    "- Open Source\n",
    "- Power Library\n",
    "- Portabiltiy\n",
    "- Platform Independent\n",
    "- Multipurpose\n",
    "- And many others...."
   ]
  },
  {
   "cell_type": "markdown",
   "id": "3923205c",
   "metadata": {},
   "source": [
    "## Good to Know\n",
    "\n",
    "- The most recent major version of Python is Python 3, which we shall be using in this tutorial. However, Python 2, although not being updated with anything other than security updates, is still quite popular.\n",
    "- In this tutorial Python will be written in a text editor. It is possible to write Python in an Integrated Development Environment, such as Thonny, Pycharm, Netbeans or Eclipse which are particularly useful when managing larger collections of Python files."
   ]
  },
  {
   "cell_type": "markdown",
   "id": "bd1bd18b",
   "metadata": {},
   "source": [
    "## Python Syntax  vs Other Programming Languages Syntax\n",
    "\n",
    "- Python was designed for readability, and has some similarities to the English language with influence from mathematics.\n",
    "- Python uses new lines to complete a command, as opposed to other programming languages which often use semicolons or parentheses.\n",
    "- Python relies on indentation, using whitespace, to define scope; such as the scope of loops, functions and classes. Other programming languages often use curly-brackets for this purpose."
   ]
  },
  {
   "cell_type": "markdown",
   "id": "eeaf414f",
   "metadata": {},
   "source": [
    "**Example**"
   ]
  },
  {
   "cell_type": "code",
   "execution_count": 1,
   "id": "d8d01e01",
   "metadata": {},
   "outputs": [
    {
     "name": "stdout",
     "output_type": "stream",
     "text": [
      "Hello, World!\n"
     ]
    }
   ],
   "source": [
    "print(\"Hello, World!\")"
   ]
  },
  {
   "cell_type": "markdown",
   "id": "d528c38a",
   "metadata": {},
   "source": [
    "## Python Syntax\n",
    "\n",
    "#### Syntax\n",
    "\n",
    "- Python syntax refers to the rules and guidelines that dictate how Python code must be written in order to be valid and executable. In Python, code is executed sequentially, one line at a time, from top to bottom.\n",
    "- They are case sensetive."
   ]
  },
  {
   "cell_type": "markdown",
   "id": "e20a1fd4",
   "metadata": {},
   "source": [
    "## Python Comments\n",
    "\n",
    "- Python Comments are lines of text that are ignored by the interpreter when the code is executed.\n",
    "\n",
    "- Python comments start with the # symbol and continue until the end of the line.\n",
    "\n",
    "- They are used to add notes, explanations or reminders to the code, making it easier for reading and understanding. "
   ]
  },
  {
   "cell_type": "markdown",
   "id": "d90aa036",
   "metadata": {},
   "source": [
    "### Creating a Comment\n",
    "\n",
    "- Comments starts with a #, and Python will ignore them:"
   ]
  },
  {
   "cell_type": "markdown",
   "id": "1aaebb03",
   "metadata": {},
   "source": [
    "**Example**"
   ]
  },
  {
   "cell_type": "code",
   "execution_count": 2,
   "id": "1fd6a2f1",
   "metadata": {},
   "outputs": [
    {
     "name": "stdout",
     "output_type": "stream",
     "text": [
      "Hello, Abhay!\n"
     ]
    }
   ],
   "source": [
    "# This is a \"Comment\".\n",
    "print(\"Hello, Abhay!\")"
   ]
  },
  {
   "cell_type": "code",
   "execution_count": 3,
   "id": "218d4438",
   "metadata": {},
   "outputs": [
    {
     "name": "stdout",
     "output_type": "stream",
     "text": [
      "Welcome to the Python Session.\n"
     ]
    }
   ],
   "source": [
    "print(\"Welcome to the Python Session.\") # This is a Comment."
   ]
  },
  {
   "cell_type": "markdown",
   "id": "9427f6be",
   "metadata": {},
   "source": [
    "### Multi Line Comments\n",
    "\n",
    "- Python does not really have a syntax for multi line comments.\n",
    "- To add a multiline comment you could insert a  \"#\" for each line or triple quotes at start and end of the comment."
   ]
  },
  {
   "cell_type": "markdown",
   "id": "dc549df1",
   "metadata": {},
   "source": [
    "**Example**"
   ]
  },
  {
   "cell_type": "code",
   "execution_count": 4,
   "id": "8b30505e",
   "metadata": {},
   "outputs": [
    {
     "name": "stdout",
     "output_type": "stream",
     "text": [
      "Hello, Abhishek!\n"
     ]
    }
   ],
   "source": [
    "# This is a comment\n",
    "# written in\n",
    "# more than just one line.\n",
    "print(\"Hello, Abhishek!\")"
   ]
  },
  {
   "cell_type": "code",
   "execution_count": 5,
   "id": "0792bb00",
   "metadata": {},
   "outputs": [
    {
     "name": "stdout",
     "output_type": "stream",
     "text": [
      "Welcome to the Python Session.\n"
     ]
    }
   ],
   "source": [
    "\"\"\"\n",
    "This is a comment\n",
    "written in \n",
    "more than just one line.\n",
    "\"\"\"\n",
    "print(\"Welcome to the Python Session.\")"
   ]
  },
  {
   "cell_type": "markdown",
   "id": "ae0f4cf4",
   "metadata": {},
   "source": [
    "### **  \"end\"  and \"sep\" Parameter"
   ]
  },
  {
   "cell_type": "markdown",
   "id": "440b40bb",
   "metadata": {},
   "source": [
    "#### \"end\"\n",
    "\n",
    "The end parameter allows you to specify a string that will be printed after the output of the print() function. However, the end parameter is by default set to a new line character. which means that each call to print() will print its output on a new line. However, you can customize the end parameter to specify a different character or string that you want to print at the end of the output."
   ]
  },
  {
   "cell_type": "markdown",
   "id": "dcc0a8a2",
   "metadata": {},
   "source": [
    "**Without Using \"end\" Parameter**"
   ]
  },
  {
   "cell_type": "markdown",
   "id": "1b9dbb24",
   "metadata": {},
   "source": [
    "**Example**"
   ]
  },
  {
   "cell_type": "code",
   "execution_count": 6,
   "id": "ae73f45b",
   "metadata": {},
   "outputs": [
    {
     "name": "stdout",
     "output_type": "stream",
     "text": [
      "Welcome to\n",
      "Hands on Python.\n"
     ]
    }
   ],
   "source": [
    "print(\"Welcome to\")\n",
    "print(\"Hands on Python.\")"
   ]
  },
  {
   "cell_type": "markdown",
   "id": "3e6d6d30",
   "metadata": {},
   "source": [
    "**Using \"end\" Parameter**"
   ]
  },
  {
   "cell_type": "markdown",
   "id": "9f65bf17",
   "metadata": {},
   "source": [
    "**Example**"
   ]
  },
  {
   "cell_type": "code",
   "execution_count": 7,
   "id": "e633c962",
   "metadata": {},
   "outputs": [
    {
     "name": "stdout",
     "output_type": "stream",
     "text": [
      "Welcome to Hands on Python.\n"
     ]
    }
   ],
   "source": [
    "print(\"Welcome to\", end = \" \")\n",
    "print(\"Hands on Python.\")"
   ]
  },
  {
   "cell_type": "markdown",
   "id": "c9afa478",
   "metadata": {},
   "source": [
    "**Example**"
   ]
  },
  {
   "cell_type": "code",
   "execution_count": 8,
   "id": "a13077e6",
   "metadata": {},
   "outputs": [
    {
     "name": "stdout",
     "output_type": "stream",
     "text": [
      "Hello Everyone, Welcome to Hands on Python.\n"
     ]
    }
   ],
   "source": [
    "print(\"Hello Everyone\", end = \", \")\n",
    "print(\"Welcome to\", end = \" \")\n",
    "print(\"Hands on Python.\")"
   ]
  },
  {
   "cell_type": "markdown",
   "id": "d6d2dcb7",
   "metadata": {},
   "source": [
    "#### \"sep\"\n",
    "\n",
    "The sep parameter allows you to specify a string that will be used to separate the items being printed by the print() function. By default, the sep parameter is set to a single space character. which means that the items being printed will be separated by a single space. However, you can also customize the sep parameter."
   ]
  },
  {
   "cell_type": "markdown",
   "id": "fa6fd61b",
   "metadata": {},
   "source": [
    "**Using \"sep\" Parameter**"
   ]
  },
  {
   "cell_type": "markdown",
   "id": "41049ca4",
   "metadata": {},
   "source": [
    "**Example**"
   ]
  },
  {
   "cell_type": "code",
   "execution_count": 9,
   "id": "24eedf75",
   "metadata": {},
   "outputs": [
    {
     "name": "stdout",
     "output_type": "stream",
     "text": [
      "Blue Black White Red are my favourate colours.\n"
     ]
    }
   ],
   "source": [
    "print(\"Blue\", \"Black\", \"White\", \"Red\", end = \" \")\n",
    "print(\"are my favourate colours.\")"
   ]
  },
  {
   "cell_type": "markdown",
   "id": "53fd7570",
   "metadata": {},
   "source": [
    "**Using \"sep\" Parameter**"
   ]
  },
  {
   "cell_type": "markdown",
   "id": "cb73098d",
   "metadata": {},
   "source": [
    "**Example**"
   ]
  },
  {
   "cell_type": "code",
   "execution_count": 10,
   "id": "2a177876",
   "metadata": {},
   "outputs": [
    {
     "name": "stdout",
     "output_type": "stream",
     "text": [
      "Blue, Black, White, Red are my favourate colours.\n"
     ]
    }
   ],
   "source": [
    "print(\"Blue\", \"Black\", \"White\", \"Red\", sep = \", \", end = \" \")\n",
    "print(\"are my favourate colours.\")"
   ]
  },
  {
   "cell_type": "markdown",
   "id": "14ad5dc9",
   "metadata": {},
   "source": [
    "## Python Keywords\n",
    "\n",
    "Every programming language has special reserved words, or keywords, that have specific meanings and restrictions around how they should be used. As of Python 3.8, there are 35 keywords in Python. Useing `help(\"keywords\")` we can get the list of all keywords."
   ]
  },
  {
   "cell_type": "code",
   "execution_count": 11,
   "id": "9ca32716",
   "metadata": {},
   "outputs": [
    {
     "name": "stdout",
     "output_type": "stream",
     "text": [
      "\n",
      "Here is a list of the Python keywords.  Enter any keyword to get more help.\n",
      "\n",
      "False               class               from                or\n",
      "None                continue            global              pass\n",
      "True                def                 if                  raise\n",
      "and                 del                 import              return\n",
      "as                  elif                in                  try\n",
      "assert              else                is                  while\n",
      "async               except              lambda              with\n",
      "await               finally             nonlocal            yield\n",
      "break               for                 not                 \n",
      "\n"
     ]
    }
   ],
   "source": [
    "help(\"keywords\")"
   ]
  },
  {
   "cell_type": "markdown",
   "id": "27cfcd82",
   "metadata": {},
   "source": [
    "## Python Variables\n",
    "\n",
    "- Variables are containers for storing data values."
   ]
  },
  {
   "cell_type": "markdown",
   "id": "b228caa4",
   "metadata": {},
   "source": [
    "### Creating Variables\n",
    "\n",
    "- Python has no command for declaring a variable.\n",
    "- A variable is created the moment you first assign a value to it."
   ]
  },
  {
   "cell_type": "markdown",
   "id": "dd2a3519",
   "metadata": {},
   "source": [
    "**Example**"
   ]
  },
  {
   "cell_type": "code",
   "execution_count": 12,
   "id": "765788c8",
   "metadata": {},
   "outputs": [
    {
     "name": "stdout",
     "output_type": "stream",
     "text": [
      "5\n",
      "John\n"
     ]
    }
   ],
   "source": [
    "x = 5\n",
    "y = \"John\"\n",
    "print(x)\n",
    "print(y)"
   ]
  },
  {
   "cell_type": "markdown",
   "id": "13af4e60",
   "metadata": {},
   "source": [
    "### Casting Variables\n",
    "\n",
    "- If you want to specify the data type of a variable, this can be done with casting."
   ]
  },
  {
   "cell_type": "code",
   "execution_count": 13,
   "id": "90fa2ee1",
   "metadata": {},
   "outputs": [],
   "source": [
    "x = str(3)    # x will be '3'\n",
    "y = int(3)    # y will be 3\n",
    "z = float(3)  # z will be 3.0"
   ]
  },
  {
   "cell_type": "markdown",
   "id": "16e7d408",
   "metadata": {},
   "source": [
    "### Naming Variables\n",
    "\n",
    "- A variable can have a short name (like x and y) or a more descriptive name (age, carname, total_volume). Rules for Python variables:\n",
    "    - A variable name must start with a letter or the underscore character\n",
    "    - A variable name cannot start with a number\n",
    "    - A variable name can only contain alpha-numeric characters and underscores (A-z, 0-9, and _ )\n",
    "    - Variable names are case-sensitive (age, Age and AGE are three different variables)"
   ]
  },
  {
   "cell_type": "markdown",
   "id": "d3f12bf0",
   "metadata": {},
   "source": [
    "**Example**\n",
    "\n",
    "- Legal Variable Names:"
   ]
  },
  {
   "cell_type": "code",
   "execution_count": 14,
   "id": "3ccbcad7",
   "metadata": {},
   "outputs": [],
   "source": [
    "myvariable = \"John\"\n",
    "my_varriable = \"John\"\n",
    "_my_variable = \"John\"\n",
    "myVariable = \"John\"\n",
    "MYVARiable = \"John\"\n",
    "myvariable8 = \"John\"\n",
    "my_myvariable_1 = \"John\""
   ]
  },
  {
   "cell_type": "markdown",
   "id": "75d7dd8e",
   "metadata": {},
   "source": [
    "**Multi Words Variable Names**\n",
    "\n",
    "- Variable names with more than one word can be difficult to read.\n",
    "- There are several techniques you can use to make them more readable:"
   ]
  },
  {
   "cell_type": "markdown",
   "id": "df9898c4",
   "metadata": {},
   "source": [
    "**A.Camel Case**\n",
    "\n",
    "- Each word, except the first, starts with a capital letter:"
   ]
  },
  {
   "cell_type": "code",
   "execution_count": 15,
   "id": "df79d890",
   "metadata": {},
   "outputs": [],
   "source": [
    "myVariableName = \"John\""
   ]
  },
  {
   "cell_type": "markdown",
   "id": "59ee9002",
   "metadata": {},
   "source": [
    "**B.Pascal Case**\n",
    "\n",
    "- Each word starts with a capital letter:"
   ]
  },
  {
   "cell_type": "code",
   "execution_count": 16,
   "id": "760c31fa",
   "metadata": {},
   "outputs": [],
   "source": [
    "MyVariableName = \"John\""
   ]
  },
  {
   "cell_type": "markdown",
   "id": "35e9f32b",
   "metadata": {},
   "source": [
    "**C.Snake Case**\n",
    "\n",
    "- Each word is separated by an underscore character:"
   ]
  },
  {
   "cell_type": "code",
   "execution_count": 17,
   "id": "360dc52e",
   "metadata": {},
   "outputs": [],
   "source": [
    "my_variable_name = \"John\""
   ]
  },
  {
   "cell_type": "markdown",
   "id": "7181998d",
   "metadata": {},
   "source": [
    "### Assigning Different Values to Different Variable\n",
    "\n",
    "- Python allows to assign values to multiple variables in one line:"
   ]
  },
  {
   "cell_type": "code",
   "execution_count": 18,
   "id": "39eedd47",
   "metadata": {},
   "outputs": [
    {
     "name": "stdout",
     "output_type": "stream",
     "text": [
      "Orange\n",
      "Banana\n",
      "Cherry\n",
      "Orange Banana Cherry\n"
     ]
    }
   ],
   "source": [
    "x, y, z = \"Orange\", \"Banana\", \"Cherry\"\n",
    "print(x)\n",
    "print(y)\n",
    "print(z)\n",
    "print(x,y,z)"
   ]
  },
  {
   "cell_type": "markdown",
   "id": "a1cd0ce0",
   "metadata": {},
   "source": [
    "**Note:** Make sure the number of variables matches the number of values, or else you will get an error."
   ]
  },
  {
   "cell_type": "markdown",
   "id": "150f0870",
   "metadata": {},
   "source": [
    "### Assigning Single Value to Different Variable\n",
    "\n",
    "- Pyhton aslo allows to assign the same value to multiple variables in one line:"
   ]
  },
  {
   "cell_type": "code",
   "execution_count": 19,
   "id": "a37e659b",
   "metadata": {},
   "outputs": [
    {
     "name": "stdout",
     "output_type": "stream",
     "text": [
      "Orange\n",
      "Orange\n",
      "Orange\n"
     ]
    }
   ],
   "source": [
    "x = y = z = \"Orange\"\n",
    "print(x)\n",
    "print(y)\n",
    "print(z)"
   ]
  },
  {
   "cell_type": "markdown",
   "id": "dc4947c4",
   "metadata": {},
   "source": [
    "### Unpack a Collection \n",
    "\n",
    "- If you have a collection of values, Python allows you to extract the values into variables. This is called unpacking."
   ]
  },
  {
   "cell_type": "code",
   "execution_count": 20,
   "id": "4dbbaf0f",
   "metadata": {},
   "outputs": [
    {
     "name": "stdout",
     "output_type": "stream",
     "text": [
      "Apple\n",
      "Banana\n",
      "Cherry\n"
     ]
    }
   ],
   "source": [
    "fruits = \"Apple\", \"Banana\", \"Cherry\"\n",
    "x, y, z = fruits\n",
    "print(x)\n",
    "print(y)\n",
    "print(z)"
   ]
  },
  {
   "cell_type": "markdown",
   "id": "8d4b4d91",
   "metadata": {},
   "source": [
    "### Different ways of \"Printing Output\" of Variables."
   ]
  },
  {
   "cell_type": "code",
   "execution_count": 21,
   "id": "50456a5a",
   "metadata": {},
   "outputs": [],
   "source": [
    "a = \"Abhishek\"\n",
    "b = \"ERP Software Developer\"\n",
    "x = 28\n",
    "y = 1"
   ]
  },
  {
   "cell_type": "code",
   "execution_count": 22,
   "id": "65a25f50",
   "metadata": {},
   "outputs": [
    {
     "name": "stdout",
     "output_type": "stream",
     "text": [
      "Abhishek is 28 years old and working as ERP Software Developer from 1 year.\n"
     ]
    }
   ],
   "source": [
    "print(a, \"is\", x, \"years old and working as\",b, \"from\", y, \"year.\")"
   ]
  },
  {
   "cell_type": "code",
   "execution_count": 23,
   "id": "cbb7708d",
   "metadata": {},
   "outputs": [
    {
     "name": "stdout",
     "output_type": "stream",
     "text": [
      "Abhishek is 28 years old and working as ERP Software Developer from 1 year.\n"
     ]
    }
   ],
   "source": [
    "print(f\"{a} is {x} years old and working as {b} from {y} year.\")"
   ]
  },
  {
   "cell_type": "code",
   "execution_count": 24,
   "id": "1b0d68e6",
   "metadata": {},
   "outputs": [
    {
     "name": "stdout",
     "output_type": "stream",
     "text": [
      "Abhishek is 28 years old and working as ERP Software Developer from 1 year.\n"
     ]
    }
   ],
   "source": [
    "print(\"{} is {} years old and working as {} from {} year.\".format(a,x,b,y))"
   ]
  },
  {
   "cell_type": "markdown",
   "id": "f8ce9cfc",
   "metadata": {},
   "source": [
    "### Global Variables\n",
    "\n",
    "- Variables that are created outside of a function (as in all of the examples above) are known as global variables.\n",
    "- Global variables can be used by everyone, both inside of functions and outside.\n",
    "- If you create a variable with the same name inside a function, this variable will be local, and can only be used inside the function. The global variable with the same name will remain as it was, global and with the original value."
   ]
  },
  {
   "cell_type": "markdown",
   "id": "d9af0436",
   "metadata": {},
   "source": [
    "**Example**\n",
    "\n",
    "- Create a variable outside of a function, and use it inside the function."
   ]
  },
  {
   "cell_type": "code",
   "execution_count": 25,
   "id": "f26044a4",
   "metadata": {},
   "outputs": [
    {
     "name": "stdout",
     "output_type": "stream",
     "text": [
      "Python is Awesome.\n"
     ]
    }
   ],
   "source": [
    "x = \"Awesome.\"\n",
    "\n",
    "def myfunc():\n",
    "    print(\"Python is \" + x)\n",
    "\n",
    "myfunc()"
   ]
  },
  {
   "cell_type": "markdown",
   "id": "9992f0fa",
   "metadata": {},
   "source": [
    "**Example**\n",
    "\n",
    "- Create a variable inside a function, with the same name as the global variable."
   ]
  },
  {
   "cell_type": "code",
   "execution_count": 26,
   "id": "2767aa37",
   "metadata": {},
   "outputs": [
    {
     "name": "stdout",
     "output_type": "stream",
     "text": [
      "Python is Fantastic.\n",
      "Python is Awesome.\n"
     ]
    }
   ],
   "source": [
    "x = \"Awesome.\"\n",
    "\n",
    "def myfunc():\n",
    "    x = \"Fantastic.\"\n",
    "    print(\"Python is \" + x)\n",
    "\n",
    "myfunc()\n",
    "\n",
    "print(\"Python is \" + x)"
   ]
  },
  {
   "cell_type": "markdown",
   "id": "19a99a3d",
   "metadata": {},
   "source": [
    "### The global Keyword\n",
    "\n",
    "- Normally, when you create a variable inside a function, that variable is local, and can only be used inside that function.\n",
    "- To create a global variable inside a function, you can use the global keyword.\n",
    "- Also, use the global keyword if you want to change a global variable inside a function."
   ]
  },
  {
   "cell_type": "markdown",
   "id": "444419f5",
   "metadata": {},
   "source": [
    "**Example**\n",
    "\n",
    "- If you use the global keyword, the variable belongs to the global scope."
   ]
  },
  {
   "cell_type": "code",
   "execution_count": 27,
   "id": "0aae0d50",
   "metadata": {},
   "outputs": [
    {
     "name": "stdout",
     "output_type": "stream",
     "text": [
      "Python is Fantastic.\n"
     ]
    }
   ],
   "source": [
    "def myfunc():\n",
    "    global x\n",
    "    x = \"Fantastic.\"\n",
    "\n",
    "myfunc()\n",
    "\n",
    "print(\"Python is \" + x)"
   ]
  },
  {
   "cell_type": "markdown",
   "id": "5b9ffaf5",
   "metadata": {},
   "source": [
    "**Example**\n",
    "\n",
    "- To change the value of a global variable inside a function, refer to the variable by using the global keyword."
   ]
  },
  {
   "cell_type": "code",
   "execution_count": 28,
   "id": "1901a7c3",
   "metadata": {},
   "outputs": [
    {
     "name": "stdout",
     "output_type": "stream",
     "text": [
      "Python is Fantastic.\n"
     ]
    }
   ],
   "source": [
    "x = \"Awesome.\"\n",
    "\n",
    "def myfunc():\n",
    "    global x\n",
    "    x = \"Fantastic.\"\n",
    "\n",
    "myfunc()\n",
    "\n",
    "print(\"Python is \" + x)"
   ]
  },
  {
   "cell_type": "markdown",
   "id": "407e5f2f",
   "metadata": {},
   "source": [
    "## Python Data Types"
   ]
  },
  {
   "cell_type": "markdown",
   "id": "bd1a223e",
   "metadata": {},
   "source": [
    "### Built-in Data Types\n",
    "\n",
    "- In programming, data type is an important concept.\n",
    "- Variables can store data of different types, and different types can do different things.\n",
    "- Python has the following data types built-in by default, in these categories:"
   ]
  },
  {
   "cell_type": "markdown",
   "id": "a75b6a69",
   "metadata": {},
   "source": [
    "- Text Type:- \n",
    "     - str\n",
    "- Numeric Types:-\n",
    "     - int, float, complex\n",
    "- Boolean Type:- \n",
    "     - bool\n",
    "- Sequence Types:- \n",
    "     - list, tuple, range\n",
    "- Mapping Type:- \n",
    "     - dictionary\n",
    "- Set Types:- \n",
    "     - set, frozenset\n",
    "     \n",
    "**A set is a mutable object while frozenset provides an immutable implementation.**     \n",
    "     \n",
    "- Binary Types:- \n",
    "     - bytes, bytearray, memoryview"
   ]
  },
  {
   "cell_type": "markdown",
   "id": "6660fb1d",
   "metadata": {},
   "source": [
    "### Getting the Data Type\n",
    "\n",
    "- You can get the data type of any object by using the type() function."
   ]
  },
  {
   "cell_type": "markdown",
   "id": "945e82ea",
   "metadata": {},
   "source": [
    "**Example**\n",
    "\n",
    "- Print the data type of the given variables."
   ]
  },
  {
   "cell_type": "code",
   "execution_count": 29,
   "id": "793b270d",
   "metadata": {},
   "outputs": [
    {
     "name": "stdout",
     "output_type": "stream",
     "text": [
      "<class 'str'>\n",
      "<class 'int'>\n",
      "<class 'float'>\n",
      "<class 'bool'>\n"
     ]
    }
   ],
   "source": [
    "w = \"John\"\n",
    "x = 5\n",
    "y = 3.8\n",
    "z = True\n",
    "print(type(w))\n",
    "print(type(x))\n",
    "print(type(y))\n",
    "print(type(z))"
   ]
  },
  {
   "cell_type": "markdown",
   "id": "ba490482",
   "metadata": {},
   "source": [
    "### Setting the Data Type\n",
    "\n",
    "- In Python, the data type is set when you assign a value to a variable."
   ]
  },
  {
   "cell_type": "markdown",
   "id": "bcbf9880",
   "metadata": {},
   "source": [
    "**Example**"
   ]
  },
  {
   "cell_type": "code",
   "execution_count": 30,
   "id": "53267899",
   "metadata": {},
   "outputs": [
    {
     "data": {
      "text/plain": [
       "str"
      ]
     },
     "execution_count": 30,
     "metadata": {},
     "output_type": "execute_result"
    }
   ],
   "source": [
    "x = \"Hello World\"\n",
    "type(x)"
   ]
  },
  {
   "cell_type": "code",
   "execution_count": 31,
   "id": "567b5cf4",
   "metadata": {},
   "outputs": [
    {
     "data": {
      "text/plain": [
       "int"
      ]
     },
     "execution_count": 31,
     "metadata": {},
     "output_type": "execute_result"
    }
   ],
   "source": [
    "x = 20\n",
    "type(x)"
   ]
  },
  {
   "cell_type": "code",
   "execution_count": 32,
   "id": "71a7410c",
   "metadata": {},
   "outputs": [
    {
     "data": {
      "text/plain": [
       "float"
      ]
     },
     "execution_count": 32,
     "metadata": {},
     "output_type": "execute_result"
    }
   ],
   "source": [
    "x = 20.5\n",
    "type(x)"
   ]
  },
  {
   "cell_type": "code",
   "execution_count": 33,
   "id": "204aa0d6",
   "metadata": {},
   "outputs": [
    {
     "data": {
      "text/plain": [
       "complex"
      ]
     },
     "execution_count": 33,
     "metadata": {},
     "output_type": "execute_result"
    }
   ],
   "source": [
    "x = 1j\n",
    "type(x)"
   ]
  },
  {
   "cell_type": "code",
   "execution_count": 34,
   "id": "a346fd25",
   "metadata": {},
   "outputs": [
    {
     "data": {
      "text/plain": [
       "list"
      ]
     },
     "execution_count": 34,
     "metadata": {},
     "output_type": "execute_result"
    }
   ],
   "source": [
    "x = [\"Apple\", \"Banana\", \"Cherry\"]\n",
    "type(x)"
   ]
  },
  {
   "cell_type": "code",
   "execution_count": 35,
   "id": "fbe6a6e2",
   "metadata": {},
   "outputs": [
    {
     "data": {
      "text/plain": [
       "tuple"
      ]
     },
     "execution_count": 35,
     "metadata": {},
     "output_type": "execute_result"
    }
   ],
   "source": [
    "x = (\"Apple\", \"Banana\", \"Cherry\")\n",
    "type(x)"
   ]
  },
  {
   "cell_type": "code",
   "execution_count": 36,
   "id": "0e9e5f25",
   "metadata": {},
   "outputs": [
    {
     "data": {
      "text/plain": [
       "range"
      ]
     },
     "execution_count": 36,
     "metadata": {},
     "output_type": "execute_result"
    }
   ],
   "source": [
    "x = range(6)\n",
    "type(x)"
   ]
  },
  {
   "cell_type": "code",
   "execution_count": 37,
   "id": "58f99855",
   "metadata": {},
   "outputs": [
    {
     "data": {
      "text/plain": [
       "dict"
      ]
     },
     "execution_count": 37,
     "metadata": {},
     "output_type": "execute_result"
    }
   ],
   "source": [
    "x = {\"Name\" : \"John\", \"Age\" : 36}\n",
    "type(x)"
   ]
  },
  {
   "cell_type": "code",
   "execution_count": 38,
   "id": "c4d651a5",
   "metadata": {},
   "outputs": [
    {
     "data": {
      "text/plain": [
       "frozenset"
      ]
     },
     "execution_count": 38,
     "metadata": {},
     "output_type": "execute_result"
    }
   ],
   "source": [
    "x = frozenset({\"Apple\", \"Banana\", \"Cherry\"})\n",
    "type(x)"
   ]
  },
  {
   "cell_type": "code",
   "execution_count": 39,
   "id": "8d134775",
   "metadata": {},
   "outputs": [],
   "source": [
    "x = True"
   ]
  },
  {
   "cell_type": "code",
   "execution_count": 40,
   "id": "0d0a1e2e",
   "metadata": {},
   "outputs": [
    {
     "data": {
      "text/plain": [
       "bytes"
      ]
     },
     "execution_count": 40,
     "metadata": {},
     "output_type": "execute_result"
    }
   ],
   "source": [
    "x = b\"Hello\"\n",
    "type(x)"
   ]
  },
  {
   "cell_type": "code",
   "execution_count": 41,
   "id": "748a18f0",
   "metadata": {},
   "outputs": [
    {
     "data": {
      "text/plain": [
       "bytearray"
      ]
     },
     "execution_count": 41,
     "metadata": {},
     "output_type": "execute_result"
    }
   ],
   "source": [
    "x = bytearray(5)\n",
    "type(x)"
   ]
  },
  {
   "cell_type": "code",
   "execution_count": 42,
   "id": "b72a2cfe",
   "metadata": {},
   "outputs": [
    {
     "data": {
      "text/plain": [
       "memoryview"
      ]
     },
     "execution_count": 42,
     "metadata": {},
     "output_type": "execute_result"
    }
   ],
   "source": [
    "x = memoryview(bytes(5))\n",
    "type(x)"
   ]
  },
  {
   "cell_type": "markdown",
   "id": "e733c6b6",
   "metadata": {},
   "source": [
    "## Python input( ) Function\n",
    "\n",
    "- It produces a text field to accept input from the user."
   ]
  },
  {
   "cell_type": "markdown",
   "id": "d3bd0b28",
   "metadata": {},
   "source": [
    "### Capturing the user input in a variable."
   ]
  },
  {
   "cell_type": "markdown",
   "id": "2afebe90",
   "metadata": {},
   "source": [
    "**Example**"
   ]
  },
  {
   "cell_type": "code",
   "execution_count": 43,
   "id": "9aaf11f1",
   "metadata": {},
   "outputs": [
    {
     "name": "stdout",
     "output_type": "stream",
     "text": [
      "Which one is your favourite avanger?  \n"
     ]
    }
   ],
   "source": [
    "fav_avn = input(\"Which one is your favourite avanger?  \")"
   ]
  },
  {
   "cell_type": "code",
   "execution_count": 44,
   "id": "185e2d12",
   "metadata": {},
   "outputs": [
    {
     "name": "stdout",
     "output_type": "stream",
     "text": [
      "\n"
     ]
    }
   ],
   "source": [
    "print(fav_avn)"
   ]
  },
  {
   "cell_type": "markdown",
   "id": "26c4450d",
   "metadata": {},
   "source": [
    "### Data Type of input() Function"
   ]
  },
  {
   "cell_type": "markdown",
   "id": "45d7624d",
   "metadata": {},
   "source": [
    "**Example**"
   ]
  },
  {
   "cell_type": "code",
   "execution_count": 45,
   "id": "b29ae29a",
   "metadata": {},
   "outputs": [
    {
     "name": "stdout",
     "output_type": "stream",
     "text": [
      "Hey buddy how old you are ? 29\n",
      "<class 'str'>\n"
     ]
    }
   ],
   "source": [
    "age = input(\"Hey buddy how old you are ? \")\n",
    "print(type(age))"
   ]
  },
  {
   "cell_type": "markdown",
   "id": "f94cf585",
   "metadata": {},
   "source": [
    "### Type Casting Data Type of input() Function"
   ]
  },
  {
   "cell_type": "markdown",
   "id": "fe243ca4",
   "metadata": {},
   "source": [
    "**Example**"
   ]
  },
  {
   "cell_type": "code",
   "execution_count": 46,
   "id": "e331170e",
   "metadata": {},
   "outputs": [
    {
     "name": "stdout",
     "output_type": "stream",
     "text": [
      "Hey buddy how old you are ? 29\n",
      "<class 'int'>\n"
     ]
    }
   ],
   "source": [
    "age = int(input(\"Hey buddy how old you are ? \"))\n",
    "print(type(age))"
   ]
  },
  {
   "cell_type": "markdown",
   "id": "68b0affe",
   "metadata": {},
   "source": [
    "## Python Strings"
   ]
  },
  {
   "cell_type": "markdown",
   "id": "417f5a7a",
   "metadata": {},
   "source": [
    "### Strings\n",
    "\n",
    "- Strings in python are surrounded by either single quotation marks, or double quotation marks.\n",
    "- 'Hello' is the same as \"Hello\".\n",
    "- We can display a string literal with the print() function:"
   ]
  },
  {
   "cell_type": "markdown",
   "id": "26d320fa",
   "metadata": {},
   "source": [
    "**Example**"
   ]
  },
  {
   "cell_type": "code",
   "execution_count": 47,
   "id": "a44e5751",
   "metadata": {},
   "outputs": [
    {
     "name": "stdout",
     "output_type": "stream",
     "text": [
      "Hello\n",
      "Hello\n"
     ]
    }
   ],
   "source": [
    "print(\"Hello\")\n",
    "print('Hello')"
   ]
  },
  {
   "cell_type": "markdown",
   "id": "14935c93",
   "metadata": {},
   "source": [
    "### Assign String to a Variable\n",
    "\n",
    "- Assigning a string to a variable is done with the variable name followed by an equal sign and the string:"
   ]
  },
  {
   "cell_type": "markdown",
   "id": "61e95310",
   "metadata": {},
   "source": [
    "**Example**"
   ]
  },
  {
   "cell_type": "code",
   "execution_count": 48,
   "id": "cd8d9a4a",
   "metadata": {},
   "outputs": [
    {
     "name": "stdout",
     "output_type": "stream",
     "text": [
      "Hello Abhishek\n"
     ]
    }
   ],
   "source": [
    "a = \"Hello Abhishek\"\n",
    "print(a)"
   ]
  },
  {
   "cell_type": "markdown",
   "id": "de8a4f08",
   "metadata": {},
   "source": [
    "### Multiline Strings\n",
    "\n",
    "- You can assign a multiline string to a variable by using three double or three single quotes."
   ]
  },
  {
   "cell_type": "markdown",
   "id": "6fad41fc",
   "metadata": {},
   "source": [
    "**Example**"
   ]
  },
  {
   "cell_type": "code",
   "execution_count": 49,
   "id": "8b4c6e4b",
   "metadata": {},
   "outputs": [
    {
     "name": "stdout",
     "output_type": "stream",
     "text": [
      "Data science is an interdisciplinary field that uses\n",
      "scientific methods, processes, algorithms and systems to\n",
      "extract knowledge and insights from noisy, structured and \n",
      "unstructured data, and apply knowledge and actionable insight\n",
      "from data across a broad range of application domains.\n"
     ]
    }
   ],
   "source": [
    "a = '''Data science is an interdisciplinary field that uses\n",
    "scientific methods, processes, algorithms and systems to\n",
    "extract knowledge and insights from noisy, structured and \n",
    "unstructured data, and apply knowledge and actionable insight\n",
    "from data across a broad range of application domains.'''\n",
    "\n",
    "print(a)"
   ]
  },
  {
   "cell_type": "markdown",
   "id": "1b7d3c49",
   "metadata": {},
   "source": [
    "**Note:** In the output, the line breaks are inserted at the same position as in the code."
   ]
  },
  {
   "cell_type": "markdown",
   "id": "0db51d1a",
   "metadata": {},
   "source": [
    "### Strings are Arrays\n",
    "\n",
    "- Like many other popular programming languages, strings in Python are arrays of bytes representing unicode characters.\n",
    "- However, Python does not have a character data type, a single character is simply a string with a length of 1.\n",
    "- Square brackets can be used to access elements of the string."
   ]
  },
  {
   "cell_type": "markdown",
   "id": "13c974c6",
   "metadata": {},
   "source": [
    "**Example**\n",
    "\n",
    "- Get the character at position 27th (remember that the first character has the position 0):"
   ]
  },
  {
   "cell_type": "code",
   "execution_count": 50,
   "id": "b21591a0",
   "metadata": {},
   "outputs": [
    {
     "name": "stdout",
     "output_type": "stream",
     "text": [
      "c\n"
     ]
    }
   ],
   "source": [
    "a = \"Data scientists examine which questions need answering and where to find the related data.\"\n",
    "\n",
    "print(a[27])"
   ]
  },
  {
   "cell_type": "markdown",
   "id": "536c8bd2",
   "metadata": {},
   "source": [
    "### Looping Through a String\n",
    "\n",
    "- Since strings are arrays, we can loop through the characters in a string, with a for loop."
   ]
  },
  {
   "cell_type": "markdown",
   "id": "170137cd",
   "metadata": {},
   "source": [
    "**Example**\n",
    "\n",
    "- Loop through the letters in the word \"Hippopotamus\"."
   ]
  },
  {
   "cell_type": "code",
   "execution_count": 51,
   "id": "b29406c3",
   "metadata": {},
   "outputs": [
    {
     "name": "stdout",
     "output_type": "stream",
     "text": [
      "H\n",
      "i\n",
      "p\n",
      "p\n",
      "o\n",
      "p\n",
      "o\n",
      "t\n",
      "a\n",
      "m\n",
      "u\n",
      "s\n"
     ]
    }
   ],
   "source": [
    "a = \"Hippopotamus\"\n",
    "\n",
    "for x in a:\n",
    "    print(x)"
   ]
  },
  {
   "cell_type": "markdown",
   "id": "b226336b",
   "metadata": {},
   "source": [
    "### String Length\n",
    "\n",
    "- To get the length of a string, use the len() function."
   ]
  },
  {
   "cell_type": "markdown",
   "id": "b79e88f1",
   "metadata": {},
   "source": [
    "**Example**\n",
    "\n",
    "- The len() function returns the length of a string."
   ]
  },
  {
   "cell_type": "code",
   "execution_count": 52,
   "id": "ab431448",
   "metadata": {},
   "outputs": [
    {
     "name": "stdout",
     "output_type": "stream",
     "text": [
      "21\n"
     ]
    }
   ],
   "source": [
    "a = \"Say Hello, to Python.\"\n",
    "print(len(a))"
   ]
  },
  {
   "cell_type": "markdown",
   "id": "ecb8eb7f",
   "metadata": {},
   "source": [
    "### Check String\n",
    "\n",
    "- To check if a certain phrase or character is present in a string, we can use the keyword in."
   ]
  },
  {
   "cell_type": "markdown",
   "id": "23566fbf",
   "metadata": {},
   "source": [
    "**Example**\n",
    "\n",
    "- Check if \"busy\" and \"free\" are present in the following text."
   ]
  },
  {
   "cell_type": "code",
   "execution_count": 53,
   "id": "4f96dc36",
   "metadata": {},
   "outputs": [
    {
     "name": "stdout",
     "output_type": "stream",
     "text": [
      "True\n"
     ]
    }
   ],
   "source": [
    "Quotes = \"Life is what happens when you’re busy making other plans.\"\n",
    "print(\"busy\" in Quotes)"
   ]
  },
  {
   "cell_type": "code",
   "execution_count": 54,
   "id": "8c9032df",
   "metadata": {},
   "outputs": [
    {
     "name": "stdout",
     "output_type": "stream",
     "text": [
      "False\n"
     ]
    }
   ],
   "source": [
    "Quotes = \"“Life is what happens when you’re busy making other plans.” \"\n",
    "print(\"free\" in Quotes)"
   ]
  },
  {
   "cell_type": "markdown",
   "id": "66ee6715",
   "metadata": {},
   "source": [
    "- Use if statement."
   ]
  },
  {
   "cell_type": "markdown",
   "id": "6844932b",
   "metadata": {},
   "source": [
    "**Example**\n",
    "\n",
    "- Print only if \"bussy\" is present."
   ]
  },
  {
   "cell_type": "code",
   "execution_count": 55,
   "id": "3eebeb64",
   "metadata": {},
   "outputs": [
    {
     "name": "stdout",
     "output_type": "stream",
     "text": [
      "Yes, 'busy' is present.\n"
     ]
    }
   ],
   "source": [
    "Quotes = \"Life is what happens when you’re busy making other plans.\"\n",
    "\n",
    "if \"busy\" in Quotes:\n",
    "    print(\"Yes, 'busy' is present.\")"
   ]
  },
  {
   "cell_type": "markdown",
   "id": "002dc0d8",
   "metadata": {},
   "source": [
    "### Slicing Strings"
   ]
  },
  {
   "cell_type": "markdown",
   "id": "6fe0133b",
   "metadata": {},
   "source": [
    "#### Slicing\n",
    "\n",
    "- You can return a range of characters by using the slice syntax.\n",
    "- Specify the start index and the end index, separated by a colon, to return a part of the string."
   ]
  },
  {
   "cell_type": "markdown",
   "id": "0c4e0462",
   "metadata": {},
   "source": [
    "**Example**\n",
    "\n",
    "- Get the characters from position 3 to position 9 (not included)."
   ]
  },
  {
   "cell_type": "code",
   "execution_count": 56,
   "id": "bcff5e6d",
   "metadata": {},
   "outputs": [
    {
     "name": "stdout",
     "output_type": "stream",
     "text": [
      "lo, Ab\n"
     ]
    }
   ],
   "source": [
    "a = \"Hello, Abhishek!\"\n",
    "\n",
    "print(a[3:9])"
   ]
  },
  {
   "cell_type": "markdown",
   "id": "b3d8866d",
   "metadata": {},
   "source": [
    "#### Slice From the Start\n",
    "\n",
    "- By leaving out the start index, the range will start at the first character."
   ]
  },
  {
   "cell_type": "markdown",
   "id": "3c1a85dd",
   "metadata": {},
   "source": [
    "**Example**\n",
    "\n",
    "- Get the characters from the start to position 5 (not included)."
   ]
  },
  {
   "cell_type": "code",
   "execution_count": 57,
   "id": "117dd3f9",
   "metadata": {},
   "outputs": [
    {
     "name": "stdout",
     "output_type": "stream",
     "text": [
      "Hello\n"
     ]
    }
   ],
   "source": [
    "a = \"Hello, Abhishek!\"\n",
    "\n",
    "print(a[:5])"
   ]
  },
  {
   "cell_type": "markdown",
   "id": "c8b9e716",
   "metadata": {},
   "source": [
    "#### Slice To the End\n",
    "\n",
    "- By leaving out the end index, the range will go to the end."
   ]
  },
  {
   "cell_type": "markdown",
   "id": "2cc723d9",
   "metadata": {},
   "source": [
    "**Example**\n",
    "\n",
    "- Get the characters from position 7, and all the way to the end."
   ]
  },
  {
   "cell_type": "code",
   "execution_count": 58,
   "id": "201ed84c",
   "metadata": {},
   "outputs": [
    {
     "name": "stdout",
     "output_type": "stream",
     "text": [
      "Abhishek!\n"
     ]
    }
   ],
   "source": [
    "a = \"Hello, Abhishek!\"\n",
    "print(a[7:])"
   ]
  },
  {
   "cell_type": "markdown",
   "id": "6094816e",
   "metadata": {},
   "source": [
    "#### Negative Indexing\n",
    "\n",
    "- Use negative indexes to start the slice from the end of the string."
   ]
  },
  {
   "cell_type": "markdown",
   "id": "d909023f",
   "metadata": {},
   "source": [
    "**Example**\n",
    "\n",
    "- Get the characters:\n",
    "     - from: \"o\" in \"World!\" (position -5)\n",
    "     - to, but not included: \"d\" in \"World!\" (position -2):"
   ]
  },
  {
   "cell_type": "code",
   "execution_count": 59,
   "id": "bb74b83f",
   "metadata": {},
   "outputs": [
    {
     "name": "stdout",
     "output_type": "stream",
     "text": [
      "orl\n"
     ]
    }
   ],
   "source": [
    "a = \"Hello, World!\"\n",
    "print(a[-5:-2])"
   ]
  },
  {
   "cell_type": "markdown",
   "id": "0de1aa82",
   "metadata": {},
   "source": [
    "### Modify Strings\n",
    "\n",
    "- Python has a set of built-in methods that we can use on strings."
   ]
  },
  {
   "cell_type": "markdown",
   "id": "f929559d",
   "metadata": {},
   "source": [
    "#### Upper Case"
   ]
  },
  {
   "cell_type": "markdown",
   "id": "6871faa2",
   "metadata": {},
   "source": [
    "**Example**\n",
    "\n",
    "- The upper() method returns the string in upper case."
   ]
  },
  {
   "cell_type": "code",
   "execution_count": 60,
   "id": "7df4ad2f",
   "metadata": {},
   "outputs": [
    {
     "name": "stdout",
     "output_type": "stream",
     "text": [
      "HELLO, ABHISHEK!\n"
     ]
    }
   ],
   "source": [
    "a = \"Hello, Abhishek!\"\n",
    "print(a.upper())"
   ]
  },
  {
   "cell_type": "markdown",
   "id": "3d1188bf",
   "metadata": {},
   "source": [
    "#### Lower Case"
   ]
  },
  {
   "cell_type": "markdown",
   "id": "e65265d4",
   "metadata": {},
   "source": [
    "**Example**\n",
    "\n",
    "- The lower() method returns the string in lower case."
   ]
  },
  {
   "cell_type": "code",
   "execution_count": 61,
   "id": "4c0f913d",
   "metadata": {},
   "outputs": [
    {
     "name": "stdout",
     "output_type": "stream",
     "text": [
      "hello, abhishek!\n"
     ]
    }
   ],
   "source": [
    "a = \"Hello, Abhishek!\"\n",
    "print(a.lower())"
   ]
  },
  {
   "cell_type": "markdown",
   "id": "3d835bfc",
   "metadata": {},
   "source": [
    "#### Remove Whitespace\n",
    "\n",
    "- Whitespace is the space before and/or after the actual text, and very often you want to remove this space."
   ]
  },
  {
   "cell_type": "markdown",
   "id": "45b8032c",
   "metadata": {},
   "source": [
    "**Example**\n",
    "\n",
    "- The strip() method removes any whitespace from the beginning or the end."
   ]
  },
  {
   "cell_type": "code",
   "execution_count": 62,
   "id": "d92c7c3f",
   "metadata": {
    "scrolled": true
   },
   "outputs": [
    {
     "name": "stdout",
     "output_type": "stream",
     "text": [
      " Hello, Abhishek! \n",
      "Hello, Abhishek!\n"
     ]
    }
   ],
   "source": [
    "a = \" Hello, Abhishek! \"\n",
    "print(a)\n",
    "print(a.strip())"
   ]
  },
  {
   "cell_type": "markdown",
   "id": "f13d9609",
   "metadata": {},
   "source": [
    "#### Replace String"
   ]
  },
  {
   "cell_type": "markdown",
   "id": "e4e43502",
   "metadata": {},
   "source": [
    "**Example**\n",
    "\n",
    "- The replace() method replaces a string with another string."
   ]
  },
  {
   "cell_type": "code",
   "execution_count": 63,
   "id": "f485c425",
   "metadata": {},
   "outputs": [
    {
     "name": "stdout",
     "output_type": "stream",
     "text": [
      "Jello, Abhishek!\n"
     ]
    }
   ],
   "source": [
    "a = \"Hello, Abhishek!\"\n",
    "print(a.replace(\"H\", \"J\"))"
   ]
  },
  {
   "cell_type": "code",
   "execution_count": 64,
   "id": "e41a3377",
   "metadata": {},
   "outputs": [
    {
     "name": "stdout",
     "output_type": "stream",
     "text": [
      "Jello Abhishek!\n"
     ]
    }
   ],
   "source": [
    "a = \"Hello, Abhishek!\"\n",
    "print(a.replace(\"H\", \"J\").replace(\",\",\"\"))"
   ]
  },
  {
   "cell_type": "markdown",
   "id": "3489baf6",
   "metadata": {},
   "source": [
    "#### Split String\n",
    "\n",
    "- The split() method returns a list where the text between the specified separator becomes the list items."
   ]
  },
  {
   "cell_type": "markdown",
   "id": "db143fd6",
   "metadata": {},
   "source": [
    "**Example**\n",
    "\n",
    "- The split() method splits the string into substrings if it finds instances of the separator."
   ]
  },
  {
   "cell_type": "code",
   "execution_count": 65,
   "id": "34f98b15",
   "metadata": {},
   "outputs": [
    {
     "name": "stdout",
     "output_type": "stream",
     "text": [
      "['Abhishek', '28']\n"
     ]
    }
   ],
   "source": [
    "a = \"Abhishek,28\"\n",
    "print(a.split(\",\")) "
   ]
  },
  {
   "cell_type": "markdown",
   "id": "c23644d9",
   "metadata": {},
   "source": [
    "#### String Concatenation\n",
    "\n",
    "- To concatenate, or combine, two strings you can use the + operator."
   ]
  },
  {
   "cell_type": "markdown",
   "id": "e99028ca",
   "metadata": {},
   "source": [
    "**Example**\n",
    "\n",
    "- Merge variable a with variable b into variable c."
   ]
  },
  {
   "cell_type": "code",
   "execution_count": 66,
   "id": "f1f23d46",
   "metadata": {},
   "outputs": [
    {
     "name": "stdout",
     "output_type": "stream",
     "text": [
      "HelloAbhishek!\n"
     ]
    }
   ],
   "source": [
    "a = \"Hello\"\n",
    "b = \"Abhishek!\"\n",
    "c = a + b\n",
    "print(c)"
   ]
  },
  {
   "cell_type": "markdown",
   "id": "a1b5c89e",
   "metadata": {},
   "source": [
    "- To add a space between them, add a \" \":"
   ]
  },
  {
   "cell_type": "code",
   "execution_count": 67,
   "id": "2fbec800",
   "metadata": {},
   "outputs": [
    {
     "name": "stdout",
     "output_type": "stream",
     "text": [
      "Hello Abhishek!\n"
     ]
    }
   ],
   "source": [
    "a = \"Hello\"\n",
    "b = \"Abhishek!\"\n",
    "c = a + \" \" + b\n",
    "print(c)"
   ]
  },
  {
   "cell_type": "markdown",
   "id": "9f4aa976",
   "metadata": {},
   "source": [
    "#### String Format\n",
    "\n",
    "- The format() method takes the passed arguments, formats them, and places them in the string where the placeholders {} are."
   ]
  },
  {
   "cell_type": "markdown",
   "id": "87b54cbf",
   "metadata": {},
   "source": [
    "**Example**"
   ]
  },
  {
   "cell_type": "code",
   "execution_count": 68,
   "id": "aa46bbec",
   "metadata": {},
   "outputs": [
    {
     "name": "stdout",
     "output_type": "stream",
     "text": [
      "My name is Abhishek, and I am 28\n"
     ]
    }
   ],
   "source": [
    "Age = 28\n",
    "a = \"My name is Abhishek, and I am {}\"\n",
    "print(a.format(Age))"
   ]
  },
  {
   "cell_type": "markdown",
   "id": "2538b62c",
   "metadata": {},
   "source": [
    "- The format() method takes unlimited number of arguments, and are placed into the respective placeholders."
   ]
  },
  {
   "cell_type": "markdown",
   "id": "396be942",
   "metadata": {},
   "source": [
    "#### Example"
   ]
  },
  {
   "cell_type": "code",
   "execution_count": 69,
   "id": "04953f99",
   "metadata": {},
   "outputs": [
    {
     "name": "stdout",
     "output_type": "stream",
     "text": [
      "I want 3 pieces of item 567 for 49.95 dollars.\n"
     ]
    }
   ],
   "source": [
    "quantity = 3\n",
    "item_code = 567\n",
    "price = 49.95\n",
    "my_order = \"I want {} pieces of item {} for {} dollars.\"\n",
    "print(my_order.format(quantity, item_code, price))"
   ]
  },
  {
   "cell_type": "markdown",
   "id": "5fd64a35",
   "metadata": {},
   "source": [
    "- You can use index numbers {} to be sure the arguments are placed in the correct placeholders."
   ]
  },
  {
   "cell_type": "markdown",
   "id": "2747b846",
   "metadata": {},
   "source": [
    "**Example**"
   ]
  },
  {
   "cell_type": "code",
   "execution_count": 70,
   "id": "a568933e",
   "metadata": {},
   "outputs": [
    {
     "name": "stdout",
     "output_type": "stream",
     "text": [
      "I want to pay 49.95 dollars for 3 pieces of item 567.\n"
     ]
    }
   ],
   "source": [
    "quantity = 3\n",
    "item_code = 567\n",
    "price = 49.95\n",
    "my_order = \"I want to pay {2} dollars for {0} pieces of item {1}.\"\n",
    "print(my_order.format(quantity, item_code, price))"
   ]
  },
  {
   "cell_type": "markdown",
   "id": "681e2894",
   "metadata": {},
   "source": [
    "### Escape Character\n",
    "\n",
    "- To insert characters that are illegal in a string, use an escape character."
   ]
  },
  {
   "cell_type": "markdown",
   "id": "237a0049",
   "metadata": {},
   "source": [
    "**Example**\n",
    "\n",
    "- The escape character allows you to use double quotes when you normally would not be allowed."
   ]
  },
  {
   "cell_type": "code",
   "execution_count": 71,
   "id": "1128b7d4",
   "metadata": {},
   "outputs": [
    {
     "name": "stdout",
     "output_type": "stream",
     "text": [
      "We are the so-called \"Vikings\" from the north.\n"
     ]
    }
   ],
   "source": [
    "txt = \"We are the so-called \\\"Vikings\\\" from the north.\"\n",
    "print(txt)"
   ]
  },
  {
   "cell_type": "markdown",
   "id": "4875810b",
   "metadata": {},
   "source": [
    "### Important String Methods\n",
    "\n",
    "- Python has a set of built-in methods that you can use on strings."
   ]
  },
  {
   "cell_type": "raw",
   "id": "6f35a950",
   "metadata": {},
   "source": [
    "count()    Returns the number of times a specified value occurs in a string."
   ]
  },
  {
   "cell_type": "raw",
   "id": "518a58bf",
   "metadata": {},
   "source": [
    "endswith()    Returns true if the string ends with the specified value."
   ]
  },
  {
   "cell_type": "raw",
   "id": "afb92a66",
   "metadata": {},
   "source": [
    "startswith()    Returns true if the string starts with the specified value"
   ]
  },
  {
   "cell_type": "raw",
   "id": "05320053",
   "metadata": {},
   "source": [
    "find()    Searches the string for a specified value and returns the position of where it was found."
   ]
  },
  {
   "cell_type": "raw",
   "id": "707db31b",
   "metadata": {},
   "source": [
    "rfind()    Searches the string for a specified value and returns the last position of where it was found."
   ]
  },
  {
   "cell_type": "raw",
   "id": "78ba84a2",
   "metadata": {},
   "source": [
    "index()    Searches the string for a specified value and returns the position of where it was found."
   ]
  },
  {
   "cell_type": "raw",
   "id": "14750a40",
   "metadata": {},
   "source": [
    "isalnum()    Returns True if all characters in the string are alphanumeric."
   ]
  },
  {
   "cell_type": "raw",
   "id": "0803008c",
   "metadata": {},
   "source": [
    "isalpha()    Returns True if all characters in the string are in the alphabet."
   ]
  },
  {
   "cell_type": "raw",
   "id": "57d47458",
   "metadata": {},
   "source": [
    "isdigit()    Returns True if all characters in the string are digits."
   ]
  },
  {
   "cell_type": "raw",
   "id": "43b8100b",
   "metadata": {},
   "source": [
    "islower()    Returns True if all characters in the string are lower case."
   ]
  },
  {
   "cell_type": "raw",
   "id": "62f89dd2",
   "metadata": {},
   "source": [
    "isupper()    Returns True if all characters in the string are upper case"
   ]
  },
  {
   "cell_type": "raw",
   "id": "4d354a2f",
   "metadata": {},
   "source": [
    "isnumeric()    Returns True if all characters in the string are numeric."
   ]
  },
  {
   "cell_type": "raw",
   "id": "235f2843",
   "metadata": {},
   "source": [
    "join()    Joins the elements of an iterable to the end of the string."
   ]
  },
  {
   "cell_type": "raw",
   "id": "42d7b2f9",
   "metadata": {},
   "source": [
    "lower()    Converts a string into lower case."
   ]
  },
  {
   "cell_type": "raw",
   "id": "65c1fda7",
   "metadata": {},
   "source": [
    "upper()    Converts a string into upper case."
   ]
  },
  {
   "cell_type": "raw",
   "id": "72fe392b",
   "metadata": {},
   "source": [
    "title()    Converts the first character of each word to upper case."
   ]
  },
  {
   "cell_type": "raw",
   "id": "3a75821d",
   "metadata": {},
   "source": [
    "capitalize()    Converts the first character to upper case."
   ]
  },
  {
   "cell_type": "raw",
   "id": "3a912409",
   "metadata": {},
   "source": [
    "swapcase()    Swaps cases, lower case becomes upper case and vice versa."
   ]
  },
  {
   "cell_type": "raw",
   "id": "15caa233",
   "metadata": {},
   "source": [
    "strip()    Returns a trimmed version of the string."
   ]
  },
  {
   "cell_type": "raw",
   "id": "b16fb750",
   "metadata": {},
   "source": [
    "lstrip()    Returns a left trim version of the string."
   ]
  },
  {
   "cell_type": "raw",
   "id": "b581c1e2",
   "metadata": {},
   "source": [
    "rstrip()    Returns a right trim version of the string"
   ]
  },
  {
   "cell_type": "raw",
   "id": "c8c0d35f",
   "metadata": {},
   "source": [
    "replace()    Returns a string where a specified value is replaced with a specified value."
   ]
  },
  {
   "cell_type": "raw",
   "id": "d5dc11b4",
   "metadata": {},
   "source": [
    "split()    Splits the string at the specified separator, and returns a list."
   ]
  },
  {
   "cell_type": "markdown",
   "id": "77d48684",
   "metadata": {},
   "source": [
    "## Python Numbers\n",
    "\n",
    "- There are three numeric types in Python:\n",
    "    - int\n",
    "    - float\n",
    "    - complex"
   ]
  },
  {
   "cell_type": "markdown",
   "id": "5cba1cd6",
   "metadata": {},
   "source": [
    "#### A. Int\n",
    "\n",
    "- Int, or integer, is a whole number, positive or negative, without decimals, of unlimited length."
   ]
  },
  {
   "cell_type": "markdown",
   "id": "468f6296",
   "metadata": {},
   "source": [
    "**Example**"
   ]
  },
  {
   "cell_type": "code",
   "execution_count": 72,
   "id": "b6b2a4f7",
   "metadata": {},
   "outputs": [
    {
     "name": "stdout",
     "output_type": "stream",
     "text": [
      "<class 'int'>\n",
      "<class 'int'>\n",
      "<class 'int'>\n"
     ]
    }
   ],
   "source": [
    "x = 1\n",
    "y = 35656222554887711\n",
    "z = -3255522\n",
    "\n",
    "print(type(x))\n",
    "print(type(y))\n",
    "print(type(z))"
   ]
  },
  {
   "cell_type": "markdown",
   "id": "d493b7ca",
   "metadata": {},
   "source": [
    "#### B. Float\n",
    "\n",
    "- Float, or \"floating point number\" is a number, positive or negative, containing one or more decimals."
   ]
  },
  {
   "cell_type": "markdown",
   "id": "b7ae1c14",
   "metadata": {},
   "source": [
    "**Example**"
   ]
  },
  {
   "cell_type": "code",
   "execution_count": 73,
   "id": "b18edeb1",
   "metadata": {},
   "outputs": [
    {
     "name": "stdout",
     "output_type": "stream",
     "text": [
      "<class 'float'>\n",
      "<class 'float'>\n",
      "<class 'float'>\n"
     ]
    }
   ],
   "source": [
    "x = 1.10\n",
    "y = 1.0\n",
    "z = -35.59\n",
    "\n",
    "print(type(x))\n",
    "print(type(y))\n",
    "print(type(z))"
   ]
  },
  {
   "cell_type": "markdown",
   "id": "7fd4ff20",
   "metadata": {},
   "source": [
    "- Float can also be scientific numbers with an \"e\" to indicate the power of 10."
   ]
  },
  {
   "cell_type": "markdown",
   "id": "a9b2811e",
   "metadata": {},
   "source": [
    "**Example**"
   ]
  },
  {
   "cell_type": "code",
   "execution_count": 74,
   "id": "fc5f0094",
   "metadata": {},
   "outputs": [
    {
     "name": "stdout",
     "output_type": "stream",
     "text": [
      "<class 'float'>\n",
      "<class 'float'>\n",
      "<class 'float'>\n"
     ]
    }
   ],
   "source": [
    "x = 35e3\n",
    "y = 12E4\n",
    "z = -87.7e100\n",
    "\n",
    "print(type(x))\n",
    "print(type(y))\n",
    "print(type(z))"
   ]
  },
  {
   "cell_type": "markdown",
   "id": "8df09d74",
   "metadata": {},
   "source": [
    "#### C. Complex\n",
    "\n",
    "- Complex numbers are written with a \"j\" as the imaginary part."
   ]
  },
  {
   "cell_type": "code",
   "execution_count": 75,
   "id": "b5036c3b",
   "metadata": {},
   "outputs": [
    {
     "name": "stdout",
     "output_type": "stream",
     "text": [
      "<class 'complex'>\n",
      "<class 'complex'>\n",
      "<class 'complex'>\n"
     ]
    }
   ],
   "source": [
    "x = 3+5j\n",
    "y = 5j\n",
    "z = -5j\n",
    "\n",
    "print(type(x))\n",
    "print(type(y))\n",
    "print(type(z))"
   ]
  },
  {
   "cell_type": "markdown",
   "id": "46b3d1f8",
   "metadata": {},
   "source": [
    "#### Type Conversion\n",
    "\n",
    "- You can convert from one type to another with the int(), float(), and complex() methods."
   ]
  },
  {
   "cell_type": "markdown",
   "id": "ea2af304",
   "metadata": {},
   "source": [
    "**Example**"
   ]
  },
  {
   "cell_type": "code",
   "execution_count": 76,
   "id": "b977752c",
   "metadata": {},
   "outputs": [
    {
     "name": "stdout",
     "output_type": "stream",
     "text": [
      "1.0\n",
      "2\n",
      "(1+0j)\n",
      "<class 'float'>\n",
      "<class 'int'>\n",
      "<class 'complex'>\n"
     ]
    }
   ],
   "source": [
    "x = 1    # int\n",
    "y = 2.8  # float\n",
    "z = 1j   # complex\n",
    "\n",
    "# Convert from int to float.\n",
    "a = float(x)\n",
    "\n",
    "# Convert from float to int.\n",
    "b = int(y)\n",
    "\n",
    "# Convert from int to complex.\n",
    "c = complex(x)\n",
    "\n",
    "print(a)\n",
    "print(b)\n",
    "print(c)\n",
    "\n",
    "print(type(a))\n",
    "print(type(b))\n",
    "print(type(c))"
   ]
  },
  {
   "cell_type": "markdown",
   "id": "8c7bf273",
   "metadata": {},
   "source": [
    "**Note:** You cannot convert complex numbers into another number type."
   ]
  },
  {
   "cell_type": "markdown",
   "id": "6027b78d",
   "metadata": {},
   "source": [
    "#### Random Number\n",
    "\n",
    "- Python does not have a random() function to make a random number, but Python has a built-in module called random that can be used to make random numbers:"
   ]
  },
  {
   "cell_type": "markdown",
   "id": "e25d54c6",
   "metadata": {},
   "source": [
    "**Example**\n",
    "\n",
    "- Import the random module, and display a random number between 1 and 9."
   ]
  },
  {
   "cell_type": "code",
   "execution_count": 77,
   "id": "7669b8a7",
   "metadata": {},
   "outputs": [
    {
     "name": "stdout",
     "output_type": "stream",
     "text": [
      "3\n"
     ]
    }
   ],
   "source": [
    "import random\n",
    "\n",
    "print(random.randrange(1, 10))"
   ]
  },
  {
   "cell_type": "markdown",
   "id": "d80526b2",
   "metadata": {},
   "source": [
    "## Python Booleans\n",
    "\n",
    "- Booleans represent one of two values: True or False."
   ]
  },
  {
   "cell_type": "markdown",
   "id": "059ec8c1",
   "metadata": {},
   "source": [
    "### Boolean Values\n",
    "\n",
    "- In programming you often need to know if an expression is True or False.\n",
    "\n",
    "- You can evaluate any expression in Python, and get one of two answers, True or False.\n",
    "\n",
    "- When you compare two values, the expression is evaluated and Python returns the Boolean answer:"
   ]
  },
  {
   "cell_type": "markdown",
   "id": "8587115d",
   "metadata": {},
   "source": [
    "**Example**"
   ]
  },
  {
   "cell_type": "code",
   "execution_count": 78,
   "id": "1695ba57",
   "metadata": {},
   "outputs": [
    {
     "name": "stdout",
     "output_type": "stream",
     "text": [
      "True\n",
      "False\n",
      "False\n"
     ]
    }
   ],
   "source": [
    "print(10 > 9)\n",
    "print(10 == 9)\n",
    "print(10 < 9)"
   ]
  },
  {
   "cell_type": "markdown",
   "id": "240901d3",
   "metadata": {},
   "source": [
    "**Example**\n",
    "\n",
    "- Print a message based on whether the condition is True or False."
   ]
  },
  {
   "cell_type": "code",
   "execution_count": 79,
   "id": "67fd48a4",
   "metadata": {},
   "outputs": [
    {
     "name": "stdout",
     "output_type": "stream",
     "text": [
      "A is greater than B\n"
     ]
    }
   ],
   "source": [
    "a = 378\n",
    "b = 349\n",
    "\n",
    "if b > a:\n",
    "    print(\"B is greater than A\")\n",
    "else:\n",
    "    print(\"A is greater than B\")"
   ]
  },
  {
   "cell_type": "markdown",
   "id": "cbfab016",
   "metadata": {},
   "source": [
    "## Python Operators\n",
    "\n",
    "- Operators are used to perform operations on variables and values."
   ]
  },
  {
   "cell_type": "markdown",
   "id": "95e4a435",
   "metadata": {},
   "source": [
    "### Python divides the operators in the following groups:\n",
    "\n",
    "- Arithmetic Operators\n",
    "- Logical Operators\n",
    "- Comparison Operators\n",
    "- Assignment Operators\n",
    "- Identity Operators\n",
    "- Membership Operators\n",
    "- Bitwise Operators"
   ]
  },
  {
   "cell_type": "markdown",
   "id": "34099080",
   "metadata": {},
   "source": [
    "### Arithmetic Operators"
   ]
  },
  {
   "cell_type": "markdown",
   "id": "8a3617b2",
   "metadata": {},
   "source": [
    "**A. Addition** ( + )"
   ]
  },
  {
   "cell_type": "code",
   "execution_count": 80,
   "id": "050c8e90",
   "metadata": {},
   "outputs": [
    {
     "data": {
      "text/plain": [
       "23"
      ]
     },
     "execution_count": 80,
     "metadata": {},
     "output_type": "execute_result"
    }
   ],
   "source": [
    "x = 14\n",
    "y = 9\n",
    "x + y"
   ]
  },
  {
   "cell_type": "markdown",
   "id": "2a104819",
   "metadata": {},
   "source": [
    "**B. Substraction** ( - )"
   ]
  },
  {
   "cell_type": "code",
   "execution_count": 81,
   "id": "ad5269e1",
   "metadata": {},
   "outputs": [
    {
     "data": {
      "text/plain": [
       "5"
      ]
     },
     "execution_count": 81,
     "metadata": {},
     "output_type": "execute_result"
    }
   ],
   "source": [
    "x = 14\n",
    "y = 9\n",
    "x - y"
   ]
  },
  {
   "cell_type": "markdown",
   "id": "de8cd76e",
   "metadata": {},
   "source": [
    "**C. Multiplication** ( * )"
   ]
  },
  {
   "cell_type": "code",
   "execution_count": 82,
   "id": "24938e2e",
   "metadata": {},
   "outputs": [
    {
     "data": {
      "text/plain": [
       "126"
      ]
     },
     "execution_count": 82,
     "metadata": {},
     "output_type": "execute_result"
    }
   ],
   "source": [
    "x = 14\n",
    "y = 9\n",
    "x * y"
   ]
  },
  {
   "cell_type": "markdown",
   "id": "c78068df",
   "metadata": {},
   "source": [
    "**D. Division** ( / )"
   ]
  },
  {
   "cell_type": "code",
   "execution_count": 83,
   "id": "e06cde55",
   "metadata": {},
   "outputs": [
    {
     "data": {
      "text/plain": [
       "1.5555555555555556"
      ]
     },
     "execution_count": 83,
     "metadata": {},
     "output_type": "execute_result"
    }
   ],
   "source": [
    "x = 14\n",
    "y = 9\n",
    "x / y"
   ]
  },
  {
   "cell_type": "markdown",
   "id": "1d041e8b",
   "metadata": {},
   "source": [
    "**E. Modulus** ( % )"
   ]
  },
  {
   "cell_type": "code",
   "execution_count": 84,
   "id": "d66e7d6a",
   "metadata": {},
   "outputs": [
    {
     "data": {
      "text/plain": [
       "5"
      ]
     },
     "execution_count": 84,
     "metadata": {},
     "output_type": "execute_result"
    }
   ],
   "source": [
    "x = 14\n",
    "y = 9\n",
    "x % y"
   ]
  },
  {
   "cell_type": "markdown",
   "id": "497724a2",
   "metadata": {},
   "source": [
    "**F. Exponentiation** ( ** )"
   ]
  },
  {
   "cell_type": "code",
   "execution_count": 85,
   "id": "7b57d75d",
   "metadata": {},
   "outputs": [
    {
     "data": {
      "text/plain": [
       "20661046784"
      ]
     },
     "execution_count": 85,
     "metadata": {},
     "output_type": "execute_result"
    }
   ],
   "source": [
    "x = 14\n",
    "y = 9\n",
    "x ** y"
   ]
  },
  {
   "cell_type": "markdown",
   "id": "55ea62e7",
   "metadata": {},
   "source": [
    "**G. Floor Division** ( // )"
   ]
  },
  {
   "cell_type": "code",
   "execution_count": 86,
   "id": "914981ee",
   "metadata": {},
   "outputs": [
    {
     "data": {
      "text/plain": [
       "1"
      ]
     },
     "execution_count": 86,
     "metadata": {},
     "output_type": "execute_result"
    }
   ],
   "source": [
    "x = 14\n",
    "y = 9\n",
    "x//y"
   ]
  },
  {
   "cell_type": "markdown",
   "id": "530c5185",
   "metadata": {},
   "source": [
    "### Logical Operators"
   ]
  },
  {
   "cell_type": "markdown",
   "id": "95d11f15",
   "metadata": {},
   "source": [
    "**A. and**\n",
    "\n",
    "- Returns True if both statements are true."
   ]
  },
  {
   "cell_type": "markdown",
   "id": "9f444595",
   "metadata": {},
   "source": [
    "**Example**"
   ]
  },
  {
   "cell_type": "code",
   "execution_count": 87,
   "id": "5de7a7c3",
   "metadata": {},
   "outputs": [
    {
     "data": {
      "text/plain": [
       "False"
      ]
     },
     "execution_count": 87,
     "metadata": {},
     "output_type": "execute_result"
    }
   ],
   "source": [
    "x = 5\n",
    "x < 5 and  x < 10"
   ]
  },
  {
   "cell_type": "markdown",
   "id": "cb10f29c",
   "metadata": {},
   "source": [
    "**B. or**\n",
    "\n",
    "- Returns True if one of the statements is true."
   ]
  },
  {
   "cell_type": "markdown",
   "id": "5750a1a1",
   "metadata": {},
   "source": [
    "**Example**"
   ]
  },
  {
   "cell_type": "code",
   "execution_count": 88,
   "id": "0141f7df",
   "metadata": {},
   "outputs": [
    {
     "data": {
      "text/plain": [
       "True"
      ]
     },
     "execution_count": 88,
     "metadata": {},
     "output_type": "execute_result"
    }
   ],
   "source": [
    "x = 3\n",
    "x < 5 or x < 4"
   ]
  },
  {
   "cell_type": "markdown",
   "id": "9e3e5aad",
   "metadata": {},
   "source": [
    "**C. not**\n",
    "\n",
    "- Reverse the result, returns False if the result is true."
   ]
  },
  {
   "cell_type": "code",
   "execution_count": 89,
   "id": "e17a51f0",
   "metadata": {},
   "outputs": [
    {
     "data": {
      "text/plain": [
       "True"
      ]
     },
     "execution_count": 89,
     "metadata": {},
     "output_type": "execute_result"
    }
   ],
   "source": [
    "x = 8\n",
    "not(x < 5 and x < 10)"
   ]
  },
  {
   "cell_type": "markdown",
   "id": "a92424f3",
   "metadata": {},
   "source": [
    "### Comparison Operators"
   ]
  },
  {
   "cell_type": "markdown",
   "id": "6ebff8a6",
   "metadata": {},
   "source": [
    "**A. Equal** ( == )"
   ]
  },
  {
   "cell_type": "code",
   "execution_count": 90,
   "id": "9d37b3dc",
   "metadata": {},
   "outputs": [
    {
     "data": {
      "text/plain": [
       "False"
      ]
     },
     "execution_count": 90,
     "metadata": {},
     "output_type": "execute_result"
    }
   ],
   "source": [
    "x = 7\n",
    "y = 9\n",
    "x == y"
   ]
  },
  {
   "cell_type": "markdown",
   "id": "ac71e379",
   "metadata": {},
   "source": [
    "**B. Not Equal** ( != )"
   ]
  },
  {
   "cell_type": "code",
   "execution_count": 91,
   "id": "8e52c5e9",
   "metadata": {},
   "outputs": [
    {
     "data": {
      "text/plain": [
       "True"
      ]
     },
     "execution_count": 91,
     "metadata": {},
     "output_type": "execute_result"
    }
   ],
   "source": [
    "x = 7\n",
    "y = 9\n",
    "x != y"
   ]
  },
  {
   "cell_type": "markdown",
   "id": "2c7ac027",
   "metadata": {},
   "source": [
    "**C. Greater Than** ( > )"
   ]
  },
  {
   "cell_type": "code",
   "execution_count": 92,
   "id": "4480eab6",
   "metadata": {},
   "outputs": [
    {
     "data": {
      "text/plain": [
       "False"
      ]
     },
     "execution_count": 92,
     "metadata": {},
     "output_type": "execute_result"
    }
   ],
   "source": [
    "x = 7\n",
    "y = 9\n",
    "x > y"
   ]
  },
  {
   "cell_type": "markdown",
   "id": "ad419b2b",
   "metadata": {},
   "source": [
    "**D. Less Than** ( < )"
   ]
  },
  {
   "cell_type": "code",
   "execution_count": 93,
   "id": "e0428026",
   "metadata": {},
   "outputs": [
    {
     "data": {
      "text/plain": [
       "True"
      ]
     },
     "execution_count": 93,
     "metadata": {},
     "output_type": "execute_result"
    }
   ],
   "source": [
    "x = 7\n",
    "y = 9\n",
    "x < y"
   ]
  },
  {
   "cell_type": "markdown",
   "id": "7e019877",
   "metadata": {},
   "source": [
    "**E. Greater Than or Equal** ( >= )"
   ]
  },
  {
   "cell_type": "code",
   "execution_count": 94,
   "id": "0cabfb57",
   "metadata": {},
   "outputs": [
    {
     "data": {
      "text/plain": [
       "False"
      ]
     },
     "execution_count": 94,
     "metadata": {},
     "output_type": "execute_result"
    }
   ],
   "source": [
    "x = 7\n",
    "y = 9\n",
    "x >= y"
   ]
  },
  {
   "cell_type": "markdown",
   "id": "6875225b",
   "metadata": {},
   "source": [
    "**F. Less Than or Equal** ( <= )"
   ]
  },
  {
   "cell_type": "code",
   "execution_count": 95,
   "id": "f24e48ca",
   "metadata": {},
   "outputs": [
    {
     "data": {
      "text/plain": [
       "True"
      ]
     },
     "execution_count": 95,
     "metadata": {},
     "output_type": "execute_result"
    }
   ],
   "source": [
    "x = 7\n",
    "y = 9\n",
    "x <= y"
   ]
  },
  {
   "cell_type": "markdown",
   "id": "0d8e0339",
   "metadata": {},
   "source": [
    "### Identity Operators"
   ]
  },
  {
   "cell_type": "markdown",
   "id": "d0fe49d9",
   "metadata": {},
   "source": [
    "**A. is**\n",
    "\n",
    "- Returns True if both variables are the same object."
   ]
  },
  {
   "cell_type": "code",
   "execution_count": 96,
   "id": "b67cefcd",
   "metadata": {},
   "outputs": [],
   "source": [
    "x1 = 5\n",
    "y1 = 5\n",
    "x2 = 'Hello'\n",
    "y2 = 'Hello'\n",
    "x3 = [1,2,3]\n",
    "y3 = [1,2,3]"
   ]
  },
  {
   "cell_type": "code",
   "execution_count": 97,
   "id": "7498f2d9",
   "metadata": {},
   "outputs": [
    {
     "name": "stdout",
     "output_type": "stream",
     "text": [
      "True\n"
     ]
    }
   ],
   "source": [
    "print(x2 is y2)"
   ]
  },
  {
   "cell_type": "code",
   "execution_count": 98,
   "id": "b5a17061",
   "metadata": {},
   "outputs": [
    {
     "name": "stdout",
     "output_type": "stream",
     "text": [
      "False\n"
     ]
    }
   ],
   "source": [
    "print(x3 is y3)"
   ]
  },
  {
   "cell_type": "markdown",
   "id": "4a667da0",
   "metadata": {},
   "source": [
    "**B. is not**\n",
    "\n",
    "- Returns True if both variables are not the same object."
   ]
  },
  {
   "cell_type": "code",
   "execution_count": 99,
   "id": "bbb49a50",
   "metadata": {},
   "outputs": [],
   "source": [
    "x1 = 5\n",
    "y1 = 5\n",
    "x2 = 'Hello'\n",
    "y2 = 'Hello'\n",
    "x3 = [1,2,3]\n",
    "y3 = [1,2,3]"
   ]
  },
  {
   "cell_type": "code",
   "execution_count": 100,
   "id": "ba7d5ff8",
   "metadata": {},
   "outputs": [
    {
     "name": "stdout",
     "output_type": "stream",
     "text": [
      "True\n"
     ]
    }
   ],
   "source": [
    "print(x3 is not y3)"
   ]
  },
  {
   "cell_type": "code",
   "execution_count": 101,
   "id": "2f4f43c1",
   "metadata": {},
   "outputs": [
    {
     "data": {
      "text/plain": [
       "4363318656"
      ]
     },
     "execution_count": 101,
     "metadata": {},
     "output_type": "execute_result"
    }
   ],
   "source": [
    "id(x3)"
   ]
  },
  {
   "cell_type": "code",
   "execution_count": 102,
   "id": "b47c4ac4",
   "metadata": {},
   "outputs": [
    {
     "data": {
      "text/plain": [
       "4362946112"
      ]
     },
     "execution_count": 102,
     "metadata": {},
     "output_type": "execute_result"
    }
   ],
   "source": [
    "id(y3)"
   ]
  },
  {
   "cell_type": "code",
   "execution_count": 103,
   "id": "94f3bf43",
   "metadata": {},
   "outputs": [
    {
     "name": "stdout",
     "output_type": "stream",
     "text": [
      "True\n"
     ]
    }
   ],
   "source": [
    "print(x2 is not y1)"
   ]
  },
  {
   "cell_type": "markdown",
   "id": "c41087c7",
   "metadata": {},
   "source": [
    "### Membership Operators"
   ]
  },
  {
   "cell_type": "markdown",
   "id": "0242c994",
   "metadata": {},
   "source": [
    "**A. in**\n",
    "\n",
    "- Returns True if a sequence with the specified value is present in the object."
   ]
  },
  {
   "cell_type": "code",
   "execution_count": 104,
   "id": "45ec4abd",
   "metadata": {},
   "outputs": [
    {
     "name": "stdout",
     "output_type": "stream",
     "text": [
      "Yes\n"
     ]
    }
   ],
   "source": [
    "l = [20,\"Hello\",36.79,\"Abhishek\",True]\n",
    "\n",
    "if \"Hello\" in l:\n",
    "    \n",
    "    print(\"Yes\")\n",
    "\n",
    "else:\n",
    "    \n",
    "    print(\"No\")"
   ]
  },
  {
   "cell_type": "markdown",
   "id": "0091c653",
   "metadata": {},
   "source": [
    "**B. not in**\n",
    "\n",
    "- Returns True if a sequence with the specified value is not present in the object."
   ]
  },
  {
   "cell_type": "code",
   "execution_count": 105,
   "id": "cd3d274f",
   "metadata": {},
   "outputs": [
    {
     "name": "stdout",
     "output_type": "stream",
     "text": [
      "No\n"
     ]
    }
   ],
   "source": [
    "l = [20,\"Hello\",36.79,\"Abhishek\",True]\n",
    "\n",
    "if 36.79 not in l:\n",
    "    \n",
    "    print(\"Yes\")\n",
    "\n",
    "else:\n",
    "    \n",
    "    print(\"No\")"
   ]
  },
  {
   "cell_type": "markdown",
   "id": "cdac3bc2",
   "metadata": {},
   "source": [
    "### Bitwise Operators"
   ]
  },
  {
   "cell_type": "markdown",
   "id": "194cb63c",
   "metadata": {},
   "source": [
    "**A. AND** ( & )\n",
    "\n",
    "- Sets each bit to 1 if both bits are 1."
   ]
  },
  {
   "cell_type": "code",
   "execution_count": null,
   "id": "1f1d8d90",
   "metadata": {},
   "outputs": [],
   "source": []
  },
  {
   "cell_type": "markdown",
   "id": "65062f79",
   "metadata": {},
   "source": [
    "**B. OR** ( | )\n",
    "\n",
    "- Sets each bit to 1 if one of two bits is 1"
   ]
  },
  {
   "cell_type": "code",
   "execution_count": null,
   "id": "da75f5f0",
   "metadata": {},
   "outputs": [],
   "source": []
  },
  {
   "cell_type": "markdown",
   "id": "d61e8663",
   "metadata": {},
   "source": [
    "**C. XOR** ( ^ )\n",
    "\n",
    "- Sets each bit to 1 if only one of two bits is 1."
   ]
  },
  {
   "cell_type": "markdown",
   "id": "d71192db",
   "metadata": {},
   "source": [
    "**D. NOT** ( ~ )\n",
    "\n",
    "- Inverts all the bits."
   ]
  },
  {
   "cell_type": "code",
   "execution_count": null,
   "id": "b5b9d8a4",
   "metadata": {},
   "outputs": [],
   "source": []
  },
  {
   "cell_type": "markdown",
   "id": "744975e1",
   "metadata": {},
   "source": [
    "**E. Zero Fill Left Shift** ( << )\n",
    "\n",
    "- Shift left by pushing zeros in from the right and let the leftmost bits fall off."
   ]
  },
  {
   "cell_type": "code",
   "execution_count": null,
   "id": "d570f5db",
   "metadata": {},
   "outputs": [],
   "source": []
  },
  {
   "cell_type": "markdown",
   "id": "e13e1e9f",
   "metadata": {},
   "source": [
    "**F. Signed Right Shift** ( >> )\n",
    "\n",
    "- Shift right by pushing copies of the leftmost bit in from the left, and let the rightmost bits fall off"
   ]
  },
  {
   "cell_type": "code",
   "execution_count": null,
   "id": "ade5b76f",
   "metadata": {},
   "outputs": [],
   "source": []
  },
  {
   "cell_type": "markdown",
   "id": "06a588b4",
   "metadata": {},
   "source": [
    "### Assignment Operators"
   ]
  },
  {
   "cell_type": "markdown",
   "id": "3a3634ab",
   "metadata": {},
   "source": [
    "- x(\"O\")= 3 i.e x = x \"o\" = 3\n",
    "\n",
    "        Where O is different operators."
   ]
  },
  {
   "cell_type": "markdown",
   "id": "2833e3e4",
   "metadata": {},
   "source": [
    "**Example**"
   ]
  },
  {
   "cell_type": "code",
   "execution_count": 106,
   "id": "3649eb34",
   "metadata": {},
   "outputs": [
    {
     "name": "stdout",
     "output_type": "stream",
     "text": [
      "2\n"
     ]
    }
   ],
   "source": [
    "x = 5\n",
    "x%= 3\n",
    "print(x) "
   ]
  },
  {
   "cell_type": "markdown",
   "id": "f289a0ad",
   "metadata": {},
   "source": [
    "- Different Operators that can be used are [ \"+=\", \"-=\", \"*=\", \"/=\", \"%=\",\"//=\", \"**=\", \"&=\",\"|=\", \"^=\", \">>=\", \"<<=\" ]"
   ]
  },
  {
   "cell_type": "markdown",
   "id": "e6f2eadb",
   "metadata": {},
   "source": [
    "## Python Built-In Mathematical Operations"
   ]
  },
  {
   "cell_type": "markdown",
   "id": "30de63e3",
   "metadata": {},
   "source": [
    "#### A. abs( ) \n",
    "\n",
    "- Gives absolute value of any number."
   ]
  },
  {
   "cell_type": "markdown",
   "id": "dd9da8ea",
   "metadata": {},
   "source": [
    "**Example**"
   ]
  },
  {
   "cell_type": "code",
   "execution_count": 107,
   "id": "6ce99e9a",
   "metadata": {},
   "outputs": [
    {
     "data": {
      "text/plain": [
       "98.69"
      ]
     },
     "execution_count": 107,
     "metadata": {},
     "output_type": "execute_result"
    }
   ],
   "source": [
    "abs(98.69)"
   ]
  },
  {
   "cell_type": "code",
   "execution_count": 108,
   "id": "4ac4c8d6",
   "metadata": {},
   "outputs": [
    {
     "data": {
      "text/plain": [
       "98.69"
      ]
     },
     "execution_count": 108,
     "metadata": {},
     "output_type": "execute_result"
    }
   ],
   "source": [
    "abs(-98.69)"
   ]
  },
  {
   "cell_type": "markdown",
   "id": "52b2bc30",
   "metadata": {},
   "source": [
    "#### B. divmod( )\n",
    "\n",
    "- It gives quotent (% modular) and remainder (//)."
   ]
  },
  {
   "cell_type": "markdown",
   "id": "c0382742",
   "metadata": {},
   "source": [
    "**Example**"
   ]
  },
  {
   "cell_type": "code",
   "execution_count": 109,
   "id": "831d6a32",
   "metadata": {},
   "outputs": [
    {
     "data": {
      "text/plain": [
       "(6, 3)"
      ]
     },
     "execution_count": 109,
     "metadata": {},
     "output_type": "execute_result"
    }
   ],
   "source": [
    "divmod(27,4)"
   ]
  },
  {
   "cell_type": "markdown",
   "id": "c5a96c19",
   "metadata": {},
   "source": [
    "#### C. min( ), max( )"
   ]
  },
  {
   "cell_type": "markdown",
   "id": "8ae65a28",
   "metadata": {},
   "source": [
    "**Example**"
   ]
  },
  {
   "cell_type": "code",
   "execution_count": 110,
   "id": "822c2cf3",
   "metadata": {},
   "outputs": [
    {
     "data": {
      "text/plain": [
       "24"
      ]
     },
     "execution_count": 110,
     "metadata": {},
     "output_type": "execute_result"
    }
   ],
   "source": [
    "min(76,85,24,85,74,24)"
   ]
  },
  {
   "cell_type": "code",
   "execution_count": 111,
   "id": "5a93abfe",
   "metadata": {},
   "outputs": [
    {
     "data": {
      "text/plain": [
       "85"
      ]
     },
     "execution_count": 111,
     "metadata": {},
     "output_type": "execute_result"
    }
   ],
   "source": [
    "max(76,85,24,85,74,24)"
   ]
  },
  {
   "cell_type": "markdown",
   "id": "0f19b152",
   "metadata": {},
   "source": [
    "#### D. round( )"
   ]
  },
  {
   "cell_type": "markdown",
   "id": "7468f947",
   "metadata": {},
   "source": [
    "**Example**"
   ]
  },
  {
   "cell_type": "code",
   "execution_count": 112,
   "id": "8f4e9634",
   "metadata": {},
   "outputs": [
    {
     "data": {
      "text/plain": [
       "10"
      ]
     },
     "execution_count": 112,
     "metadata": {},
     "output_type": "execute_result"
    }
   ],
   "source": [
    "round(9.8)"
   ]
  },
  {
   "cell_type": "code",
   "execution_count": 113,
   "id": "bae471f4",
   "metadata": {},
   "outputs": [
    {
     "data": {
      "text/plain": [
       "7"
      ]
     },
     "execution_count": 113,
     "metadata": {},
     "output_type": "execute_result"
    }
   ],
   "source": [
    "round(7.4)"
   ]
  },
  {
   "cell_type": "markdown",
   "id": "4624ea0c",
   "metadata": {},
   "source": [
    "- Round about 2 decimal places."
   ]
  },
  {
   "cell_type": "code",
   "execution_count": 114,
   "id": "a76ffdda",
   "metadata": {},
   "outputs": [
    {
     "data": {
      "text/plain": [
       "97.55"
      ]
     },
     "execution_count": 114,
     "metadata": {},
     "output_type": "execute_result"
    }
   ],
   "source": [
    "round(97.54622,2)"
   ]
  },
  {
   "cell_type": "markdown",
   "id": "067320ca",
   "metadata": {},
   "source": [
    "#### E. sum( )"
   ]
  },
  {
   "cell_type": "markdown",
   "id": "45af7c18",
   "metadata": {},
   "source": [
    "**Example**"
   ]
  },
  {
   "cell_type": "code",
   "execution_count": 115,
   "id": "a12768a6",
   "metadata": {},
   "outputs": [
    {
     "data": {
      "text/plain": [
       "306"
      ]
     },
     "execution_count": 115,
     "metadata": {},
     "output_type": "execute_result"
    }
   ],
   "source": [
    "sum([56,76,87,64,23])"
   ]
  },
  {
   "cell_type": "markdown",
   "id": "4911fa2e",
   "metadata": {},
   "source": [
    "#### F. range( )( start, stop, step)\n",
    "\n",
    "- If no start or step is given, range(stop)."
   ]
  },
  {
   "cell_type": "markdown",
   "id": "c672f705",
   "metadata": {},
   "source": [
    "**Example**"
   ]
  },
  {
   "cell_type": "code",
   "execution_count": 116,
   "id": "886c26fc",
   "metadata": {},
   "outputs": [
    {
     "data": {
      "text/plain": [
       "[4, 7, 10, 13, 16]"
      ]
     },
     "execution_count": 116,
     "metadata": {},
     "output_type": "execute_result"
    }
   ],
   "source": [
    "list(range(4,19,3))"
   ]
  },
  {
   "cell_type": "markdown",
   "id": "a6bb8cc6",
   "metadata": {},
   "source": [
    "**Continued......**"
   ]
  }
 ],
 "metadata": {
  "kernelspec": {
   "display_name": "Python 3 (ipykernel)",
   "language": "python",
   "name": "python3"
  },
  "language_info": {
   "codemirror_mode": {
    "name": "ipython",
    "version": 3
   },
   "file_extension": ".py",
   "mimetype": "text/x-python",
   "name": "python",
   "nbconvert_exporter": "python",
   "pygments_lexer": "ipython3",
   "version": "3.11.4"
  }
 },
 "nbformat": 4,
 "nbformat_minor": 5
}
